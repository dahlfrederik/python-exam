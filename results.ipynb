{
 "cells": [
  {
   "cell_type": "code",
   "execution_count": 10,
   "metadata": {
    "scrolled": true
   },
   "outputs": [
    {
     "ename": "AttributeError",
     "evalue": "module 'modules.photohandling' has no attribute 'find_numberplate'",
     "output_type": "error",
     "traceback": [
      "\u001b[0;31m---------------------------------------------------------------------------\u001b[0m",
      "\u001b[0;31mAttributeError\u001b[0m                            Traceback (most recent call last)",
      "\u001b[0;32m<ipython-input-10-76d48c394afd>\u001b[0m in \u001b[0;36m<module>\u001b[0;34m\u001b[0m\n\u001b[1;32m      1\u001b[0m \u001b[0;32mfrom\u001b[0m \u001b[0mmodules\u001b[0m \u001b[0;32mimport\u001b[0m \u001b[0mphotohandling\u001b[0m \u001b[0;32mas\u001b[0m \u001b[0mph\u001b[0m\u001b[0;34m\u001b[0m\u001b[0;34m\u001b[0m\u001b[0m\n\u001b[0;32m----> 2\u001b[0;31m \u001b[0mph\u001b[0m\u001b[0;34m.\u001b[0m\u001b[0mfind_numberplate\u001b[0m\u001b[0;34m(\u001b[0m\u001b[0;34m)\u001b[0m\u001b[0;34m\u001b[0m\u001b[0;34m\u001b[0m\u001b[0m\n\u001b[0m",
      "\u001b[0;31mAttributeError\u001b[0m: module 'modules.photohandling' has no attribute 'find_numberplate'"
     ]
    }
   ],
   "source": [
    "from modules import photohandling as ph\n",
    "ph.find_numberplate()"
   ]
  },
  {
   "cell_type": "code",
   "execution_count": null,
   "metadata": {},
   "outputs": [],
   "source": [
    "import sys\n",
    "import modules.regression as regression\n",
    "\n",
    "import pandas as pd\n",
    "\n",
    "# import module that returns a dataframe\n",
    "# IMPORTANT !!\n",
    "#\n",
    "\n",
    "# Should be values returned from webscraping module\n",
    "d = {'name': [\"Tesla Model S 85 5d\", \"Tesla Model S 75D 5d\"],\n",
    "     'km': [141000, 36000], \"price\": [299700, 589900], \"year\": [2014, 2019]}\n",
    "df = pd.DataFrame(data=d)\n",
    "search_car_km = 93000\n",
    "search_car_year = 2010\n",
    "##\n",
    "find_car = regression.find_car_value(\n",
    "    df, search_car_km, search_car_year)\n",
    "\n",
    "find_car.show_dataframe()\n",
    "find_car.normalize_data()\n",
    "find_car.describe_data()\n",
    "find_car.train_model()\n",
    "find_car.show_coff_and_interception()\n",
    "find_car.prediction_vs_real()\n",
    "find_car.predict_car_value()"
   ]
  }
 ],
 "metadata": {
  "kernelspec": {
   "display_name": "Python 3",
   "language": "python",
   "name": "python3"
  },
  "language_info": {
   "codemirror_mode": {
    "name": "ipython",
    "version": 3
   },
   "file_extension": ".py",
   "mimetype": "text/x-python",
   "name": "python",
   "nbconvert_exporter": "python",
   "pygments_lexer": "ipython3",
   "version": "3.7.6"
  }
 },
 "nbformat": 4,
 "nbformat_minor": 4
}
