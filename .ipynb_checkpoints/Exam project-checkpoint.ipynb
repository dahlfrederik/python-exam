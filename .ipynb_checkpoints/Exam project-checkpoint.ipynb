{
 "cells": [
  {
   "cell_type": "markdown",
   "metadata": {},
   "source": [
    "## This is for the exam project\n"
   ]
  },
  {
   "cell_type": "code",
   "execution_count": 1,
   "metadata": {},
   "outputs": [],
   "source": [
    "##Imports\n",
    "from time import sleep\n",
    "from selenium import webdriver\n",
    "from selenium.webdriver.firefox.options import Options\n",
    "from bs4 import BeautifulSoup as soup\n",
    "import bs4\n",
    "import requests\n",
    "import re\n",
    "import sys"
   ]
  },
  {
   "cell_type": "markdown",
   "metadata": {},
   "source": [
    "### Numberplate to string without img handling"
   ]
  },
  {
   "cell_type": "code",
   "execution_count": 2,
   "metadata": {},
   "outputs": [
    {
     "name": "stdout",
     "output_type": "stream",
     "text": [
      " \n",
      "\f",
      "\n"
     ]
    }
   ],
   "source": [
    "import cv2\n",
    "import pytesseract\n",
    "#pytesseract.pytesseract.tesseract_cmd = r'/usr/bin/tesseract'\n",
    "pytesseract.pytesseract.tesseract_cmd = r'/opt/homebrew/Cellar/tesseract/4.1.1/bin/tesseract'\n",
    "img = cv2.imread(\"./images/numberplate8.png\")\n",
    "text = pytesseract.image_to_string(img)\n",
    "print(text)\n"
   ]
  },
  {
   "cell_type": "markdown",
   "metadata": {},
   "source": [
    "### Numberplate to string with img handling"
   ]
  },
  {
   "cell_type": "code",
   "execution_count": 3,
   "metadata": {
    "scrolled": true
   },
   "outputs": [
    {
     "ename": "ModuleNotFoundError",
     "evalue": "No module named 'imutils'",
     "output_type": "error",
     "traceback": [
      "\u001b[0;31m---------------------------------------------------------------------------\u001b[0m",
      "\u001b[0;31mModuleNotFoundError\u001b[0m                       Traceback (most recent call last)",
      "\u001b[0;32m<ipython-input-3-659a0be5a484>\u001b[0m in \u001b[0;36m<module>\u001b[0;34m\u001b[0m\n\u001b[1;32m      1\u001b[0m \u001b[0;32mimport\u001b[0m \u001b[0mcv2\u001b[0m\u001b[0;34m\u001b[0m\u001b[0;34m\u001b[0m\u001b[0m\n\u001b[0;32m----> 2\u001b[0;31m \u001b[0;32mimport\u001b[0m \u001b[0mimutils\u001b[0m\u001b[0;34m\u001b[0m\u001b[0;34m\u001b[0m\u001b[0m\n\u001b[0m\u001b[1;32m      3\u001b[0m \u001b[0;32mimport\u001b[0m \u001b[0mnumpy\u001b[0m \u001b[0;32mas\u001b[0m \u001b[0mnp\u001b[0m\u001b[0;34m\u001b[0m\u001b[0;34m\u001b[0m\u001b[0m\n\u001b[1;32m      4\u001b[0m \u001b[0;32mimport\u001b[0m \u001b[0mpytesseract\u001b[0m\u001b[0;34m\u001b[0m\u001b[0;34m\u001b[0m\u001b[0m\n\u001b[1;32m      5\u001b[0m \u001b[0mpytesseract\u001b[0m\u001b[0;34m.\u001b[0m\u001b[0mpytesseract\u001b[0m\u001b[0;34m.\u001b[0m\u001b[0mtesseract_cmd\u001b[0m \u001b[0;34m=\u001b[0m \u001b[0;34mr'/usr/bin/tesseract'\u001b[0m\u001b[0;34m\u001b[0m\u001b[0;34m\u001b[0m\u001b[0m\n",
      "\u001b[0;31mModuleNotFoundError\u001b[0m: No module named 'imutils'"
     ]
    }
   ],
   "source": [
    "import cv2\n",
    "import imutils\n",
    "import numpy as np\n",
    "import pytesseract\n",
    "pytesseract.pytesseract.tesseract_cmd = r'/usr/bin/tesseract'\n",
    "\n",
    "img2 = cv2.imread('./images/numberplate3.png',cv2.IMREAD_COLOR)\n",
    "#img2 = cv2.resize(img, (600,400) )\n",
    "\n",
    "gray = cv2.cvtColor(img2, cv2.COLOR_BGR2GRAY) \n",
    "gray = cv2.bilateralFilter(gray, 13, 15, 15) \n",
    "\n",
    "edged = cv2.Canny(gray, 30, 200) \n",
    "contours = cv2.findContours(edged.copy(), cv2.RETR_TREE, cv2.CHAIN_APPROX_SIMPLE)\n",
    "contours = imutils.grab_contours(contours)\n",
    "contours = sorted(contours, key = cv2.contourArea, reverse = True)[:10]\n",
    "screenCnt = None\n",
    "\n",
    "for c in contours:\n",
    "    peri = cv2.arcLength(c, True)\n",
    "    approx = cv2.approxPolyDP(c, 0.018 * peri, True)\n",
    " \n",
    "    if len(approx) == 4:\n",
    "        screenCnt = approx\n",
    "        break\n",
    "\n",
    "if screenCnt is None:\n",
    "    detected = 0\n",
    "    print (\"No contour detected\")\n",
    "else:\n",
    "     detected = 1\n",
    "\n",
    "if detected == 1:\n",
    "    cv2.drawContours(img, [screenCnt], -1, (0, 0, 255), 3)\n",
    "\n",
    "mask = np.zeros(gray.shape,np.uint8)\n",
    "new_image = cv2.drawContours(mask,[screenCnt],0,255,-1,)\n",
    "#new_image = cv2.bitwise_and(img,img,mask=mask)\n",
    "\n",
    "(x, y) = np.where(mask == 255)\n",
    "(topx, topy) = (np.min(x), np.min(y))\n",
    "(bottomx, bottomy) = (np.max(x), np.max(y))\n",
    "Cropped = gray[topx:bottomx+1, topy:bottomy+1]\n",
    "\n",
    "text = pytesseract.image_to_string(Cropped, config='--psm 11')\n",
    "print(\"Nummerplade: \",text)\n",
    "img2 = cv2.resize(img,(500,300))\n",
    "Cropped = cv2.resize(Cropped,(400,200))\n",
    "cv2.imshow('car',img)\n",
    "cv2.imshow('Cropped',Cropped)\n",
    "\n",
    "cv2.waitKey(0)\n",
    "cv2.destroyAllWindows()"
   ]
  },
  {
   "cell_type": "markdown",
   "metadata": {},
   "source": [
    "### Entering numberplate on nummerplade.net to find model"
   ]
  },
  {
   "cell_type": "code",
   "execution_count": 11,
   "metadata": {
    "scrolled": true
   },
   "outputs": [
    {
     "name": "stdout",
     "output_type": "stream",
     "text": [
      "Starting up..\n",
      "Got Browser\n",
      "Search Entered\n",
      "\n",
      "Søgte bil:  Toyota Aygo\n"
     ]
    }
   ],
   "source": [
    "print(\"Starting up..\")\n",
    "profile = webdriver.FirefoxProfile()\n",
    "profile.set_preference(\"general.useragent.override\", \"Mozilla/5.0 (X11; Ubuntu; Linux x86_64; rv:81.0) Gecko/20100101 Firefox/81.0\")\n",
    "options = Options()\n",
    "options.headless = True\n",
    "\n",
    "# Lav jeres egen driver! \n",
    "browser = webdriver.Chrome(executable_path=\"/Users/frederikdahl/chromedriver/chromedriver\")\n",
    "\n",
    "\n",
    "#browser = webdriver.Firefox(options=options)\n",
    "\n",
    "browser.get(\"https://www.nummerplade.net/\")\n",
    "\n",
    "print(\"Got Browser\")\n",
    "\n",
    "browser.implicitly_wait(3)\n",
    "\n",
    "#cookie_button = browser.find_element_by_css_selector('div.coi-banner__page-footer:nth-child(2) > button:nth-child(2)')\n",
    "#cookie_button.click()\n",
    "#print(\"Cookie Button Clicked..\")\n",
    "#sleep(3) \n",
    "\n",
    "search_field = browser.find_element_by_id('search_regnr')\n",
    "\n",
    "search_field.send_keys(\"CR 79 282\")\n",
    "\n",
    "button = browser.find_element_by_id('search_regnr_button')\n",
    "button.click()\n",
    "print(\"Search Entered\")\n",
    "sleep(3)\n",
    "\n",
    "print()\n",
    "\n",
    "page_source = browser.page_source\n",
    "page_soup = soup(page_source,'html.parser')\n",
    "res = page_soup.select_one(\"#maerke\").text +\" \"+ page_soup.select_one(\"#model\").text + \"\"\n",
    "\n",
    "print(\"Søgte bil: \", res)\n",
    "browser.quit()"
   ]
  },
  {
   "cell_type": "markdown",
   "metadata": {},
   "source": [
    "### Searching for model on bilbasen to get model,price,km, "
   ]
  },
  {
   "cell_type": "code",
   "execution_count": 18,
   "metadata": {},
   "outputs": [
    {
     "name": "stdout",
     "output_type": "stream",
     "text": [
      "Starting up...\n",
      "Got Browser\n",
      "Cookie Button Clicked\n",
      "\n",
      "Leasing Button Clicked\n",
      "\n",
      "Search Bar Entered\n",
      "\n",
      "Searching for: Toyota Aygo ...\n",
      "Souping Site...\n",
      "\n",
      "Cars found: 31\n",
      "{'name': 'Toyota Aygo 1,0 VVT-i x-press 5d', 'km': 54000, 'price': '56900', 'year': 2014}\n",
      "{'name': 'Toyota Aygo 1,0 VVT-i x-change 5d', 'km': 98000, 'price': '59900', 'year': 2015}\n",
      "{'name': 'Toyota Aygo 1,0 VVT-i x-play 5d', 'km': 39000, 'price': '69900', 'year': 2016}\n",
      "{'name': 'Toyota Aygo 1,0 VVT-i x-black 5d', 'km': 67000, 'price': '77900', 'year': 2015}\n",
      "{'name': 'Toyota Aygo 1,0 VVT-i x-sky 5d', 'km': 65000, 'price': '72900', 'year': 2017}\n",
      "{'name': 'Toyota Aygo 1,0 VVT-i x-press 5d', 'km': 5071, 'price': '109900', 'year': 2020}\n",
      "{'name': 'Toyota Aygo 1,0 Air+ 5d', 'km': 220000, 'price': '16900', 'year': 2011}\n",
      "{'name': 'Toyota Aygo 1,0 VVT-i x-wave Sky 5d', 'km': 45000, 'price': '71900', 'year': 2015}\n",
      "{'name': 'Toyota Aygo 1,0 VVT-i x-play Touch 5d', 'km': 47000, 'price': '74900', 'year': 2017}\n",
      "{'name': 'Toyota Aygo 1,0 VVT-i x-touch 5d', 'km': 155000, 'price': '62500', 'year': 2015}\n",
      "{'name': 'Toyota Aygo 1,0 VVT-i x-press 5d', 'km': 72000, 'price': '63800', 'year': 2014}\n",
      "{'name': 'Toyota Aygo 1,0 VVT-i x-clusiv 5d', 'km': 109000, 'price': '69800', 'year': 2015}\n",
      "{'name': 'Toyota Aygo 1,0 VVT-i x-press 5d', 'km': 6900, 'price': '102900', 'year': 2020}\n",
      "{'name': 'Toyota Aygo 1,0 VVT-i x-press 5d', 'km': 10000, 'price': '104000', 'year': 2020}\n",
      "{'name': 'Toyota Aygo 1,0 VVT-i x-sky 5d', 'km': 48000, 'price': '84900', 'year': 2015}\n",
      "{'name': 'Toyota Aygo 1,0 VVT-i x-sky 5d', 'km': 44000, 'price': '79900', 'year': 2015}\n",
      "{'name': 'Toyota Aygo 1,0 VVT-i x-play 5d', 'km': 56000, 'price': '59900', 'year': 2015}\n",
      "{'name': 'Toyota Aygo 1,0 VVT-i T2 Air+ 5d', 'km': 118000, 'price': '42900', 'year': 2013}\n",
      "{'name': 'Toyota Aygo 1,0  5d', 'km': 160000, 'price': '24800', 'year': 2009}\n",
      "{'name': 'Toyota Aygo 1,0 VVT-i x-play Touch 5d', 'km': 57000, 'price': '62990', 'year': 2015}\n",
      "{'name': 'Toyota Aygo 1,0 VVT-i x-pression 5d', 'km': 16000, 'price': '94900', 'year': 2020}\n",
      "{'name': 'Toyota Aygo 1,0 VVT-i x-clusiv 5d', 'km': 11000, 'price': '104900', 'year': 2019}\n",
      "{'name': 'Toyota Aygo 1,0 VVT-i x-cellence 5d', 'km': 28000, 'price': '84800', 'year': 2018}\n",
      "{'name': 'Toyota Aygo 1,0 VVT-i Black&White 5d', 'km': 179000, 'price': '35000', 'year': 2014}\n",
      "{'name': 'Toyota Aygo 1,0 VVT-i x-press 5d', 'km': 107000, 'price': '53700', 'year': 2014}\n",
      "{'name': 'Toyota Aygo 1,0 VVT-i x-cellence 5d', 'km': 27000, 'price': '84900', 'year': 2018}\n",
      "{'name': 'Toyota Aygo 1,0 VVT-i T2 5d', 'km': 161000, 'price': '39900', 'year': 2013}\n",
      "{'name': 'Toyota Aygo 1,0 VVT-i x-wave Sky 5d', 'km': 81700, 'price': '72900', 'year': 2015}\n",
      "{'name': 'Toyota Aygo 1,0 VVT-i x 5d', 'km': 91000, 'price': '54900', 'year': 2015}\n",
      "{'name': 'Toyota Aygo 1,0 VVT-i x-cellence 5d', 'km': 57000, 'price': '79999', 'year': 2017}\n",
      "{'name': 'Toyota Aygo 1,0  5d', 'km': 90000, 'price': '31900', 'year': 2008}\n"
     ]
    }
   ],
   "source": [
    "base_url = 'https://www.bilbasen.dk/'\n",
    "\n",
    "class my_car:\n",
    "    def __init__(self, url):\n",
    "        self.base_url = url\n",
    "        self.car_list = []\n",
    "        \n",
    "        print(\"Starting up...\")\n",
    "        \n",
    "        profile = webdriver.FirefoxProfile()\n",
    "        profile.set_preference(\"general.useragent.override\", \"Mozilla/5.0 (X11; Ubuntu; Linux x86_64; rv:81.0) Gecko/20100101 Firefox/81.0\")\n",
    "        options = Options()\n",
    "        options.headless = True\n",
    "        \n",
    "        #self.browser = webdriver.Firefox(options=options)\n",
    "        \n",
    "        self.browser  = webdriver.Chrome(executable_path=\"/Users/frederikdahl/chromedriver/chromedriver\")\n",
    "        \n",
    "        self.browser.get(self.base_url)\n",
    "        print(\"Got Browser\")\n",
    "        \n",
    "        self.browser.implicitly_wait(3)\n",
    "        \n",
    "    def click_cookie_button(self):\n",
    "        try:\n",
    "            cookie_button = self.browser.find_element_by_id('onetrust-accept-btn-handler')\n",
    "            try:\n",
    "                cookie_button.click()\n",
    "                print(\"Cookie Button Clicked\")\n",
    "                print()\n",
    "                sleep(3)   \n",
    "            except Exception as err:\n",
    "                print('Error With Cookie Button:', err)\n",
    "        except Exception as err:\n",
    "            print(err)\n",
    "            \n",
    "    def click_leasing_button(self):\n",
    "        try:\n",
    "            leasing_button = self.browser.find_element_by_css_selector(\"label[data-track-action='leasing-toggle']\")\n",
    "            try:\n",
    "                leasing_button.click()\n",
    "                print(\"Leasing Button Clicked\")\n",
    "                print()\n",
    "                sleep(3)   \n",
    "            except Exception as err:\n",
    "                print('Error With Leasing Button:', err)\n",
    "        except Exception as err:\n",
    "            print(err)\n",
    "        \n",
    "    def search_in_search_bar(self, search_text):\n",
    "        try:\n",
    "            search_field = self.browser.find_element_by_class_name('react-autosuggest__input')\n",
    "            search_field.send_keys(search_text)\n",
    "            search_field.submit()\n",
    "            print(\"Search Bar Entered\")\n",
    "            print()\n",
    "            sleep(3)\n",
    "\n",
    "        except Exception as err:\n",
    "            print('Error with Search', err)\n",
    "\n",
    "    def get_car_list(self):\n",
    "        print(\"Souping Site...\")\n",
    "        print()\n",
    "        page_source = self.browser.page_source\n",
    "        page_soup = soup(page_source,'html.parser')\n",
    "        car_list_plus = page_soup.findAll(\"div\",{\"class\":\"row listing listing-plus bb-listing-clickable\"})\n",
    "        car_list_discount = page_soup.findAll(\"div\",{\"class\":\"row listing listing-discount bb-listing-clickable\"})\n",
    "        full_list = car_list_plus + car_list_discount\n",
    "        print(\"Cars found: \" + str(len(full_list)))\n",
    "        for car in full_list:\n",
    "            name = car.find(\"a\",{\"class\":\"listing-heading darkLink\"}).contents[0]\n",
    "            km = int(car.findAll(\"div\",{\"class\":\"col-xs-2 listing-data\"})[1].contents[0].replace('.',''))\n",
    "            price = car.find(\"div\",{\"class\":\"col-xs-3 listing-price\"}).contents[0].replace(' kr.','').replace('.','')\n",
    "            year = int(car.findAll(\"div\",{\"class\":\"col-xs-2 listing-data\"})[2].contents[0])\n",
    "            car_info = {\"name\": name, \"km\": km, \"price\": price, \"year\": year}\n",
    "            self.car_list.append(car_info)\n",
    "            print(car_info) \n",
    "            \n",
    "    def close_browser(self):\n",
    "        self.browser.close()\n",
    "    \n",
    "bilbasen = my_car(base_url)\n",
    "bilbasen.click_cookie_button()\n",
    "bilbasen.click_leasing_button()\n",
    "bilbasen.search_in_search_bar(res)\n",
    "print(\"Searching for: \" + res + \" ...\")\n",
    "bilbasen.get_car_list()\n",
    "bilbasen.close_browser()\n",
    "make_me_dataframe = bilbasen.car_list"
   ]
  },
  {
   "cell_type": "code",
   "execution_count": 139,
   "metadata": {},
   "outputs": [
    {
     "data": {
      "text/html": [
       "<div>\n",
       "<style scoped>\n",
       "    .dataframe tbody tr th:only-of-type {\n",
       "        vertical-align: middle;\n",
       "    }\n",
       "\n",
       "    .dataframe tbody tr th {\n",
       "        vertical-align: top;\n",
       "    }\n",
       "\n",
       "    .dataframe thead th {\n",
       "        text-align: right;\n",
       "    }\n",
       "</style>\n",
       "<table border=\"1\" class=\"dataframe\">\n",
       "  <thead>\n",
       "    <tr style=\"text-align: right;\">\n",
       "      <th></th>\n",
       "      <th>name</th>\n",
       "      <th>km</th>\n",
       "      <th>price</th>\n",
       "      <th>year</th>\n",
       "    </tr>\n",
       "  </thead>\n",
       "  <tbody>\n",
       "    <tr>\n",
       "      <th>0</th>\n",
       "      <td>Toyota Aygo 1,0 VVT-i x-press 5d</td>\n",
       "      <td>54000</td>\n",
       "      <td>56900</td>\n",
       "      <td>2014</td>\n",
       "    </tr>\n",
       "    <tr>\n",
       "      <th>1</th>\n",
       "      <td>Toyota Aygo 1,0 VVT-i x-change 5d</td>\n",
       "      <td>98000</td>\n",
       "      <td>59900</td>\n",
       "      <td>2015</td>\n",
       "    </tr>\n",
       "    <tr>\n",
       "      <th>2</th>\n",
       "      <td>Toyota Aygo 1,0 VVT-i x-play 5d</td>\n",
       "      <td>39000</td>\n",
       "      <td>69900</td>\n",
       "      <td>2016</td>\n",
       "    </tr>\n",
       "    <tr>\n",
       "      <th>3</th>\n",
       "      <td>Toyota Aygo 1,0 VVT-i x-black 5d</td>\n",
       "      <td>67000</td>\n",
       "      <td>77900</td>\n",
       "      <td>2015</td>\n",
       "    </tr>\n",
       "    <tr>\n",
       "      <th>4</th>\n",
       "      <td>Toyota Aygo 1,0 VVT-i x-sky 5d</td>\n",
       "      <td>65000</td>\n",
       "      <td>72900</td>\n",
       "      <td>2017</td>\n",
       "    </tr>\n",
       "  </tbody>\n",
       "</table>\n",
       "</div>"
      ],
      "text/plain": [
       "                                name     km  price  year\n",
       "0   Toyota Aygo 1,0 VVT-i x-press 5d  54000  56900  2014\n",
       "1  Toyota Aygo 1,0 VVT-i x-change 5d  98000  59900  2015\n",
       "2    Toyota Aygo 1,0 VVT-i x-play 5d  39000  69900  2016\n",
       "3   Toyota Aygo 1,0 VVT-i x-black 5d  67000  77900  2015\n",
       "4     Toyota Aygo 1,0 VVT-i x-sky 5d  65000  72900  2017"
      ]
     },
     "execution_count": 139,
     "metadata": {},
     "output_type": "execute_result"
    }
   ],
   "source": [
    "import pandas as pd\n",
    "\n",
    "# Import the data into a Pandas dataframe \n",
    "data = pd.DataFrame(make_me_dataframe)\n",
    "# Show the head of the dataframe \n",
    "data.head()"
   ]
  },
  {
   "cell_type": "code",
   "execution_count": 149,
   "metadata": {},
   "outputs": [
    {
     "data": {
      "text/html": [
       "<div>\n",
       "<style scoped>\n",
       "    .dataframe tbody tr th:only-of-type {\n",
       "        vertical-align: middle;\n",
       "    }\n",
       "\n",
       "    .dataframe tbody tr th {\n",
       "        vertical-align: top;\n",
       "    }\n",
       "\n",
       "    .dataframe thead th {\n",
       "        text-align: right;\n",
       "    }\n",
       "</style>\n",
       "<table border=\"1\" class=\"dataframe\">\n",
       "  <thead>\n",
       "    <tr style=\"text-align: right;\">\n",
       "      <th></th>\n",
       "      <th>km</th>\n",
       "      <th>year</th>\n",
       "    </tr>\n",
       "  </thead>\n",
       "  <tbody>\n",
       "    <tr>\n",
       "      <th>0</th>\n",
       "      <td>0.227652</td>\n",
       "      <td>0.500000</td>\n",
       "    </tr>\n",
       "    <tr>\n",
       "      <th>1</th>\n",
       "      <td>0.432371</td>\n",
       "      <td>0.583333</td>\n",
       "    </tr>\n",
       "    <tr>\n",
       "      <th>2</th>\n",
       "      <td>0.157861</td>\n",
       "      <td>0.666667</td>\n",
       "    </tr>\n",
       "    <tr>\n",
       "      <th>3</th>\n",
       "      <td>0.288137</td>\n",
       "      <td>0.583333</td>\n",
       "    </tr>\n",
       "    <tr>\n",
       "      <th>4</th>\n",
       "      <td>0.278832</td>\n",
       "      <td>0.750000</td>\n",
       "    </tr>\n",
       "  </tbody>\n",
       "</table>\n",
       "</div>"
      ],
      "text/plain": [
       "         km      year\n",
       "0  0.227652  0.500000\n",
       "1  0.432371  0.583333\n",
       "2  0.157861  0.666667\n",
       "3  0.288137  0.583333\n",
       "4  0.278832  0.750000"
      ]
     },
     "execution_count": 149,
     "metadata": {},
     "output_type": "execute_result"
    }
   ],
   "source": [
    "from sklearn import preprocessing\n",
    "import sklearn.linear_model\n",
    "\n",
    "\n",
    "#Remove outliers fra data (dataFrame)\n",
    "\n",
    "#Hint ???: df[column name'] < df['column name'].quantile(0.90)\n",
    "#outliers = gasoline[gasoline] < dataFrame['Fuel Information.Fuel Type'].quantile(0.90)\n",
    "\n",
    "## Remove outliers \n",
    "\n",
    "\n",
    "## \n",
    "\n",
    "#Only use 2 features : 'Fuel Information.Highway mpg' and 'Engine Information.Engine Statistics.Horsepower'\n",
    "\n",
    "features = data[['km', 'year']]\n",
    "\n",
    "\n",
    "#Normalize data (reduce values to be between 0 and 1)\n",
    "scaler = preprocessing.MinMaxScaler()\n",
    "names = features.columns\n",
    "d = scaler.fit_transform(features)\n",
    "scaled_df = pd.DataFrame(d, columns=names)\n",
    "scaled_df.head()\n",
    "\n"
   ]
  },
  {
   "cell_type": "code",
   "execution_count": 150,
   "metadata": {},
   "outputs": [
    {
     "name": "stdout",
     "output_type": "stream",
     "text": [
      "Coef:  [-0.70862703]\n",
      "The coef contain the coefficients for the prediction of each of the targets.\n",
      "When X = 1, Y will be 0.1374872828732614 according to our model \n"
     ]
    },
    {
     "data": {
      "text/plain": [
       "[<matplotlib.lines.Line2D at 0x7fa4f50d6dc0>]"
      ]
     },
     "execution_count": 150,
     "metadata": {},
     "output_type": "execute_result"
    },
    {
     "data": {
      "image/png": "[encoded data removed]",
      "text/plain": [
       "<Figure size 432x288 with 1 Axes>"
      ]
     },
     "metadata": {
      "needs_background": "light"
     },
     "output_type": "display_data"
    }
   ],
   "source": [
    "# Perform linear regression where x = horsepower and y = mpg\n",
    "\n",
    "xs = scaled_df['km']\n",
    "ys = scaled_df['year']\n",
    "\n",
    "xs_reshape = np.array(xs).reshape(-1, 1)\n",
    "\n",
    "model = sklearn.linear_model.LinearRegression()\n",
    "model.fit(xs_reshape, ys)\n",
    "\n",
    "# What is the coefficient (slope) of your model? What does this number mean? \n",
    "print(\"Coef: \", model.coef_ , )\n",
    "print(\"The coef contain the coefficients for the prediction of each of the targets.\")\n",
    "\n",
    "# According to your model, what is y when x=1. \n",
    "predicted = model.predict(xs_reshape)\n",
    "xwheny1 = model.predict([[1]])\n",
    "print('When X = 1, Y will be {} according to our model '.format(xwheny1[0]))\n",
    "\n",
    "# Show the regression line on a scatterplot with the other datapoints.\n",
    "scaled_df.plot.scatter(x = 0, y = 1)\n",
    "\n",
    "m, b = np.polyfit(xs, ys, 1)\n",
    "plt.plot(xs, m*xs + b)\n",
    "\n",
    "\n"
   ]
  },
  {
   "cell_type": "code",
   "execution_count": 152,
   "metadata": {},
   "outputs": [
    {
     "ename": "ValueError",
     "evalue": "Expected 2D array, got 1D array instead:\narray=[  2012 100000].\nReshape your data either using array.reshape(-1, 1) if your data has a single feature or array.reshape(1, -1) if it contains a single sample.",
     "output_type": "error",
     "traceback": [
      "\u001b[0;31m---------------------------------------------------------------------------\u001b[0m",
      "\u001b[0;31mValueError\u001b[0m                                Traceback (most recent call last)",
      "\u001b[0;32m<ipython-input-152-a5fb0a12d476>\u001b[0m in \u001b[0;36m<module>\u001b[0;34m\u001b[0m\n\u001b[1;32m      3\u001b[0m \u001b[0;31m# Funktionalitet til at få pris ud fra modellen\u001b[0m\u001b[0;34m\u001b[0m\u001b[0;34m\u001b[0m\u001b[0;34m\u001b[0m\u001b[0m\n\u001b[1;32m      4\u001b[0m \u001b[0;34m\u001b[0m\u001b[0m\n\u001b[0;32m----> 5\u001b[0;31m \u001b[0mprint\u001b[0m\u001b[0;34m(\u001b[0m\u001b[0mmodel\u001b[0m\u001b[0;34m.\u001b[0m\u001b[0mpredict\u001b[0m\u001b[0;34m(\u001b[0m\u001b[0;34m[\u001b[0m\u001b[0;36m2012\u001b[0m\u001b[0;34m,\u001b[0m \u001b[0;36m100000\u001b[0m\u001b[0;34m]\u001b[0m\u001b[0;34m)\u001b[0m\u001b[0;34m)\u001b[0m\u001b[0;34m\u001b[0m\u001b[0;34m\u001b[0m\u001b[0m\n\u001b[0m\u001b[1;32m      6\u001b[0m \u001b[0;34m\u001b[0m\u001b[0m\n\u001b[1;32m      7\u001b[0m \u001b[0munscaled\u001b[0m \u001b[0;34m=\u001b[0m \u001b[0mscaler\u001b[0m\u001b[0;34m.\u001b[0m\u001b[0minverse_transform\u001b[0m\u001b[0;34m(\u001b[0m\u001b[0mscaled_df\u001b[0m\u001b[0;34m)\u001b[0m\u001b[0;34m\u001b[0m\u001b[0;34m\u001b[0m\u001b[0m\n",
      "\u001b[0;32m~/opt/anaconda3/lib/python3.8/site-packages/sklearn/linear_model/_base.py\u001b[0m in \u001b[0;36mpredict\u001b[0;34m(self, X)\u001b[0m\n\u001b[1;32m    234\u001b[0m             \u001b[0mReturns\u001b[0m \u001b[0mpredicted\u001b[0m \u001b[0mvalues\u001b[0m\u001b[0;34m.\u001b[0m\u001b[0;34m\u001b[0m\u001b[0;34m\u001b[0m\u001b[0m\n\u001b[1;32m    235\u001b[0m         \"\"\"\n\u001b[0;32m--> 236\u001b[0;31m         \u001b[0;32mreturn\u001b[0m \u001b[0mself\u001b[0m\u001b[0;34m.\u001b[0m\u001b[0m_decision_function\u001b[0m\u001b[0;34m(\u001b[0m\u001b[0mX\u001b[0m\u001b[0;34m)\u001b[0m\u001b[0;34m\u001b[0m\u001b[0;34m\u001b[0m\u001b[0m\n\u001b[0m\u001b[1;32m    237\u001b[0m \u001b[0;34m\u001b[0m\u001b[0m\n\u001b[1;32m    238\u001b[0m     \u001b[0m_preprocess_data\u001b[0m \u001b[0;34m=\u001b[0m \u001b[0mstaticmethod\u001b[0m\u001b[0;34m(\u001b[0m\u001b[0m_preprocess_data\u001b[0m\u001b[0;34m)\u001b[0m\u001b[0;34m\u001b[0m\u001b[0;34m\u001b[0m\u001b[0m\n",
      "\u001b[0;32m~/opt/anaconda3/lib/python3.8/site-packages/sklearn/linear_model/_base.py\u001b[0m in \u001b[0;36m_decision_function\u001b[0;34m(self, X)\u001b[0m\n\u001b[1;32m    216\u001b[0m         \u001b[0mcheck_is_fitted\u001b[0m\u001b[0;34m(\u001b[0m\u001b[0mself\u001b[0m\u001b[0;34m)\u001b[0m\u001b[0;34m\u001b[0m\u001b[0;34m\u001b[0m\u001b[0m\n\u001b[1;32m    217\u001b[0m \u001b[0;34m\u001b[0m\u001b[0m\n\u001b[0;32m--> 218\u001b[0;31m         \u001b[0mX\u001b[0m \u001b[0;34m=\u001b[0m \u001b[0mcheck_array\u001b[0m\u001b[0;34m(\u001b[0m\u001b[0mX\u001b[0m\u001b[0;34m,\u001b[0m \u001b[0maccept_sparse\u001b[0m\u001b[0;34m=\u001b[0m\u001b[0;34m[\u001b[0m\u001b[0;34m'csr'\u001b[0m\u001b[0;34m,\u001b[0m \u001b[0;34m'csc'\u001b[0m\u001b[0;34m,\u001b[0m \u001b[0;34m'coo'\u001b[0m\u001b[0;34m]\u001b[0m\u001b[0;34m)\u001b[0m\u001b[0;34m\u001b[0m\u001b[0;34m\u001b[0m\u001b[0m\n\u001b[0m\u001b[1;32m    219\u001b[0m         return safe_sparse_dot(X, self.coef_.T,\n\u001b[1;32m    220\u001b[0m                                dense_output=True) + self.intercept_\n",
      "\u001b[0;32m~/opt/anaconda3/lib/python3.8/site-packages/sklearn/utils/validation.py\u001b[0m in \u001b[0;36minner_f\u001b[0;34m(*args, **kwargs)\u001b[0m\n\u001b[1;32m     70\u001b[0m                           FutureWarning)\n\u001b[1;32m     71\u001b[0m         \u001b[0mkwargs\u001b[0m\u001b[0;34m.\u001b[0m\u001b[0mupdate\u001b[0m\u001b[0;34m(\u001b[0m\u001b[0;34m{\u001b[0m\u001b[0mk\u001b[0m\u001b[0;34m:\u001b[0m \u001b[0marg\u001b[0m \u001b[0;32mfor\u001b[0m \u001b[0mk\u001b[0m\u001b[0;34m,\u001b[0m \u001b[0marg\u001b[0m \u001b[0;32min\u001b[0m \u001b[0mzip\u001b[0m\u001b[0;34m(\u001b[0m\u001b[0msig\u001b[0m\u001b[0;34m.\u001b[0m\u001b[0mparameters\u001b[0m\u001b[0;34m,\u001b[0m \u001b[0margs\u001b[0m\u001b[0;34m)\u001b[0m\u001b[0;34m}\u001b[0m\u001b[0;34m)\u001b[0m\u001b[0;34m\u001b[0m\u001b[0;34m\u001b[0m\u001b[0m\n\u001b[0;32m---> 72\u001b[0;31m         \u001b[0;32mreturn\u001b[0m \u001b[0mf\u001b[0m\u001b[0;34m(\u001b[0m\u001b[0;34m**\u001b[0m\u001b[0mkwargs\u001b[0m\u001b[0;34m)\u001b[0m\u001b[0;34m\u001b[0m\u001b[0;34m\u001b[0m\u001b[0m\n\u001b[0m\u001b[1;32m     73\u001b[0m     \u001b[0;32mreturn\u001b[0m \u001b[0minner_f\u001b[0m\u001b[0;34m\u001b[0m\u001b[0;34m\u001b[0m\u001b[0m\n\u001b[1;32m     74\u001b[0m \u001b[0;34m\u001b[0m\u001b[0m\n",
      "\u001b[0;32m~/opt/anaconda3/lib/python3.8/site-packages/sklearn/utils/validation.py\u001b[0m in \u001b[0;36mcheck_array\u001b[0;34m(array, accept_sparse, accept_large_sparse, dtype, order, copy, force_all_finite, ensure_2d, allow_nd, ensure_min_samples, ensure_min_features, estimator)\u001b[0m\n\u001b[1;32m    617\u001b[0m             \u001b[0;31m# If input is 1D raise error\u001b[0m\u001b[0;34m\u001b[0m\u001b[0;34m\u001b[0m\u001b[0;34m\u001b[0m\u001b[0m\n\u001b[1;32m    618\u001b[0m             \u001b[0;32mif\u001b[0m \u001b[0marray\u001b[0m\u001b[0;34m.\u001b[0m\u001b[0mndim\u001b[0m \u001b[0;34m==\u001b[0m \u001b[0;36m1\u001b[0m\u001b[0;34m:\u001b[0m\u001b[0;34m\u001b[0m\u001b[0;34m\u001b[0m\u001b[0m\n\u001b[0;32m--> 619\u001b[0;31m                 raise ValueError(\n\u001b[0m\u001b[1;32m    620\u001b[0m                     \u001b[0;34m\"Expected 2D array, got 1D array instead:\\narray={}.\\n\"\u001b[0m\u001b[0;34m\u001b[0m\u001b[0;34m\u001b[0m\u001b[0m\n\u001b[1;32m    621\u001b[0m                     \u001b[0;34m\"Reshape your data either using array.reshape(-1, 1) if \"\u001b[0m\u001b[0;34m\u001b[0m\u001b[0;34m\u001b[0m\u001b[0m\n",
      "\u001b[0;31mValueError\u001b[0m: Expected 2D array, got 1D array instead:\narray=[  2012 100000].\nReshape your data either using array.reshape(-1, 1) if your data has a single feature or array.reshape(1, -1) if it contains a single sample."
     ]
    }
   ],
   "source": [
    "# Denomalisere data og få en værdi ud \n",
    "\n",
    "# Funktionalitet til at få pris ud fra modellen \n",
    "# Model.predict() \n",
    "\n",
    "unscaled = scaler.inverse_transform(scaled_df)\n",
    "print(unscaled)"
   ]
  }
 ],
 "metadata": {
  "kernelspec": {
   "display_name": "Python 3",
   "language": "python",
   "name": "python3"
  },
  "language_info": {
   "codemirror_mode": {
    "name": "ipython",
    "version": 3
   },
   "file_extension": ".py",
   "mimetype": "text/x-python",
   "name": "python",
   "nbconvert_exporter": "python",
   "pygments_lexer": "ipython3",
   "version": "3.8.5"
  }
 },
 "nbformat": 4,
 "nbformat_minor": 4
}
