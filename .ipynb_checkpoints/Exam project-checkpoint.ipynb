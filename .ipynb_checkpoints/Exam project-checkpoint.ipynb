{
 "cells": [
  {
   "cell_type": "markdown",
   "metadata": {},
   "source": [
    "## This is for the exam project\n"
   ]
  },
  {
   "cell_type": "code",
   "execution_count": 1,
   "metadata": {},
   "outputs": [],
   "source": [
    "##Imports\n",
    "from time import sleep\n",
    "from selenium import webdriver\n",
    "from selenium.webdriver.firefox.options import Options\n",
    "from bs4 import BeautifulSoup as soup\n",
    "import bs4\n",
    "import requests\n",
    "import re\n",
    "import sys\n",
    "import numpy as np"
   ]
  },
  {
   "cell_type": "markdown",
   "metadata": {},
   "source": [
    "### Numberplate to string"
   ]
  },
  {
   "cell_type": "code",
   "execution_count": 202,
   "metadata": {
    "scrolled": false
   },
   "outputs": [
    {
     "name": "stdout",
     "output_type": "stream",
     "text": [
      "Nummerpladen er: CM58 541\n",
      "\f",
      "\n"
     ]
    },
    {
     "data": {
      "image/png": "[encoded data removed]",
      "text/plain": [
       "<Figure size 640x480 with 1 Axes>"
      ]
     },
     "metadata": {},
     "output_type": "display_data"
    }
   ],
   "source": [
    "import cv2\n",
    "import imutils\n",
    "import numpy as np\n",
    "from matplotlib import pyplot as plt\n",
    "import pytesseract\n",
    "\n",
    "#Windows\n",
    "#pytesseract.pytesseract.tesseract_cmd = r'/usr/bin/tesseract'\n",
    "\n",
    "#M1\n",
    "pytesseract.pytesseract.tesseract_cmd = r'/opt/homebrew/Cellar/tesseract/4.1.1/bin/tesseract'\n",
    "\n",
    "#Import image and resize it\n",
    "#Aygo\n",
    "img = cv2.imread('./images/aygo.png', cv2.IMREAD_COLOR)\n",
    "img = imutils.resize(img, width=610)\n",
    "\n",
    "#Tesla\n",
    "#img = cv2.imread('./images/tesla.jpg', cv2.IMREAD_COLOR)\n",
    "#img = imutils.resize(img, width=600)\n",
    "\n",
    "#Gray scale \n",
    "gray = cv2.cvtColor(img, cv2.COLOR_BGR2GRAY)\n",
    "\n",
    "#Blur to reduce noise\n",
    "gray = cv2.bilateralFilter(gray, 13, 15, 15)\n",
    "\n",
    "#Edge detection\n",
    "edged = cv2.Canny(gray, 30, 200)\n",
    "\n",
    "contours = cv2.findContours(edged.copy(), cv2.RETR_TREE, cv2.CHAIN_APPROX_SIMPLE)\n",
    "contours = imutils.grab_contours(contours)\n",
    "contours = sorted(contours, key = cv2.contourArea, reverse = True)[:10]\n",
    "screenCnt = None\n",
    "\n",
    "#Find contours in the edged image\n",
    "(cnts, _) = cv2.findContours(edged.copy(), cv2.RETR_LIST, cv2.CHAIN_APPROX_SIMPLE)\n",
    "cnts=sorted(cnts, key = cv2.contourArea, reverse = True)[:30]\n",
    "\n",
    "NumberPlateCnt = None \n",
    "count = 0\n",
    "#Loop over contours\n",
    "for c in cnts:\n",
    "\t#Approximate the contour\n",
    "    peri = cv2.arcLength(c, True)\n",
    "    approx = cv2.approxPolyDP(c, 0.02 * peri, True)\n",
    "    #If the approximated contour has four points, then assume that screen is found\n",
    "    if len(approx) == 4:  \n",
    "        NumberPlateCnt = approx \n",
    "        break\n",
    "\n",
    "#Mask the part other than the numberplate\n",
    "mask = np.zeros(gray.shape,np.uint8)\n",
    "new_image = cv2.drawContours(mask,[NumberPlateCnt],0,255,-1)\n",
    "new_image = cv2.bitwise_and(img,img,mask=mask)\n",
    "\n",
    "#Crop the image \n",
    "(x, y) = np.where(mask == 255)\n",
    "(topx, topy) = (np.min(x), np.min(y))\n",
    "(bottomx, bottomy) = (np.max(x), np.max(y))\n",
    "Cropped = gray[topx:bottomx+1, topy:bottomy+1]\n",
    "\n",
    "#Read the number plate\n",
    "config = ('-l eng --oem 1 --psm 3')\n",
    "text = pytesseract.image_to_string(Cropped, config=config)\n",
    "print(\"Nummerpladen er:\",text)\n",
    "plt.imshow(new_image)\n",
    "\n",
    "cv2.waitKey(1)\n",
    "cv2.destroyAllWindows() "
   ]
  },
  {
   "cell_type": "markdown",
   "metadata": {},
   "source": [
    "### Entering numberplate on nummerplade.net to find model"
   ]
  },
  {
   "cell_type": "code",
   "execution_count": 203,
   "metadata": {
    "scrolled": true
   },
   "outputs": [
    {
     "name": "stdout",
     "output_type": "stream",
     "text": [
      "Starting up..\n",
      "Got Browser\n",
      "Search Entered\n",
      "\n",
      "Search_car_km: 93000\n",
      "Search_car_year: 2015 \n",
      "Mærke/model på søgte bil:  Toyota Aygo \n"
     ]
    }
   ],
   "source": [
    "print(\"Starting up..\")\n",
    "profile = webdriver.FirefoxProfile()\n",
    "profile.set_preference(\"general.useragent.override\", \"Mozilla/5.0 (X11; Ubuntu; Linux x86_64; rv:81.0) Gecko/20100101 Firefox/81.0\")\n",
    "options = Options()\n",
    "options.headless = True\n",
    "\n",
    "#M1\n",
    "browser = webdriver.Chrome(executable_path=\"/Users/frederikdahl/chromedriver/chromedriver\")\n",
    "\n",
    "#Windows\n",
    "#browser = webdriver.Firefox(options=options)\n",
    "\n",
    "browser.get(\"https://www.nummerplade.net/\")\n",
    "\n",
    "print(\"Got Browser\")\n",
    "\n",
    "browser.implicitly_wait(3)\n",
    "\n",
    "#cookie_button = browser.find_element_by_css_selector('div.coi-banner__page-footer:nth-child(2) > button:nth-child(2)')\n",
    "#cookie_button.click()\n",
    "#print(\"Cookie Button Clicked..\")\n",
    "#sleep(3) \n",
    "\n",
    "search_field = browser.find_element_by_id('search_regnr')\n",
    "\n",
    "search_field.send_keys(text)\n",
    "#search_field.send_keys(\"CM 58 541\")\n",
    "\n",
    "button = browser.find_element_by_id('search_regnr_button')\n",
    "button.click()\n",
    "print(\"Search Entered\")\n",
    "sleep(3)\n",
    "\n",
    "print()\n",
    "\n",
    "page_source = browser.page_source\n",
    "page_soup = soup(page_source,'html.parser')\n",
    "res = page_soup.select_one(\"#maerke\").text +\" \"+ page_soup.select_one(\"#model\").text + \" \"\n",
    "\n",
    "page_source = browser.page_source\n",
    "page_soup = soup(page_source,'html.parser')\n",
    "search_car_year = page_soup.select_one(\"#model_aar\").text +\" \" \n",
    "search_car_km = page_soup.select_one(\"#box-overblik-data-overblik_kmcheck > div > small\").text + \" \"\n",
    "\n",
    "\n",
    "filter_search_km = re.sub(\"[^0-9]+\", \"\",search_car_km)\n",
    "search_car_km = filter_search_km\n",
    "\n",
    "\n",
    "print(\"Search_car_km: \" + search_car_km)\n",
    "print(\"Search_car_year: \" + search_car_year)\n",
    "print(\"Mærke/model på søgte bil: \", res)\n",
    "browser.quit()"
   ]
  },
  {
   "cell_type": "markdown",
   "metadata": {},
   "source": [
    "### Searching for model on bilbasen to get model,price,km, "
   ]
  },
  {
   "cell_type": "code",
   "execution_count": 204,
   "metadata": {},
   "outputs": [
    {
     "name": "stdout",
     "output_type": "stream",
     "text": [
      "Starting up...\n",
      "Got Browser\n",
      "Cookie Button Clicked\n",
      "Leasing Button Clicked\n",
      "Search Bar Entered\n",
      "Searching for: Toyota Aygo \n",
      "Souping Site\n",
      "\n",
      "Cars found: 31\n",
      "{'name': 'Toyota Aygo 1,0 VVT-i x-wave Sky 5d', 'km': 86000, 'price': '64800', 'year': 2015}\n",
      "{'name': 'Toyota Aygo 1,0 VVT-i x-pression 5d', 'km': 133000, 'price': '59900', 'year': 2016}\n",
      "{'name': 'Toyota Aygo 1,0 VVT-i x-sky 5d', 'km': 53000, 'price': '74900', 'year': 2015}\n",
      "{'name': 'Toyota Aygo 1,0 VVT-i x-play 5d', 'km': 99000, 'price': '64900', 'year': 2015}\n",
      "{'name': 'Toyota Aygo 1,0 VVT-i x-touch 5d', 'km': 99000, 'price': '59800', 'year': 2014}\n",
      "{'name': 'Toyota Aygo 1,0 VVT-i x-play 5d', 'km': 68000, 'price': '69900', 'year': 2016}\n",
      "{'name': 'Toyota Aygo 1,0 VVT-i x-play Touch 5d', 'km': 89000, 'price': '73800', 'year': 2015}\n",
      "{'name': 'Toyota Aygo 1,0 VVT-i x-clusiv 5d', 'km': 28000, 'price': '99900', 'year': 2019}\n",
      "{'name': 'Toyota Aygo 1,0 VVT-i x-cite 5d', 'km': 40000, 'price': '79500', 'year': 2015}\n",
      "{'name': 'Toyota Aygo 1,0 Plus 5d', 'km': 144000, 'price': '29900', 'year': 2008}\n",
      "{'name': 'Toyota Aygo 1,0 VVT-i x-style 5d', 'km': 10000, 'price': '109900', 'year': 2019}\n",
      "{'name': 'Toyota Aygo 1,0 VVT-i x-wave Sky 5d', 'km': 107000, 'price': '69900', 'year': 2015}\n",
      "{'name': 'Toyota Aygo 1,0 VVT-i x-touch 5d', 'km': 155000, 'price': '62500', 'year': 2015}\n",
      "{'name': 'Toyota Aygo 1,0 VVT-i x-clusiv 5d', 'km': 109000, 'price': '69800', 'year': 2015}\n",
      "{'name': 'Toyota Aygo 1,0 VVT-i x-plore 5d', 'km': 24000, 'price': '89900', 'year': 2018}\n",
      "{'name': 'Toyota Aygo 1,0 Plus MMT 5d', 'km': 220000, 'price': '29900', 'year': 2007}\n",
      "{'name': 'Toyota Aygo 1,0 VVT-i x-cellence 5d', 'km': 22000, 'price': '84900', 'year': 2018}\n",
      "{'name': 'Toyota Aygo 1,0 VVT-i x-press 5d', 'km': 6900, 'price': '102900', 'year': 2020}\n",
      "{'name': 'Toyota Aygo 1,0 VVT-i x-style 5d', 'km': 6600, 'price': '112500', 'year': 2020}\n",
      "{'name': 'Toyota Aygo 1,0 VVT-i x-touch 5d', 'km': 54000, 'price': '64980', 'year': 2014}\n",
      "{'name': 'Toyota Aygo 1,0 VVT-i x-sky 5d', 'km': 45000, 'price': '89900', 'year': 2019}\n",
      "{'name': 'Toyota Aygo 1,0 VVT-i T1 5d', 'km': 184000, 'price': '25700', 'year': 2013}\n",
      "{'name': 'Toyota Aygo 1,0 VVT-i x-press 5d', 'km': 99000, 'price': '59900', 'year': 2014}\n",
      "{'name': 'Toyota Aygo 1,0 VVT-i x-pression 5d', 'km': 28000, 'price': '94800', 'year': 2020}\n",
      "{'name': 'Toyota Aygo 1,0 VVT-i x-play 5d', 'km': 104000, 'price': '59980', 'year': 2015}\n",
      "{'name': 'Toyota Aygo 1,0 VVT-i T2 Air Connect 5d', 'km': 104000, 'price': '46900', 'year': 2014}\n",
      "{'name': 'Toyota Aygo 1,0  5d', 'km': 205000, 'price': '26400', 'year': 2010}\n",
      "{'name': 'Toyota Aygo 1,0 VVT-i T1 5d', 'km': 138000, 'price': '39900', 'year': 2012}\n",
      "{'name': 'Toyota Aygo 1,0 VVT-i x-play Touch 5d', 'km': 57000, 'price': '59990', 'year': 2015}\n",
      "{'name': 'Toyota Aygo 1,0 VVT-i x-play Touch 5d', 'km': 113000, 'price': '64900', 'year': 2015}\n",
      "{'name': 'Toyota Aygo 1,0 VVT-i x-wave Sky 5d', 'km': 87000, 'price': '79500', 'year': 2016}\n"
     ]
    }
   ],
   "source": [
    "base_url = 'https://www.bilbasen.dk/'\n",
    "\n",
    "class my_car:\n",
    "    def __init__(self, url):\n",
    "        self.base_url = url\n",
    "        self.car_list = []\n",
    "        \n",
    "        print(\"Starting up...\")\n",
    "        \n",
    "        profile = webdriver.FirefoxProfile()\n",
    "        profile.set_preference(\"general.useragent.override\", \"Mozilla/5.0 (X11; Ubuntu; Linux x86_64; rv:81.0) Gecko/20100101 Firefox/81.0\")\n",
    "        options = Options()\n",
    "        options.headless = True\n",
    "        \n",
    "        #Windows\n",
    "        #self.browser = webdriver.Firefox(options=options)\n",
    "        \n",
    "        #M1 \n",
    "        self.browser  = webdriver.Chrome(executable_path=\"/Users/frederikdahl/chromedriver/chromedriver\")\n",
    "        \n",
    "        self.browser.get(self.base_url)\n",
    "        print(\"Got Browser\")\n",
    "        \n",
    "        self.browser.implicitly_wait(3)\n",
    "        \n",
    "    def click_cookie_button(self):\n",
    "        try:\n",
    "            cookie_button = self.browser.find_element_by_id('onetrust-accept-btn-handler')\n",
    "            try:\n",
    "                cookie_button.click()\n",
    "                print(\"Cookie Button Clicked\")\n",
    "                sleep(3)   \n",
    "            except Exception as err:\n",
    "                print('Error With Cookie Button:', err)\n",
    "        except Exception as err:\n",
    "            print(err)\n",
    "            \n",
    "    def click_leasing_button(self):\n",
    "        try:\n",
    "            leasing_button = self.browser.find_element_by_css_selector(\"label[data-track-action='leasing-toggle']\")\n",
    "            try:\n",
    "                leasing_button.click()\n",
    "                print(\"Leasing Button Clicked\")\n",
    "                sleep(3)   \n",
    "            except Exception as err:\n",
    "                print('Error With Leasing Button:', err)\n",
    "        except Exception as err:\n",
    "            print(err)\n",
    "        \n",
    "    def search_in_search_bar(self, search_text):\n",
    "        try:\n",
    "            search_field = self.browser.find_element_by_class_name('react-autosuggest__input')\n",
    "            search_field.send_keys(search_text)\n",
    "            search_field.submit()\n",
    "            print(\"Search Bar Entered\")\n",
    "            sleep(3)\n",
    "\n",
    "        except Exception as err:\n",
    "            print('Error with Search', err)\n",
    "\n",
    "    def get_car_list(self):\n",
    "        print(\"Souping Site\")\n",
    "        print()\n",
    "        page_source = self.browser.page_source\n",
    "        page_soup = soup(page_source,'html.parser')\n",
    "        car_list_plus = page_soup.findAll(\"div\",{\"class\":\"row listing listing-plus bb-listing-clickable\"})\n",
    "        car_list_discount = page_soup.findAll(\"div\",{\"class\":\"row listing listing-discount bb-listing-clickable\"})\n",
    "        full_list = car_list_plus + car_list_discount\n",
    "        print(\"Cars found: \" + str(len(full_list)))\n",
    "        for car in full_list:\n",
    "            name = car.find(\"a\",{\"class\":\"listing-heading darkLink\"}).contents[0]\n",
    "            km = int(car.findAll(\"div\",{\"class\":\"col-xs-2 listing-data\"})[1].contents[0].replace('.',''))\n",
    "            price = car.find(\"div\",{\"class\":\"col-xs-3 listing-price\"}).contents[0].replace(' kr.','').replace('.','')\n",
    "            year = int(car.findAll(\"div\",{\"class\":\"col-xs-2 listing-data\"})[2].contents[0])\n",
    "            car_info = {\"name\": name, \"km\": km, \"price\": price, \"year\": year}\n",
    "            self.car_list.append(car_info)\n",
    "            print(car_info) \n",
    "            \n",
    "    def close_browser(self):\n",
    "        self.browser.close()\n",
    "    \n",
    "bilbasen = my_car(base_url)\n",
    "bilbasen.click_cookie_button()\n",
    "bilbasen.click_leasing_button()\n",
    "bilbasen.search_in_search_bar(res)\n",
    "print(\"Searching for: \" + res)\n",
    "bilbasen.get_car_list()\n",
    "bilbasen.close_browser()\n",
    "make_me_dataframe = bilbasen.car_list"
   ]
  },
  {
   "cell_type": "markdown",
   "metadata": {},
   "source": [
    "### Creating dataframe from car list"
   ]
  },
  {
   "cell_type": "code",
   "execution_count": 205,
   "metadata": {
    "scrolled": true
   },
   "outputs": [
    {
     "data": {
      "text/html": [
       "<div>\n",
       "<style scoped>\n",
       "    .dataframe tbody tr th:only-of-type {\n",
       "        vertical-align: middle;\n",
       "    }\n",
       "\n",
       "    .dataframe tbody tr th {\n",
       "        vertical-align: top;\n",
       "    }\n",
       "\n",
       "    .dataframe thead th {\n",
       "        text-align: right;\n",
       "    }\n",
       "</style>\n",
       "<table border=\"1\" class=\"dataframe\">\n",
       "  <thead>\n",
       "    <tr style=\"text-align: right;\">\n",
       "      <th></th>\n",
       "      <th>name</th>\n",
       "      <th>km</th>\n",
       "      <th>price</th>\n",
       "      <th>year</th>\n",
       "    </tr>\n",
       "  </thead>\n",
       "  <tbody>\n",
       "    <tr>\n",
       "      <th>0</th>\n",
       "      <td>Toyota Aygo 1,0 VVT-i x-wave Sky 5d</td>\n",
       "      <td>86000</td>\n",
       "      <td>64800</td>\n",
       "      <td>2015</td>\n",
       "    </tr>\n",
       "    <tr>\n",
       "      <th>1</th>\n",
       "      <td>Toyota Aygo 1,0 VVT-i x-pression 5d</td>\n",
       "      <td>133000</td>\n",
       "      <td>59900</td>\n",
       "      <td>2016</td>\n",
       "    </tr>\n",
       "    <tr>\n",
       "      <th>2</th>\n",
       "      <td>Toyota Aygo 1,0 VVT-i x-sky 5d</td>\n",
       "      <td>53000</td>\n",
       "      <td>74900</td>\n",
       "      <td>2015</td>\n",
       "    </tr>\n",
       "    <tr>\n",
       "      <th>3</th>\n",
       "      <td>Toyota Aygo 1,0 VVT-i x-play 5d</td>\n",
       "      <td>99000</td>\n",
       "      <td>64900</td>\n",
       "      <td>2015</td>\n",
       "    </tr>\n",
       "    <tr>\n",
       "      <th>4</th>\n",
       "      <td>Toyota Aygo 1,0 VVT-i x-touch 5d</td>\n",
       "      <td>99000</td>\n",
       "      <td>59800</td>\n",
       "      <td>2014</td>\n",
       "    </tr>\n",
       "  </tbody>\n",
       "</table>\n",
       "</div>"
      ],
      "text/plain": [
       "                                  name      km  price  year\n",
       "0  Toyota Aygo 1,0 VVT-i x-wave Sky 5d   86000  64800  2015\n",
       "1  Toyota Aygo 1,0 VVT-i x-pression 5d  133000  59900  2016\n",
       "2       Toyota Aygo 1,0 VVT-i x-sky 5d   53000  74900  2015\n",
       "3      Toyota Aygo 1,0 VVT-i x-play 5d   99000  64900  2015\n",
       "4     Toyota Aygo 1,0 VVT-i x-touch 5d   99000  59800  2014"
      ]
     },
     "execution_count": 205,
     "metadata": {},
     "output_type": "execute_result"
    }
   ],
   "source": [
    "import pandas as pd\n",
    "data = pd.DataFrame(make_me_dataframe) \n",
    "data.head()"
   ]
  },
  {
   "cell_type": "markdown",
   "metadata": {},
   "source": [
    "### Normalizing data"
   ]
  },
  {
   "cell_type": "code",
   "execution_count": 206,
   "metadata": {
    "scrolled": true
   },
   "outputs": [
    {
     "data": {
      "text/html": [
       "<div>\n",
       "<style scoped>\n",
       "    .dataframe tbody tr th:only-of-type {\n",
       "        vertical-align: middle;\n",
       "    }\n",
       "\n",
       "    .dataframe tbody tr th {\n",
       "        vertical-align: top;\n",
       "    }\n",
       "\n",
       "    .dataframe thead th {\n",
       "        text-align: right;\n",
       "    }\n",
       "</style>\n",
       "<table border=\"1\" class=\"dataframe\">\n",
       "  <thead>\n",
       "    <tr style=\"text-align: right;\">\n",
       "      <th></th>\n",
       "      <th>km</th>\n",
       "      <th>year</th>\n",
       "      <th>price</th>\n",
       "    </tr>\n",
       "  </thead>\n",
       "  <tbody>\n",
       "    <tr>\n",
       "      <th>0</th>\n",
       "      <td>0.372071</td>\n",
       "      <td>0.615385</td>\n",
       "      <td>0.450461</td>\n",
       "    </tr>\n",
       "    <tr>\n",
       "      <th>1</th>\n",
       "      <td>0.592315</td>\n",
       "      <td>0.692308</td>\n",
       "      <td>0.394009</td>\n",
       "    </tr>\n",
       "    <tr>\n",
       "      <th>2</th>\n",
       "      <td>0.217432</td>\n",
       "      <td>0.615385</td>\n",
       "      <td>0.566820</td>\n",
       "    </tr>\n",
       "    <tr>\n",
       "      <th>3</th>\n",
       "      <td>0.432990</td>\n",
       "      <td>0.615385</td>\n",
       "      <td>0.451613</td>\n",
       "    </tr>\n",
       "    <tr>\n",
       "      <th>4</th>\n",
       "      <td>0.432990</td>\n",
       "      <td>0.538462</td>\n",
       "      <td>0.392857</td>\n",
       "    </tr>\n",
       "  </tbody>\n",
       "</table>\n",
       "</div>"
      ],
      "text/plain": [
       "         km      year     price\n",
       "0  0.372071  0.615385  0.450461\n",
       "1  0.592315  0.692308  0.394009\n",
       "2  0.217432  0.615385  0.566820\n",
       "3  0.432990  0.615385  0.451613\n",
       "4  0.432990  0.538462  0.392857"
      ]
     },
     "execution_count": 206,
     "metadata": {},
     "output_type": "execute_result"
    }
   ],
   "source": [
    "from sklearn import preprocessing\n",
    "import sklearn.linear_model\n",
    "\n",
    "#Defining features\n",
    "features = data[['km', 'year', 'price']]\n",
    "\n",
    "#Normalize data (reduce values to be between 0 and 1)\n",
    "scaler = preprocessing.MinMaxScaler()\n",
    "names = features.columns\n",
    "d = scaler.fit_transform(features)\n",
    "scaled_df = pd.DataFrame(d, columns=names)\n",
    "scaled_df.head()\n",
    "\n",
    "\n"
   ]
  },
  {
   "cell_type": "markdown",
   "metadata": {},
   "source": [
    "### Describing data"
   ]
  },
  {
   "cell_type": "code",
   "execution_count": 207,
   "metadata": {},
   "outputs": [
    {
     "data": {
      "text/html": [
       "<div>\n",
       "<style scoped>\n",
       "    .dataframe tbody tr th:only-of-type {\n",
       "        vertical-align: middle;\n",
       "    }\n",
       "\n",
       "    .dataframe tbody tr th {\n",
       "        vertical-align: top;\n",
       "    }\n",
       "\n",
       "    .dataframe thead th {\n",
       "        text-align: right;\n",
       "    }\n",
       "</style>\n",
       "<table border=\"1\" class=\"dataframe\">\n",
       "  <thead>\n",
       "    <tr style=\"text-align: right;\">\n",
       "      <th></th>\n",
       "      <th>km</th>\n",
       "      <th>year</th>\n",
       "    </tr>\n",
       "  </thead>\n",
       "  <tbody>\n",
       "    <tr>\n",
       "      <th>count</th>\n",
       "      <td>31.000000</td>\n",
       "      <td>31.000000</td>\n",
       "    </tr>\n",
       "    <tr>\n",
       "      <th>mean</th>\n",
       "      <td>87661.290323</td>\n",
       "      <td>2015.225806</td>\n",
       "    </tr>\n",
       "    <tr>\n",
       "      <th>std</th>\n",
       "      <td>57043.145527</td>\n",
       "      <td>3.148647</td>\n",
       "    </tr>\n",
       "    <tr>\n",
       "      <th>min</th>\n",
       "      <td>6600.000000</td>\n",
       "      <td>2007.000000</td>\n",
       "    </tr>\n",
       "    <tr>\n",
       "      <th>25%</th>\n",
       "      <td>42500.000000</td>\n",
       "      <td>2014.000000</td>\n",
       "    </tr>\n",
       "    <tr>\n",
       "      <th>50%</th>\n",
       "      <td>89000.000000</td>\n",
       "      <td>2015.000000</td>\n",
       "    </tr>\n",
       "    <tr>\n",
       "      <th>75%</th>\n",
       "      <td>111000.000000</td>\n",
       "      <td>2017.000000</td>\n",
       "    </tr>\n",
       "    <tr>\n",
       "      <th>max</th>\n",
       "      <td>220000.000000</td>\n",
       "      <td>2020.000000</td>\n",
       "    </tr>\n",
       "  </tbody>\n",
       "</table>\n",
       "</div>"
      ],
      "text/plain": [
       "                  km         year\n",
       "count      31.000000    31.000000\n",
       "mean    87661.290323  2015.225806\n",
       "std     57043.145527     3.148647\n",
       "min      6600.000000  2007.000000\n",
       "25%     42500.000000  2014.000000\n",
       "50%     89000.000000  2015.000000\n",
       "75%    111000.000000  2017.000000\n",
       "max    220000.000000  2020.000000"
      ]
     },
     "execution_count": 207,
     "metadata": {},
     "output_type": "execute_result"
    }
   ],
   "source": [
    "# Describing the data \n",
    "data.describe()"
   ]
  },
  {
   "cell_type": "markdown",
   "metadata": {},
   "source": [
    "### Dividing data into test data and training sets"
   ]
  },
  {
   "cell_type": "code",
   "execution_count": 208,
   "metadata": {},
   "outputs": [],
   "source": [
    "# Setting X (km and year) and Y (price)\n",
    "\n",
    "X = data[['km', 'year']]\n",
    "y = data['price']\n",
    "\n",
    "# Dividing data into training and test sets \n",
    "from sklearn.model_selection import train_test_split\n",
    "X_train, X_test, y_train, y_test = train_test_split(X, y, test_size=0.2, random_state=0)"
   ]
  },
  {
   "cell_type": "code",
   "execution_count": 209,
   "metadata": {},
   "outputs": [
    {
     "data": {
      "text/plain": [
       "LinearRegression()"
      ]
     },
     "execution_count": 209,
     "metadata": {},
     "output_type": "execute_result"
    }
   ],
   "source": [
    "# Training the model\n",
    "from sklearn.linear_model import LinearRegression\n",
    "regressor = LinearRegression()\n",
    "regressor.fit(X_train, y_train)"
   ]
  },
  {
   "cell_type": "code",
   "execution_count": 210,
   "metadata": {},
   "outputs": [
    {
     "data": {
      "text/html": [
       "<div>\n",
       "<style scoped>\n",
       "    .dataframe tbody tr th:only-of-type {\n",
       "        vertical-align: middle;\n",
       "    }\n",
       "\n",
       "    .dataframe tbody tr th {\n",
       "        vertical-align: top;\n",
       "    }\n",
       "\n",
       "    .dataframe thead th {\n",
       "        text-align: right;\n",
       "    }\n",
       "</style>\n",
       "<table border=\"1\" class=\"dataframe\">\n",
       "  <thead>\n",
       "    <tr style=\"text-align: right;\">\n",
       "      <th></th>\n",
       "      <th>Coefficient</th>\n",
       "    </tr>\n",
       "  </thead>\n",
       "  <tbody>\n",
       "    <tr>\n",
       "      <th>km</th>\n",
       "      <td>-0.179275</td>\n",
       "    </tr>\n",
       "    <tr>\n",
       "      <th>year</th>\n",
       "      <td>3722.939644</td>\n",
       "    </tr>\n",
       "  </tbody>\n",
       "</table>\n",
       "</div>"
      ],
      "text/plain": [
       "      Coefficient\n",
       "km      -0.179275\n",
       "year  3722.939644"
      ]
     },
     "execution_count": 210,
     "metadata": {},
     "output_type": "execute_result"
    }
   ],
   "source": [
    "# Showing coefficient\n",
    "coeff_df = pd.DataFrame(regressor.coef_, X.columns, columns=['Coefficient'])\n",
    "coeff_df\n"
   ]
  },
  {
   "cell_type": "code",
   "execution_count": 211,
   "metadata": {},
   "outputs": [
    {
     "data": {
      "text/plain": [
       "-7418335.035637105"
      ]
     },
     "execution_count": 211,
     "metadata": {},
     "output_type": "execute_result"
    }
   ],
   "source": [
    "# Showing interception with y\n",
    "\n",
    "intercept = regressor.intercept_\n",
    "intercept"
   ]
  },
  {
   "cell_type": "markdown",
   "metadata": {},
   "source": [
    "### Data visualization\n",
    "First we will be doing some basic graphs to show there is a linear functionality between price and the cars year. After that we will show that there is a linear functionality between price and the km a car has driven"
   ]
  },
  {
   "cell_type": "code",
   "execution_count": 217,
   "metadata": {},
   "outputs": [
    {
     "data": {
      "text/plain": [
       "<matplotlib.legend.Legend at 0x7fe1c8a93cd0>"
      ]
     },
     "execution_count": 217,
     "metadata": {},
     "output_type": "execute_result"
    },
    {
     "data": {
      "image/png": "[encoded data removed]",
      "text/plain": [
       "<Figure size 640x480 with 1 Axes>"
      ]
     },
     "metadata": {},
     "output_type": "display_data"
    }
   ],
   "source": [
    "x1 = scaled_df[['km']]\n",
    "y = scaled_df[['price']]\n",
    "plt.scatter(x1,y, label='km')\n",
    "plt.legend(loc='upper left')\n",
    "\n",
    "\n"
   ]
  },
  {
   "cell_type": "code",
   "execution_count": 218,
   "metadata": {},
   "outputs": [
    {
     "data": {
      "text/plain": [
       "<matplotlib.legend.Legend at 0x7fe1df4c6f70>"
      ]
     },
     "execution_count": 218,
     "metadata": {},
     "output_type": "execute_result"
    },
    {
     "data": {
      "image/png": "[encoded data removed]",
      "text/plain": [
       "<Figure size 640x480 with 1 Axes>"
      ]
     },
     "metadata": {},
     "output_type": "display_data"
    }
   ],
   "source": [
    "x2 = scaled_df[['year']]\n",
    "plt.scatter(x2,y, label='year')\n",
    "plt.legend(loc='upper left')\n",
    "\n"
   ]
  },
  {
   "cell_type": "markdown",
   "metadata": {},
   "source": [
    "Based on the coefficient and the interception point we can plot the data into a basic linear function.\n",
    "f(x) = a + bx"
   ]
  },
  {
   "cell_type": "code",
   "execution_count": 215,
   "metadata": {},
   "outputs": [
    {
     "data": {
      "image/png": "[encoded data removed]",
      "text/plain": [
       "<Figure size 640x480 with 1 Axes>"
      ]
     },
     "metadata": {},
     "output_type": "display_data"
    }
   ],
   "source": [
    "x = np.linspace(50000,800000,100)\n",
    "\n",
    "km_coeff = int(coeff_df.iloc[0])\n",
    "\n",
    "year_coeff = int(coeff_df.iloc[1])\n",
    "y = km_coeff*x+intercept\n",
    "y = year_coeff*x+intercept\n",
    "\n",
    "\n",
    "plt.plot(x, y, '-r', label='km')\n",
    "plt.plot(x,y, '-b', label=\"year\")\n",
    "plt.title('Linear visalization')\n",
    "plt.xlabel('x', color='#1C2833')\n",
    "plt.ylabel('y', color='#1C2833')\n",
    "plt.legend(loc='upper left')\n",
    "plt.grid()\n",
    "plt.show()"
   ]
  },
  {
   "cell_type": "markdown",
   "metadata": {},
   "source": [
    "### Prediction of results vs real data"
   ]
  },
  {
   "cell_type": "code",
   "execution_count": 117,
   "metadata": {},
   "outputs": [
    {
     "data": {
      "text/html": [
       "<div>\n",
       "<style scoped>\n",
       "    .dataframe tbody tr th:only-of-type {\n",
       "        vertical-align: middle;\n",
       "    }\n",
       "\n",
       "    .dataframe tbody tr th {\n",
       "        vertical-align: top;\n",
       "    }\n",
       "\n",
       "    .dataframe thead th {\n",
       "        text-align: right;\n",
       "    }\n",
       "</style>\n",
       "<table border=\"1\" class=\"dataframe\">\n",
       "  <thead>\n",
       "    <tr style=\"text-align: right;\">\n",
       "      <th></th>\n",
       "      <th>Actual</th>\n",
       "      <th>Predicted</th>\n",
       "    </tr>\n",
       "  </thead>\n",
       "  <tbody>\n",
       "    <tr>\n",
       "      <th>11</th>\n",
       "      <td>684000</td>\n",
       "      <td>455186.436400</td>\n",
       "    </tr>\n",
       "    <tr>\n",
       "      <th>22</th>\n",
       "      <td>420000</td>\n",
       "      <td>403932.078677</td>\n",
       "    </tr>\n",
       "    <tr>\n",
       "      <th>10</th>\n",
       "      <td>365000</td>\n",
       "      <td>409568.106817</td>\n",
       "    </tr>\n",
       "    <tr>\n",
       "      <th>2</th>\n",
       "      <td>589900</td>\n",
       "      <td>651219.720615</td>\n",
       "    </tr>\n",
       "    <tr>\n",
       "      <th>16</th>\n",
       "      <td>419000</td>\n",
       "      <td>451429.084307</td>\n",
       "    </tr>\n",
       "    <tr>\n",
       "      <th>14</th>\n",
       "      <td>859000</td>\n",
       "      <td>714685.472640</td>\n",
       "    </tr>\n",
       "    <tr>\n",
       "      <th>28</th>\n",
       "      <td>363455</td>\n",
       "      <td>654977.072708</td>\n",
       "    </tr>\n",
       "  </tbody>\n",
       "</table>\n",
       "</div>"
      ],
      "text/plain": [
       "    Actual      Predicted\n",
       "11  684000  455186.436400\n",
       "22  420000  403932.078677\n",
       "10  365000  409568.106817\n",
       "2   589900  651219.720615\n",
       "16  419000  451429.084307\n",
       "14  859000  714685.472640\n",
       "28  363455  654977.072708"
      ]
     },
     "execution_count": 117,
     "metadata": {},
     "output_type": "execute_result"
    }
   ],
   "source": [
    "# Predicting the results  \n",
    "y_pred = regressor.predict(X_test) \n",
    "\n",
    "df = pd.DataFrame({'Actual': y_test, 'Predicted': y_pred})\n",
    "df"
   ]
  },
  {
   "cell_type": "markdown",
   "metadata": {},
   "source": [
    "### Prediction of price of the car entered on nummerplade.net"
   ]
  },
  {
   "cell_type": "code",
   "execution_count": 97,
   "metadata": {},
   "outputs": [
    {
     "name": "stdout",
     "output_type": "stream",
     "text": [
      "Predicted price of the entered car:  [387963.33228175]\n"
     ]
    }
   ],
   "source": [
    "# Predicting result based on car values \n",
    "predicted_car_value = regressor.predict([[int(search_car_km),int(search_car_year)]]) \n",
    "print(\"Predicted price of the entered car: \", predicted_car_value)"
   ]
  },
  {
   "cell_type": "markdown",
   "metadata": {},
   "source": [
    "### Data accuracy"
   ]
  },
  {
   "cell_type": "code",
   "execution_count": 67,
   "metadata": {},
   "outputs": [
    {
     "name": "stdout",
     "output_type": "stream",
     "text": [
      "Model accuracy:  0.641846165936584\n"
     ]
    }
   ],
   "source": [
    "# Data analysis of what and how accurate the data was \n",
    "\n",
    "# Vi skal kunne forklare de her tal, de er gode. Men øøøh :) \n",
    "# Se bunden af artiklen: https://stackabuse.com/linear-regression-in-python-with-scikit-learn/\n",
    "\n",
    "from sklearn import metrics\n",
    "print(\"Model accuracy: \", regressor.score(X, y))\n"
   ]
  }
 ],
 "metadata": {
  "kernelspec": {
   "display_name": "Python 3",
   "language": "python",
   "name": "python3"
  },
  "language_info": {
   "codemirror_mode": {
    "name": "ipython",
    "version": 3
   },
   "file_extension": ".py",
   "mimetype": "text/x-python",
   "name": "python",
   "nbconvert_exporter": "python",
   "pygments_lexer": "ipython3",
   "version": "3.8.5"
  }
 },
 "nbformat": 4,
 "nbformat_minor": 4
}
