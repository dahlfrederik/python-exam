{
 "cells": [
  {
   "cell_type": "markdown",
   "metadata": {},
   "source": [
    "### Find numberplate"
   ]
  },
  {
   "cell_type": "code",
   "execution_count": 4,
   "metadata": {
    "scrolled": false
   },
   "outputs": [
    {
     "name": "stdout",
     "output_type": "stream",
     "text": [
      "Nummerpladen er: AU 70 413\n",
      "\f",
      "\n"
     ]
    },
    {
     "data": {
      "image/png": "[encoded data removed]",
      "text/plain": [
       "<Figure size 432x288 with 1 Axes>"
      ]
     },
     "metadata": {
      "needs_background": "light"
     },
     "output_type": "display_data"
    }
   ],
   "source": [
    "from modules import photohandling as ph\n",
    "\n",
    "numberplate = ph.find_numberplate(True, True)"
   ]
  },
  {
   "cell_type": "markdown",
   "metadata": {},
   "source": [
    "### Scrape web data from nummerplade.net"
   ]
  },
  {
   "cell_type": "code",
   "execution_count": 6,
   "metadata": {},
   "outputs": [
    {
     "name": "stdout",
     "output_type": "stream",
     "text": [
      "Starting up..\n",
      "Got Browser\n",
      "Search Entered\n",
      "Search done\n",
      "Search_car_km: 92000\n",
      "Search_car_year: 2015 \n",
      "Mærke/model på søgte bil:  Tesla Model S \n"
     ]
    }
   ],
   "source": [
    "import modules.nummerplade_scraper as np_scraper\n",
    "search_car = np_scraper.numberplate_scraper(numberplate, True)\n",
    "\n",
    "search_car_km = search_car.get_car_km()\n",
    "search_car_make_model = search_car.get_car_make_model()\n",
    "search_car_year = search_car.get_car_model_year()\n",
    "\n",
    "\n",
    "print(\"Search_car_km: \" + search_car_km)\n",
    "print(\"Search_car_year: \" + search_car_year)\n",
    "print(\"Mærke/model på søgte bil: \", search_car_make_model)\n",
    "\n",
    "search_car.close_browser()"
   ]
  },
  {
   "cell_type": "markdown",
   "metadata": {},
   "source": [
    "### Scrape web data from Bilbasen.dk"
   ]
  },
  {
   "cell_type": "code",
   "execution_count": 3,
   "metadata": {},
   "outputs": [
    {
     "name": "stdout",
     "output_type": "stream",
     "text": [
      "Starting up...\n",
      "Got Browser\n",
      "Cookie Button Clicked\n",
      "Leasing Button Clicked\n",
      "Search Bar Entered\n",
      "Searching for: Tesla Model S \n",
      "Souping Site\n",
      "\n",
      "Cars found: 32\n",
      "{'name': 'Tesla Model S  P85 5d', 'km': 113000, 'price': '314900', 'year': 2014}\n",
      "{'name': 'Tesla Model S  75D 5d', 'km': 81000, 'price': '434000', 'year': 2016}\n",
      "{'name': 'Tesla Model S  90D 5d', 'km': 40000, 'price': '400000', 'year': 2016}\n",
      "{'name': 'Tesla Model S  85 5d', 'km': 141000, 'price': '299700', 'year': 2014}\n",
      "{'name': 'Tesla Model X  100D 6prs 5d', 'km': 28000, 'price': '839000', 'year': 2018}\n",
      "{'name': 'Tesla Model S  75D 5d', 'km': 36000, 'price': '589900', 'year': 2019}\n",
      "{'name': 'Tesla Model S  85D 5d', 'km': 79000, 'price': '404900', 'year': 2015}\n",
      "{'name': 'Tesla Model S  85 5d', 'km': 150000, 'price': '299800', 'year': 2014}\n",
      "{'name': 'Tesla Model S  Long Range AWD 5d', 'km': 31000, 'price': '699900', 'year': 2020}\n",
      "{'name': 'Tesla Model S  75D 5d', 'km': 75000, 'price': '470000', 'year': 2017}\n",
      "{'name': 'Tesla Model S  Ludicrous Performance AWD 5d', 'km': 34000, 'price': '799900', 'year': 2019}\n",
      "{'name': 'Tesla Model S  85 5d', 'km': 103000, 'price': '329900', 'year': 2014}\n",
      "{'name': 'Tesla Model S  85 5d', 'km': 46000, 'price': '365000', 'year': 2015}\n",
      "{'name': 'Tesla Model S  P100D Ludicrous 5d', 'km': 75000, 'price': '684000', 'year': 2016}\n",
      "{'name': 'Tesla Model S  90D 7prs 5d', 'km': 72000, 'price': '445000', 'year': 2015}\n",
      "{'name': 'Tesla Model S  70 5d', 'km': 197000, 'price': '279995', 'year': 2015}\n",
      "{'name': 'Tesla Model S  85 5d', 'km': 146000, 'price': '299800', 'year': 2014}\n",
      "{'name': 'Tesla Model X  Long Range AWD 5d', 'km': 27000, 'price': '859000', 'year': 2020}\n",
      "{'name': 'Tesla Model S  P85 7prs 5d', 'km': 164000, 'price': '299000', 'year': 2014}\n",
      "{'name': 'Tesla Model S  100D 5d', 'km': 63000, 'price': '663000', 'year': 2018}\n",
      "{'name': 'Tesla Model S  85 5d', 'km': 183000, 'price': '310000', 'year': 2013}\n",
      "{'name': 'Tesla Model S  75 5d', 'km': 83000, 'price': '419000', 'year': 2016}\n",
      "{'name': 'Tesla Model S  85D 5d', 'km': 227000, 'price': '349000', 'year': 2015}\n",
      "{'name': 'Tesla Model X  75D 5d', 'km': 111000, 'price': '409900', 'year': 2019}\n",
      "{'name': 'Tesla Model S  70D 5d', 'km': 92000, 'price': '315000', 'year': 2015}\n",
      "{'name': 'Tesla Model S  85 5d', 'km': 72000, 'price': '314500', 'year': 2014}\n",
      "{'name': 'Tesla Model S  85 5d', 'km': 346000, 'price': '255000', 'year': 2014}\n",
      "{'name': 'Tesla Model S  P85D 5d', 'km': 58000, 'price': '420000', 'year': 2015}\n",
      "{'name': 'Tesla Model S  70D 5d', 'km': 83000, 'price': '359900', 'year': 2016}\n",
      "{'name': 'Tesla Model 3  Long Range AWD 4d', 'km': 28000, 'price': '363455', 'year': 2019}\n",
      "{'name': 'Tesla Model S  P85D 5d', 'km': 112000, 'price': '415000', 'year': 2015}\n",
      "{'name': 'Tesla Model 3  Long Range AWD 4d', 'km': 15000, 'price': '384900', 'year': 2020}\n"
     ]
    }
   ],
   "source": [
    "import modules.bilbasen_scraper as bilbasen_scraper\n",
    "\n",
    "bilbasen = bilbasen_scraper.my_car(True)\n",
    "bilbasen.click_cookie_button()\n",
    "bilbasen.click_leasing_button()\n",
    "bilbasen.search_in_search_bar(search_car_make_model)\n",
    "print(\"Searching for: \" + search_car_make_model)\n",
    "bilbasen.get_car_list()\n",
    "bilbasen.close_browser()\n",
    "make_me_dataframe = bilbasen.car_list\n"
   ]
  },
  {
   "cell_type": "code",
   "execution_count": 7,
   "metadata": {},
   "outputs": [
    {
     "name": "stdout",
     "output_type": "stream",
     "text": [
      "Predicted price of the entered car:  [196008.57713088]\n"
     ]
    }
   ],
   "source": [
    "\n",
    "import modules.regression as regression\n",
    "\n",
    "\n",
    "data = pd.DataFrame(make_me_dataframe) \n",
    "data.head()\n",
    "\n",
    "\n",
    "find_car = regression.find_car_value(\n",
    "    data, search_car_km, search_car_year)\n",
    "\n",
    "find_car.show_dataframe()\n",
    "find_car.normalize_data()\n",
    "find_car.describe_data()\n",
    "find_car.train_model()\n",
    "find_car.show_coff_and_interception()\n",
    "find_car.prediction_vs_real()\n",
    "find_car.predict_car_value()\n",
    "\n"
   ]
  }
 ],
 "metadata": {
  "kernelspec": {
   "display_name": "Python 3",
   "language": "python",
   "name": "python3"
  },
  "language_info": {
   "codemirror_mode": {
    "name": "ipython",
    "version": 3
   },
   "file_extension": ".py",
   "mimetype": "text/x-python",
   "name": "python",
   "nbconvert_exporter": "python",
   "pygments_lexer": "ipython3",
   "version": "3.7.6"
  }
 },
 "nbformat": 4,
 "nbformat_minor": 4
}
