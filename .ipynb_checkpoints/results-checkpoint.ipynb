{
 "cells": [
  {
   "cell_type": "markdown",
   "metadata": {},
   "source": [
    "If you have a windows and use firefox leave the variable windows = True\n",
    "The same goes for wether you want to check the algorithm on a Tesla or Aygo"
   ]
  },
  {
   "cell_type": "code",
   "execution_count": 1,
   "metadata": {},
   "outputs": [],
   "source": [
    "Windows = True \n",
    "M1 = False \n",
    "Tesla = True\n",
    "Aygo = False "
   ]
  },
  {
   "cell_type": "markdown",
   "metadata": {},
   "source": [
    "### Find numberplate"
   ]
  },
  {
   "cell_type": "code",
   "execution_count": 2,
   "metadata": {
    "scrolled": false
   },
   "outputs": [
    {
     "name": "stdout",
     "output_type": "stream",
     "text": [
      "Nummerpladen er: CM58 541\n",
      "\f",
      "\n"
     ]
    },
    {
     "data": {
      "image/png": "[encoded data removed]",
      "text/plain": [
       "<Figure size 432x288 with 1 Axes>"
      ]
     },
     "metadata": {
      "needs_background": "light"
     },
     "output_type": "display_data"
    }
   ],
   "source": [
    "from modules import photohandling as ph\n",
    "\n",
    "numberplate = ph.find_numberplate(M1, Aygo)"
   ]
  },
  {
   "cell_type": "markdown",
   "metadata": {},
   "source": [
    "### Scrape web data from nummerplade.net"
   ]
  },
  {
   "cell_type": "code",
   "execution_count": 3,
   "metadata": {},
   "outputs": [
    {
     "name": "stdout",
     "output_type": "stream",
     "text": [
      "Starting up..\n",
      "Got Browser\n",
      "Search Entered\n",
      "Search done\n",
      "Search_car_km: 93000\n",
      "Search_car_year: 2015 \n",
      "Mærke/model på søgte bil:  Toyota Aygo \n"
     ]
    }
   ],
   "source": [
    "import modules.nummerplade_scraper as np_scraper\n",
    "search_car = np_scraper.numberplate_scraper(numberplate, M1)\n",
    "\n",
    "search_car_km = search_car.get_car_km()\n",
    "search_car_make_model = search_car.get_car_make_model()\n",
    "search_car_year = search_car.get_car_model_year()\n",
    "\n",
    "\n",
    "print(\"Search_car_km: \" + search_car_km)\n",
    "print(\"Search_car_year: \" + search_car_year)\n",
    "print(\"Mærke/model på søgte bil: \", search_car_make_model)\n",
    "\n",
    "search_car.close_browser()"
   ]
  },
  {
   "cell_type": "markdown",
   "metadata": {},
   "source": [
    "### Scrape web data from Bilbasen.dk"
   ]
  },
  {
   "cell_type": "code",
   "execution_count": 4,
   "metadata": {},
   "outputs": [
    {
     "name": "stdout",
     "output_type": "stream",
     "text": [
      "Starting up...\n",
      "Got Browser\n",
      "Cookie Button Clicked\n",
      "Leasing Button Clicked\n",
      "Search Bar Entered\n",
      "Searching for: Toyota Aygo \n",
      "Souping Site\n",
      "\n",
      "Cars found: 31\n",
      "{'name': 'Toyota Aygo 1,0 VVT-i x-wave Sky 5d', 'km': 86000, 'price': '64800', 'year': 2015}\n",
      "{'name': 'Toyota Aygo 1,0 VVT-i x-pression 5d', 'km': 133000, 'price': '59900', 'year': 2016}\n",
      "{'name': 'Toyota Aygo 1,0 VVT-i x-sky 5d', 'km': 53000, 'price': '74900', 'year': 2015}\n",
      "{'name': 'Toyota Aygo 1,0 VVT-i x-play 5d', 'km': 99000, 'price': '64900', 'year': 2015}\n",
      "{'name': 'Toyota Aygo 1,0 VVT-i x-touch 5d', 'km': 99000, 'price': '59800', 'year': 2014}\n",
      "{'name': 'Toyota Aygo 1,0 VVT-i x-play 5d', 'km': 68000, 'price': '69900', 'year': 2016}\n",
      "{'name': 'Toyota Aygo 1,0 VVT-i x-play Touch 5d', 'km': 89000, 'price': '73800', 'year': 2015}\n",
      "{'name': 'Toyota Aygo 1,0 VVT-i x-clusiv 5d', 'km': 28000, 'price': '99900', 'year': 2019}\n",
      "{'name': 'Toyota Aygo 1,0 VVT-i x-cite 5d', 'km': 40000, 'price': '79500', 'year': 2015}\n",
      "{'name': 'Toyota Aygo 1,0 Plus 5d', 'km': 144000, 'price': '29900', 'year': 2008}\n",
      "{'name': 'Toyota Aygo 1,0 VVT-i x-style 5d', 'km': 10000, 'price': '109900', 'year': 2019}\n",
      "{'name': 'Toyota Aygo 1,0 VVT-i x-wave Sky 5d', 'km': 107000, 'price': '69900', 'year': 2015}\n",
      "{'name': 'Toyota Aygo 1,0 VVT-i x-touch 5d', 'km': 155000, 'price': '62500', 'year': 2015}\n",
      "{'name': 'Toyota Aygo 1,0 VVT-i x-clusiv 5d', 'km': 109000, 'price': '69800', 'year': 2015}\n",
      "{'name': 'Toyota Aygo 1,0 VVT-i x-plore 5d', 'km': 24000, 'price': '89900', 'year': 2018}\n",
      "{'name': 'Toyota Aygo 1,0 Plus MMT 5d', 'km': 220000, 'price': '29900', 'year': 2007}\n",
      "{'name': 'Toyota Aygo 1,0 VVT-i x-cellence 5d', 'km': 22000, 'price': '84900', 'year': 2018}\n",
      "{'name': 'Toyota Aygo 1,0 VVT-i x-press 5d', 'km': 6900, 'price': '102900', 'year': 2020}\n",
      "{'name': 'Toyota Aygo 1,0 VVT-i x-style 5d', 'km': 6600, 'price': '112500', 'year': 2020}\n",
      "{'name': 'Toyota Aygo 1,0 VVT-i x-touch 5d', 'km': 54000, 'price': '64980', 'year': 2014}\n",
      "{'name': 'Toyota Aygo 1,0 VVT-i x-sky 5d', 'km': 45000, 'price': '89900', 'year': 2019}\n",
      "{'name': 'Toyota Aygo 1,0 VVT-i T1 5d', 'km': 184000, 'price': '25700', 'year': 2013}\n",
      "{'name': 'Toyota Aygo 1,0 VVT-i x-press 5d', 'km': 99000, 'price': '59900', 'year': 2014}\n",
      "{'name': 'Toyota Aygo 1,0 VVT-i x-pression 5d', 'km': 28000, 'price': '94800', 'year': 2020}\n",
      "{'name': 'Toyota Aygo 1,0 VVT-i x-play 5d', 'km': 104000, 'price': '59980', 'year': 2015}\n",
      "{'name': 'Toyota Aygo 1,0 VVT-i T2 Air Connect 5d', 'km': 104000, 'price': '46900', 'year': 2014}\n",
      "{'name': 'Toyota Aygo 1,0  5d', 'km': 205000, 'price': '26400', 'year': 2010}\n",
      "{'name': 'Toyota Aygo 1,0 VVT-i T1 5d', 'km': 138000, 'price': '39900', 'year': 2012}\n",
      "{'name': 'Toyota Aygo 1,0 VVT-i x-play Touch 5d', 'km': 57000, 'price': '59990', 'year': 2015}\n",
      "{'name': 'Toyota Aygo 1,0 VVT-i x-play Touch 5d', 'km': 113000, 'price': '64900', 'year': 2015}\n",
      "{'name': 'Toyota Aygo 1,0 VVT-i x-wave Sky 5d', 'km': 87000, 'price': '79500', 'year': 2016}\n"
     ]
    }
   ],
   "source": [
    "import modules.bilbasen_scraper as bilbasen_scraper\n",
    "\n",
    "bilbasen = bilbasen_scraper.my_car(M1)\n",
    "bilbasen.click_cookie_button()\n",
    "bilbasen.click_leasing_button()\n",
    "bilbasen.search_in_search_bar(search_car_make_model)\n",
    "print(\"Searching for: \" + search_car_make_model)\n",
    "bilbasen.get_car_list()\n",
    "bilbasen.close_browser()\n",
    "make_me_dataframe = bilbasen.car_list\n"
   ]
  },
  {
   "cell_type": "markdown",
   "metadata": {},
   "source": [
    "### Machine learning "
   ]
  },
  {
   "cell_type": "code",
   "execution_count": 5,
   "metadata": {},
   "outputs": [
    {
     "data": {
      "text/html": [
       "<div>\n",
       "<style scoped>\n",
       "    .dataframe tbody tr th:only-of-type {\n",
       "        vertical-align: middle;\n",
       "    }\n",
       "\n",
       "    .dataframe tbody tr th {\n",
       "        vertical-align: top;\n",
       "    }\n",
       "\n",
       "    .dataframe thead th {\n",
       "        text-align: right;\n",
       "    }\n",
       "</style>\n",
       "<table border=\"1\" class=\"dataframe\">\n",
       "  <thead>\n",
       "    <tr style=\"text-align: right;\">\n",
       "      <th></th>\n",
       "      <th>name</th>\n",
       "      <th>km</th>\n",
       "      <th>price</th>\n",
       "      <th>year</th>\n",
       "    </tr>\n",
       "  </thead>\n",
       "  <tbody>\n",
       "    <tr>\n",
       "      <th>0</th>\n",
       "      <td>Toyota Aygo 1,0 VVT-i x-wave Sky 5d</td>\n",
       "      <td>86000</td>\n",
       "      <td>64800</td>\n",
       "      <td>2015</td>\n",
       "    </tr>\n",
       "    <tr>\n",
       "      <th>1</th>\n",
       "      <td>Toyota Aygo 1,0 VVT-i x-pression 5d</td>\n",
       "      <td>133000</td>\n",
       "      <td>59900</td>\n",
       "      <td>2016</td>\n",
       "    </tr>\n",
       "    <tr>\n",
       "      <th>2</th>\n",
       "      <td>Toyota Aygo 1,0 VVT-i x-sky 5d</td>\n",
       "      <td>53000</td>\n",
       "      <td>74900</td>\n",
       "      <td>2015</td>\n",
       "    </tr>\n",
       "    <tr>\n",
       "      <th>3</th>\n",
       "      <td>Toyota Aygo 1,0 VVT-i x-play 5d</td>\n",
       "      <td>99000</td>\n",
       "      <td>64900</td>\n",
       "      <td>2015</td>\n",
       "    </tr>\n",
       "    <tr>\n",
       "      <th>4</th>\n",
       "      <td>Toyota Aygo 1,0 VVT-i x-touch 5d</td>\n",
       "      <td>99000</td>\n",
       "      <td>59800</td>\n",
       "      <td>2014</td>\n",
       "    </tr>\n",
       "  </tbody>\n",
       "</table>\n",
       "</div>"
      ],
      "text/plain": [
       "                                  name      km  price  year\n",
       "0  Toyota Aygo 1,0 VVT-i x-wave Sky 5d   86000  64800  2015\n",
       "1  Toyota Aygo 1,0 VVT-i x-pression 5d  133000  59900  2016\n",
       "2       Toyota Aygo 1,0 VVT-i x-sky 5d   53000  74900  2015\n",
       "3      Toyota Aygo 1,0 VVT-i x-play 5d   99000  64900  2015\n",
       "4     Toyota Aygo 1,0 VVT-i x-touch 5d   99000  59800  2014"
      ]
     },
     "execution_count": 5,
     "metadata": {},
     "output_type": "execute_result"
    }
   ],
   "source": [
    "\n",
    "import modules.regression as regression\n",
    "import pandas as pd\n",
    "\n",
    "data = pd.DataFrame(make_me_dataframe) \n",
    "data.head()\n",
    "\n"
   ]
  },
  {
   "cell_type": "markdown",
   "metadata": {},
   "source": [
    "##### Create instance of the regression class"
   ]
  },
  {
   "cell_type": "code",
   "execution_count": 6,
   "metadata": {},
   "outputs": [],
   "source": [
    "find_car = regression.find_car_value(\n",
    "    data, search_car_km, search_car_year)"
   ]
  },
  {
   "cell_type": "markdown",
   "metadata": {},
   "source": [
    "#### Validate that we get data from dataframe"
   ]
  },
  {
   "cell_type": "code",
   "execution_count": 7,
   "metadata": {},
   "outputs": [
    {
     "data": {
      "text/html": [
       "<div>\n",
       "<style scoped>\n",
       "    .dataframe tbody tr th:only-of-type {\n",
       "        vertical-align: middle;\n",
       "    }\n",
       "\n",
       "    .dataframe tbody tr th {\n",
       "        vertical-align: top;\n",
       "    }\n",
       "\n",
       "    .dataframe thead th {\n",
       "        text-align: right;\n",
       "    }\n",
       "</style>\n",
       "<table border=\"1\" class=\"dataframe\">\n",
       "  <thead>\n",
       "    <tr style=\"text-align: right;\">\n",
       "      <th></th>\n",
       "      <th>name</th>\n",
       "      <th>km</th>\n",
       "      <th>price</th>\n",
       "      <th>year</th>\n",
       "    </tr>\n",
       "  </thead>\n",
       "  <tbody>\n",
       "    <tr>\n",
       "      <th>0</th>\n",
       "      <td>Toyota Aygo 1,0 VVT-i x-wave Sky 5d</td>\n",
       "      <td>86000</td>\n",
       "      <td>64800</td>\n",
       "      <td>2015</td>\n",
       "    </tr>\n",
       "    <tr>\n",
       "      <th>1</th>\n",
       "      <td>Toyota Aygo 1,0 VVT-i x-pression 5d</td>\n",
       "      <td>133000</td>\n",
       "      <td>59900</td>\n",
       "      <td>2016</td>\n",
       "    </tr>\n",
       "    <tr>\n",
       "      <th>2</th>\n",
       "      <td>Toyota Aygo 1,0 VVT-i x-sky 5d</td>\n",
       "      <td>53000</td>\n",
       "      <td>74900</td>\n",
       "      <td>2015</td>\n",
       "    </tr>\n",
       "    <tr>\n",
       "      <th>3</th>\n",
       "      <td>Toyota Aygo 1,0 VVT-i x-play 5d</td>\n",
       "      <td>99000</td>\n",
       "      <td>64900</td>\n",
       "      <td>2015</td>\n",
       "    </tr>\n",
       "    <tr>\n",
       "      <th>4</th>\n",
       "      <td>Toyota Aygo 1,0 VVT-i x-touch 5d</td>\n",
       "      <td>99000</td>\n",
       "      <td>59800</td>\n",
       "      <td>2014</td>\n",
       "    </tr>\n",
       "  </tbody>\n",
       "</table>\n",
       "</div>"
      ],
      "text/plain": [
       "                                  name      km  price  year\n",
       "0  Toyota Aygo 1,0 VVT-i x-wave Sky 5d   86000  64800  2015\n",
       "1  Toyota Aygo 1,0 VVT-i x-pression 5d  133000  59900  2016\n",
       "2       Toyota Aygo 1,0 VVT-i x-sky 5d   53000  74900  2015\n",
       "3      Toyota Aygo 1,0 VVT-i x-play 5d   99000  64900  2015\n",
       "4     Toyota Aygo 1,0 VVT-i x-touch 5d   99000  59800  2014"
      ]
     },
     "execution_count": 7,
     "metadata": {},
     "output_type": "execute_result"
    }
   ],
   "source": [
    "find_car.show_dataframe()"
   ]
  },
  {
   "cell_type": "markdown",
   "metadata": {},
   "source": [
    "#### Normalizing the data "
   ]
  },
  {
   "cell_type": "code",
   "execution_count": 8,
   "metadata": {},
   "outputs": [],
   "source": [
    "scaled_df = find_car.normalize_data()"
   ]
  },
  {
   "cell_type": "markdown",
   "metadata": {},
   "source": [
    "#### Data visualization with normalized data"
   ]
  },
  {
   "cell_type": "code",
   "execution_count": 9,
   "metadata": {
    "scrolled": true
   },
   "outputs": [
    {
     "data": {
      "text/plain": [
       "[<matplotlib.lines.Line2D at 0x7fef4c63cbb0>]"
      ]
     },
     "execution_count": 9,
     "metadata": {},
     "output_type": "execute_result"
    },
    {
     "data": {
      "image/png": "[encoded data removed]",
      "text/plain": [
       "<Figure size 432x288 with 1 Axes>"
      ]
     },
     "metadata": {
      "needs_background": "light"
     },
     "output_type": "display_data"
    }
   ],
   "source": [
    "from matplotlib import pyplot as plt\n",
    "import numpy as np\n",
    "\n",
    "x1 = scaled_df['km']\n",
    "y = scaled_df['price']\n",
    "\n",
    "scaled_df.plot.scatter(x = 0, y = 1)\n",
    "plt.xlabel(\"km\")\n",
    "plt.ylabel(\"price\")\n",
    "\n",
    "m, b = np.polyfit(x1, y, 1)\n",
    "plt.plot(x1, m*x1+ b)\n"
   ]
  },
  {
   "cell_type": "code",
   "execution_count": 10,
   "metadata": {},
   "outputs": [
    {
     "data": {
      "text/plain": [
       "[<matplotlib.lines.Line2D at 0x7fef4c6b86a0>]"
      ]
     },
     "execution_count": 10,
     "metadata": {},
     "output_type": "execute_result"
    },
    {
     "data": {
      "image/png": "[encoded data removed]",
      "text/plain": [
       "<Figure size 432x288 with 1 Axes>"
      ]
     },
     "metadata": {
      "needs_background": "light"
     },
     "output_type": "display_data"
    }
   ],
   "source": [
    "x2 = scaled_df['year']\n",
    "y = scaled_df['price']\n",
    "\n",
    "scaled_df.plot.scatter(x=0, y=1)\n",
    "plt.xlabel(\"year\")\n",
    "plt.ylabel(\"price\")\n",
    "\n",
    "m, b = np.polyfit(x2, y, 1)\n",
    "plt.plot(x1, m*x1+b)"
   ]
  },
  {
   "cell_type": "markdown",
   "metadata": {},
   "source": [
    "#### Describing the data to get an idea of the values "
   ]
  },
  {
   "cell_type": "code",
   "execution_count": 11,
   "metadata": {},
   "outputs": [
    {
     "data": {
      "text/html": [
       "<div>\n",
       "<style scoped>\n",
       "    .dataframe tbody tr th:only-of-type {\n",
       "        vertical-align: middle;\n",
       "    }\n",
       "\n",
       "    .dataframe tbody tr th {\n",
       "        vertical-align: top;\n",
       "    }\n",
       "\n",
       "    .dataframe thead th {\n",
       "        text-align: right;\n",
       "    }\n",
       "</style>\n",
       "<table border=\"1\" class=\"dataframe\">\n",
       "  <thead>\n",
       "    <tr style=\"text-align: right;\">\n",
       "      <th></th>\n",
       "      <th>km</th>\n",
       "      <th>year</th>\n",
       "    </tr>\n",
       "  </thead>\n",
       "  <tbody>\n",
       "    <tr>\n",
       "      <th>count</th>\n",
       "      <td>31.000000</td>\n",
       "      <td>31.000000</td>\n",
       "    </tr>\n",
       "    <tr>\n",
       "      <th>mean</th>\n",
       "      <td>87661.290323</td>\n",
       "      <td>2015.225806</td>\n",
       "    </tr>\n",
       "    <tr>\n",
       "      <th>std</th>\n",
       "      <td>57043.145527</td>\n",
       "      <td>3.148647</td>\n",
       "    </tr>\n",
       "    <tr>\n",
       "      <th>min</th>\n",
       "      <td>6600.000000</td>\n",
       "      <td>2007.000000</td>\n",
       "    </tr>\n",
       "    <tr>\n",
       "      <th>25%</th>\n",
       "      <td>42500.000000</td>\n",
       "      <td>2014.000000</td>\n",
       "    </tr>\n",
       "    <tr>\n",
       "      <th>50%</th>\n",
       "      <td>89000.000000</td>\n",
       "      <td>2015.000000</td>\n",
       "    </tr>\n",
       "    <tr>\n",
       "      <th>75%</th>\n",
       "      <td>111000.000000</td>\n",
       "      <td>2017.000000</td>\n",
       "    </tr>\n",
       "    <tr>\n",
       "      <th>max</th>\n",
       "      <td>220000.000000</td>\n",
       "      <td>2020.000000</td>\n",
       "    </tr>\n",
       "  </tbody>\n",
       "</table>\n",
       "</div>"
      ],
      "text/plain": [
       "                  km         year\n",
       "count      31.000000    31.000000\n",
       "mean    87661.290323  2015.225806\n",
       "std     57043.145527     3.148647\n",
       "min      6600.000000  2007.000000\n",
       "25%     42500.000000  2014.000000\n",
       "50%     89000.000000  2015.000000\n",
       "75%    111000.000000  2017.000000\n",
       "max    220000.000000  2020.000000"
      ]
     },
     "execution_count": 11,
     "metadata": {},
     "output_type": "execute_result"
    }
   ],
   "source": [
    "find_car.describe_data()\n"
   ]
  },
  {
   "cell_type": "markdown",
   "metadata": {},
   "source": [
    "#### Trains the model using the data fetched "
   ]
  },
  {
   "cell_type": "code",
   "execution_count": 12,
   "metadata": {},
   "outputs": [
    {
     "data": {
      "text/plain": [
       "(        km  year\n",
       " 2    53000  2015\n",
       " 29  113000  2015\n",
       " 13  109000  2015\n",
       " 10   10000  2019\n",
       " 27  138000  2012\n",
       " 25  104000  2014\n",
       " 22   99000  2014,\n",
       " 2      74900\n",
       " 29     64900\n",
       " 13     69800\n",
       " 10    109900\n",
       " 27     39900\n",
       " 25     46900\n",
       " 22     59900\n",
       " Name: price, dtype: object)"
      ]
     },
     "execution_count": 12,
     "metadata": {},
     "output_type": "execute_result"
    }
   ],
   "source": [
    "find_car.train_model()\n"
   ]
  },
  {
   "cell_type": "markdown",
   "metadata": {},
   "source": [
    "#### Finding slope and interception | Used for data visualization"
   ]
  },
  {
   "cell_type": "code",
   "execution_count": 13,
   "metadata": {},
   "outputs": [],
   "source": [
    "coeff_df, intercept = find_car.show_coff_and_interception()\n"
   ]
  },
  {
   "cell_type": "markdown",
   "metadata": {},
   "source": [
    "Using the coeff and the interception given by the linear regression model to do the graph.\n",
    "Then we combine the two coefficents and plot the data."
   ]
  },
  {
   "cell_type": "code",
   "execution_count": 25,
   "metadata": {},
   "outputs": [
    {
     "data": {
      "image/png": "[encoded data removed]",
      "text/plain": [
       "<Figure size 432x288 with 1 Axes>"
      ]
     },
     "metadata": {
      "needs_background": "light"
     },
     "output_type": "display_data"
    }
   ],
   "source": [
    "x, y = find_car.get_x_y()\n",
    "\n",
    "km_coeff = int(coeff_df.iloc[0])\n",
    "year_coeff = int(coeff_df.iloc[1])\n",
    "\n",
    "#Combining the two slopes \n",
    "slope = (km_coeff) + (year_coeff)\n",
    "y = slope*x+intercept\n",
    "\n",
    "plt.plot(x, y, '-r', label='km')\n",
    "plt.scatter(x,y, label=\"data points\")\n",
    "plt.title('Linear visalization')\n",
    "plt.xlabel('Price', color='#1C2833')\n",
    "plt.ylabel('KM and Year', color='#1C2833')\n",
    "plt.legend(loc='upper left')\n",
    "plt.grid()\n",
    "plt.show()"
   ]
  },
  {
   "cell_type": "markdown",
   "metadata": {},
   "source": [
    "#### Compare actual scraped values to the ones predicted by the model"
   ]
  },
  {
   "cell_type": "code",
   "execution_count": 15,
   "metadata": {
    "scrolled": true
   },
   "outputs": [
    {
     "data": {
      "text/html": [
       "<div>\n",
       "<style scoped>\n",
       "    .dataframe tbody tr th:only-of-type {\n",
       "        vertical-align: middle;\n",
       "    }\n",
       "\n",
       "    .dataframe tbody tr th {\n",
       "        vertical-align: top;\n",
       "    }\n",
       "\n",
       "    .dataframe thead th {\n",
       "        text-align: right;\n",
       "    }\n",
       "</style>\n",
       "<table border=\"1\" class=\"dataframe\">\n",
       "  <thead>\n",
       "    <tr style=\"text-align: right;\">\n",
       "      <th></th>\n",
       "      <th>Actual</th>\n",
       "      <th>Predicted</th>\n",
       "    </tr>\n",
       "  </thead>\n",
       "  <tbody>\n",
       "    <tr>\n",
       "      <th>2</th>\n",
       "      <td>74900</td>\n",
       "      <td>73886.767433</td>\n",
       "    </tr>\n",
       "    <tr>\n",
       "      <th>29</th>\n",
       "      <td>64900</td>\n",
       "      <td>63130.262085</td>\n",
       "    </tr>\n",
       "    <tr>\n",
       "      <th>13</th>\n",
       "      <td>69800</td>\n",
       "      <td>63847.362441</td>\n",
       "    </tr>\n",
       "    <tr>\n",
       "      <th>10</th>\n",
       "      <td>109900</td>\n",
       "      <td>96487.354843</td>\n",
       "    </tr>\n",
       "    <tr>\n",
       "      <th>27</th>\n",
       "      <td>39900</td>\n",
       "      <td>47479.565924</td>\n",
       "    </tr>\n",
       "    <tr>\n",
       "      <th>25</th>\n",
       "      <td>46900</td>\n",
       "      <td>61020.798243</td>\n",
       "    </tr>\n",
       "    <tr>\n",
       "      <th>22</th>\n",
       "      <td>59900</td>\n",
       "      <td>61917.173689</td>\n",
       "    </tr>\n",
       "  </tbody>\n",
       "</table>\n",
       "</div>"
      ],
      "text/plain": [
       "    Actual     Predicted\n",
       "2    74900  73886.767433\n",
       "29   64900  63130.262085\n",
       "13   69800  63847.362441\n",
       "10  109900  96487.354843\n",
       "27   39900  47479.565924\n",
       "25   46900  61020.798243\n",
       "22   59900  61917.173689"
      ]
     },
     "execution_count": 15,
     "metadata": {},
     "output_type": "execute_result"
    }
   ],
   "source": [
    "find_car.prediction_vs_real()\n"
   ]
  },
  {
   "cell_type": "markdown",
   "metadata": {},
   "source": [
    "#### Shows the predicted value of the entered car"
   ]
  },
  {
   "cell_type": "code",
   "execution_count": 16,
   "metadata": {},
   "outputs": [
    {
     "name": "stdout",
     "output_type": "stream",
     "text": [
      "Predicted price of the entered car:  [66715.76386764]\n"
     ]
    }
   ],
   "source": [
    "find_car.predict_car_value()"
   ]
  }
 ],
 "metadata": {
  "kernelspec": {
   "display_name": "Python 3",
   "language": "python",
   "name": "python3"
  },
  "language_info": {
   "codemirror_mode": {
    "name": "ipython",
    "version": 3
   },
   "file_extension": ".py",
   "mimetype": "text/x-python",
   "name": "python",
   "nbconvert_exporter": "python",
   "pygments_lexer": "ipython3",
   "version": "3.8.5"
  }
 },
 "nbformat": 4,
 "nbformat_minor": 4
}
