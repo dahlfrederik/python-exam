{
 "cells": [
  {
   "cell_type": "markdown",
   "metadata": {},
   "source": [
    "# Car values from numberplate "
   ]
  },
  {
   "cell_type": "markdown",
   "metadata": {},
   "source": [
    "Choose system | windows = true, mac = false | \n",
    "\n",
    "Choose car | You can pick between \"aygo\" or \"tesla\" for now |\n",
    "\n"
   ]
  },
  {
   "cell_type": "code",
   "execution_count": 1,
   "metadata": {},
   "outputs": [],
   "source": [
    "on_windows = False \n",
    "car_model = \"Aygo\""
   ]
  },
  {
   "cell_type": "markdown",
   "metadata": {},
   "source": [
    "### Find numberplate"
   ]
  },
  {
   "cell_type": "code",
   "execution_count": 2,
   "metadata": {
    "scrolled": false
   },
   "outputs": [
    {
     "name": "stdout",
     "output_type": "stream",
     "text": [
      "Nummerpladen er: CM58 541\n",
      "\f",
      "\n"
     ]
    },
    {
     "data": {
      "image/png": "[encoded data removed]",
      "text/plain": [
       "<Figure size 432x288 with 1 Axes>"
      ]
     },
     "metadata": {
      "needs_background": "light"
     },
     "output_type": "display_data"
    }
   ],
   "source": [
    "from modules import photohandling as ph\n",
    "\n",
    "numberplate = ph.find_numberplate(on_windows, car_model)"
   ]
  },
  {
   "cell_type": "markdown",
   "metadata": {},
   "source": [
    "### Scrape web data from nummerplade.net"
   ]
  },
  {
   "cell_type": "code",
   "execution_count": 3,
   "metadata": {},
   "outputs": [
    {
     "name": "stdout",
     "output_type": "stream",
     "text": [
      "Starting up..\n",
      "Got Browser\n",
      "Search Entered\n",
      "Search done\n"
     ]
    },
    {
     "ename": "AttributeError",
     "evalue": "'NoneType' object has no attribute 'text'",
     "output_type": "error",
     "traceback": [
      "\u001b[0;31m---------------------------------------------------------------------------\u001b[0m",
      "\u001b[0;31mAttributeError\u001b[0m                            Traceback (most recent call last)",
      "\u001b[0;32m<ipython-input-3-ec60aa6cfdf1>\u001b[0m in \u001b[0;36m<module>\u001b[0;34m\u001b[0m\n\u001b[1;32m      2\u001b[0m \u001b[0msearch_car\u001b[0m \u001b[0;34m=\u001b[0m \u001b[0mnp_scraper\u001b[0m\u001b[0;34m.\u001b[0m\u001b[0mnumberplate_scraper\u001b[0m\u001b[0;34m(\u001b[0m\u001b[0mnumberplate\u001b[0m\u001b[0;34m,\u001b[0m \u001b[0mon_windows\u001b[0m\u001b[0;34m)\u001b[0m\u001b[0;34m\u001b[0m\u001b[0;34m\u001b[0m\u001b[0m\n\u001b[1;32m      3\u001b[0m \u001b[0;34m\u001b[0m\u001b[0m\n\u001b[0;32m----> 4\u001b[0;31m \u001b[0msearch_car_km\u001b[0m \u001b[0;34m=\u001b[0m \u001b[0msearch_car\u001b[0m\u001b[0;34m.\u001b[0m\u001b[0mget_car_km\u001b[0m\u001b[0;34m(\u001b[0m\u001b[0;34m)\u001b[0m\u001b[0;34m\u001b[0m\u001b[0;34m\u001b[0m\u001b[0m\n\u001b[0m\u001b[1;32m      5\u001b[0m \u001b[0msearch_car_make_model\u001b[0m \u001b[0;34m=\u001b[0m \u001b[0msearch_car\u001b[0m\u001b[0;34m.\u001b[0m\u001b[0mget_car_make_model\u001b[0m\u001b[0;34m(\u001b[0m\u001b[0;34m)\u001b[0m\u001b[0;34m\u001b[0m\u001b[0;34m\u001b[0m\u001b[0m\n\u001b[1;32m      6\u001b[0m \u001b[0msearch_car_year\u001b[0m \u001b[0;34m=\u001b[0m \u001b[0msearch_car\u001b[0m\u001b[0;34m.\u001b[0m\u001b[0mget_car_model_year\u001b[0m\u001b[0;34m(\u001b[0m\u001b[0;34m)\u001b[0m\u001b[0;34m\u001b[0m\u001b[0;34m\u001b[0m\u001b[0m\n",
      "\u001b[0;32m~/Dropbox/CPH Business/4 semester/Python/docker_notebooks/python-exam/modules/nummerplade_scraper.py\u001b[0m in \u001b[0;36mget_car_km\u001b[0;34m(self)\u001b[0m\n\u001b[1;32m     50\u001b[0m         \u001b[0mpage_source\u001b[0m \u001b[0;34m=\u001b[0m \u001b[0mself\u001b[0m\u001b[0;34m.\u001b[0m\u001b[0mbrowser\u001b[0m\u001b[0;34m.\u001b[0m\u001b[0mpage_source\u001b[0m\u001b[0;34m\u001b[0m\u001b[0;34m\u001b[0m\u001b[0m\n\u001b[1;32m     51\u001b[0m         \u001b[0mpage_soup\u001b[0m \u001b[0;34m=\u001b[0m \u001b[0msoup\u001b[0m\u001b[0;34m(\u001b[0m\u001b[0mpage_source\u001b[0m\u001b[0;34m,\u001b[0m\u001b[0;34m'html.parser'\u001b[0m\u001b[0;34m)\u001b[0m\u001b[0;34m\u001b[0m\u001b[0;34m\u001b[0m\u001b[0m\n\u001b[0;32m---> 52\u001b[0;31m         \u001b[0msearch_car_km\u001b[0m \u001b[0;34m=\u001b[0m \u001b[0mpage_soup\u001b[0m\u001b[0;34m.\u001b[0m\u001b[0mselect_one\u001b[0m\u001b[0;34m(\u001b[0m\u001b[0;34m\"#box-overblik-data-overblik_kmcheck > div > small\"\u001b[0m\u001b[0;34m)\u001b[0m\u001b[0;34m.\u001b[0m\u001b[0mtext\u001b[0m \u001b[0;34m+\u001b[0m \u001b[0;34m\" \"\u001b[0m\u001b[0;34m\u001b[0m\u001b[0;34m\u001b[0m\u001b[0m\n\u001b[0m\u001b[1;32m     53\u001b[0m         \u001b[0mfilter_search_km\u001b[0m \u001b[0;34m=\u001b[0m \u001b[0mre\u001b[0m\u001b[0;34m.\u001b[0m\u001b[0msub\u001b[0m\u001b[0;34m(\u001b[0m\u001b[0;34m\"[^0-9]+\"\u001b[0m\u001b[0;34m,\u001b[0m \u001b[0;34m\"\"\u001b[0m\u001b[0;34m,\u001b[0m\u001b[0msearch_car_km\u001b[0m\u001b[0;34m)\u001b[0m\u001b[0;34m\u001b[0m\u001b[0;34m\u001b[0m\u001b[0m\n\u001b[1;32m     54\u001b[0m         \u001b[0msearch_car_km\u001b[0m \u001b[0;34m=\u001b[0m \u001b[0mfilter_search_km\u001b[0m\u001b[0;34m\u001b[0m\u001b[0;34m\u001b[0m\u001b[0m\n",
      "\u001b[0;31mAttributeError\u001b[0m: 'NoneType' object has no attribute 'text'"
     ]
    }
   ],
   "source": [
    "import modules.nummerplade_scraper as np_scraper\n",
    "search_car = np_scraper.numberplate_scraper(numberplate, on_windows)\n",
    "\n",
    "search_car_km = search_car.get_car_km()\n",
    "search_car_make_model = search_car.get_car_make_model()\n",
    "search_car_year = search_car.get_car_model_year()\n",
    "\n",
    "\n",
    "print(\"Search_car_km: \" + search_car_km)\n",
    "print(\"Search_car_year: \" + search_car_year)\n",
    "print(\"Mærke/model på søgte bil: \", search_car_make_model)\n",
    "\n",
    "search_car.close_browser()"
   ]
  },
  {
   "cell_type": "markdown",
   "metadata": {},
   "source": [
    "### Scrape web data from Bilbasen.dk"
   ]
  },
  {
   "cell_type": "code",
   "execution_count": null,
   "metadata": {},
   "outputs": [],
   "source": [
    "import modules.bilbasen_scraper as bilbasen_scraper\n",
    "\n",
    "bilbasen = bilbasen_scraper.my_car(on_windows)\n",
    "bilbasen.click_cookie_button()\n",
    "bilbasen.click_leasing_button()\n",
    "bilbasen.search_in_search_bar(search_car_make_model)\n",
    "print(\"Searching for: \" + search_car_make_model)\n",
    "bilbasen.get_car_list()\n",
    "bilbasen.close_browser()\n",
    "make_me_dataframe = bilbasen.car_list\n"
   ]
  },
  {
   "cell_type": "markdown",
   "metadata": {},
   "source": [
    "### Machine learning "
   ]
  },
  {
   "cell_type": "code",
   "execution_count": null,
   "metadata": {},
   "outputs": [],
   "source": [
    "\n",
    "import modules.regression as regression\n",
    "import pandas as pd\n",
    "\n",
    "data = pd.DataFrame(make_me_dataframe) \n",
    "data.head()\n",
    "\n"
   ]
  },
  {
   "cell_type": "markdown",
   "metadata": {},
   "source": [
    "##### Create instance of the regression class"
   ]
  },
  {
   "cell_type": "code",
   "execution_count": null,
   "metadata": {},
   "outputs": [],
   "source": [
    "find_car = regression.find_car_value(\n",
    "    data, search_car_km, search_car_year)"
   ]
  },
  {
   "cell_type": "markdown",
   "metadata": {},
   "source": [
    "#### Validate that we get data from dataframe"
   ]
  },
  {
   "cell_type": "code",
   "execution_count": null,
   "metadata": {},
   "outputs": [],
   "source": [
    "find_car.show_dataframe()"
   ]
  },
  {
   "cell_type": "markdown",
   "metadata": {},
   "source": [
    "#### Normalizing the data "
   ]
  },
  {
   "cell_type": "code",
   "execution_count": null,
   "metadata": {},
   "outputs": [],
   "source": [
    "scaled_df = find_car.normalize_data()"
   ]
  },
  {
   "cell_type": "markdown",
   "metadata": {},
   "source": [
    "#### Data visualization with normalized data"
   ]
  },
  {
   "cell_type": "code",
   "execution_count": null,
   "metadata": {
    "scrolled": true
   },
   "outputs": [],
   "source": [
    "from matplotlib import pyplot as plt\n",
    "import numpy as np\n",
    "\n",
    "x1 = scaled_df['km']\n",
    "y = scaled_df['price']\n",
    "\n",
    "scaled_df.plot.scatter(x = 0, y = 1)\n",
    "plt.xlabel(\"km\")\n",
    "plt.ylabel(\"price\")\n",
    "\n",
    "m, b = np.polyfit(x1, y, 1)\n",
    "plt.plot(x1, m*x1+ b)\n"
   ]
  },
  {
   "cell_type": "code",
   "execution_count": null,
   "metadata": {},
   "outputs": [],
   "source": [
    "x2 = scaled_df['year']\n",
    "y = scaled_df['price']\n",
    "\n",
    "scaled_df.plot.scatter(x=0, y=1)\n",
    "plt.xlabel(\"year\")\n",
    "plt.ylabel(\"price\")\n",
    "\n",
    "m, b = np.polyfit(x2, y, 1)\n",
    "plt.plot(x1, m*x1+b)"
   ]
  },
  {
   "cell_type": "markdown",
   "metadata": {},
   "source": [
    "#### Describing the data to get an idea of the values "
   ]
  },
  {
   "cell_type": "code",
   "execution_count": null,
   "metadata": {},
   "outputs": [],
   "source": [
    "find_car.describe_data()\n"
   ]
  },
  {
   "cell_type": "markdown",
   "metadata": {},
   "source": [
    "#### Trains the model using the data fetched "
   ]
  },
  {
   "cell_type": "code",
   "execution_count": null,
   "metadata": {},
   "outputs": [],
   "source": [
    "find_car.train_model()\n"
   ]
  },
  {
   "cell_type": "markdown",
   "metadata": {},
   "source": [
    "#### Finding slope and interception | Used for data visualization"
   ]
  },
  {
   "cell_type": "code",
   "execution_count": null,
   "metadata": {},
   "outputs": [],
   "source": [
    "coeff_df, intercept = find_car.show_coff_and_interception()\n"
   ]
  },
  {
   "cell_type": "markdown",
   "metadata": {},
   "source": [
    "Using the coeff and the interception given by the linear regression model to do the graph.\n",
    "Then we combine the two coefficents and plot the data."
   ]
  },
  {
   "cell_type": "code",
   "execution_count": null,
   "metadata": {},
   "outputs": [],
   "source": [
    "x, y = find_car.get_x_y()\n",
    "\n",
    "km_coeff = int(coeff_df.iloc[0])\n",
    "year_coeff = int(coeff_df.iloc[1])\n",
    "\n",
    "slope = (km_coeff) + (year_coeff)\n",
    "y = slope*x+intercept\n",
    "\n",
    "plt.plot(x, y, '-r', label='km')\n",
    "plt.scatter(x,y, label=\"data points\")\n",
    "plt.title('Linear visalization')\n",
    "plt.xlabel('Price', color='#1C2833')\n",
    "plt.ylabel('KM and Year', color='#1C2833')\n",
    "plt.legend(loc='upper left')\n",
    "plt.grid()\n",
    "plt.show()"
   ]
  },
  {
   "cell_type": "markdown",
   "metadata": {},
   "source": [
    "#### Compare actual scraped values to the ones predicted by the model"
   ]
  },
  {
   "cell_type": "code",
   "execution_count": null,
   "metadata": {
    "scrolled": true
   },
   "outputs": [],
   "source": [
    "find_car.prediction_vs_real()\n"
   ]
  },
  {
   "cell_type": "markdown",
   "metadata": {},
   "source": [
    "#### Shows the predicted value of the entered car"
   ]
  },
  {
   "cell_type": "code",
   "execution_count": null,
   "metadata": {
    "scrolled": true
   },
   "outputs": [],
   "source": [
    "find_car.predict_car_value()"
   ]
  },
  {
   "cell_type": "markdown",
   "metadata": {},
   "source": [
    "The following piece of code compares how accurate the code is based on the metrics.score() function"
   ]
  },
  {
   "cell_type": "code",
   "execution_count": null,
   "metadata": {},
   "outputs": [],
   "source": [
    "find_car.predict_data_accuracy()"
   ]
  }
 ],
 "metadata": {
  "kernelspec": {
   "display_name": "Python 3",
   "language": "python",
   "name": "python3"
  },
  "language_info": {
   "codemirror_mode": {
    "name": "ipython",
    "version": 3
   },
   "file_extension": ".py",
   "mimetype": "text/x-python",
   "name": "python",
   "nbconvert_exporter": "python",
   "pygments_lexer": "ipython3",
   "version": "3.8.5"
  }
 },
 "nbformat": 4,
 "nbformat_minor": 4
}
