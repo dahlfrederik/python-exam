{
 "cells": [
  {
   "cell_type": "markdown",
   "metadata": {},
   "source": [
    "# Car values from numberplate "
   ]
  },
  {
   "cell_type": "markdown",
   "metadata": {},
   "source": [
    "**Choose system** | windows = true, mac = false | \n",
    "\n",
    "**Choose car** | You can pick between \"Aygo\" or \"Tesla\" for now |\n",
    "\n"
   ]
  },
  {
   "cell_type": "code",
   "execution_count": 1,
   "metadata": {},
   "outputs": [],
   "source": [
    "on_windows = False \n",
    "car_model = \"Tesla\""
   ]
  },
  {
   "cell_type": "markdown",
   "metadata": {},
   "source": [
    "### Find numberplate"
   ]
  },
  {
   "cell_type": "code",
   "execution_count": 2,
   "metadata": {
    "scrolled": false
   },
   "outputs": [
    {
     "name": "stdout",
     "output_type": "stream",
     "text": [
      "Nummerpladen er: AU 70 413\n",
      "\f",
      "\n"
     ]
    },
    {
     "data": {
      "image/png": "[encoded data removed]",
      "text/plain": [
       "<Figure size 432x288 with 1 Axes>"
      ]
     },
     "metadata": {
      "needs_background": "light"
     },
     "output_type": "display_data"
    }
   ],
   "source": [
    "from modules import photohandling as ph\n",
    "\n",
    "numberplate = ph.find_numberplate(on_windows, car_model)"
   ]
  },
  {
   "cell_type": "markdown",
   "metadata": {},
   "source": [
    "### Scrape web data from nummerplade.net"
   ]
  },
  {
   "cell_type": "code",
   "execution_count": 3,
   "metadata": {},
   "outputs": [
    {
     "name": "stdout",
     "output_type": "stream",
     "text": [
      "Starting up..\n",
      "Got Browser\n",
      "Search Entered\n",
      "Search done\n",
      "Search_car_km: 92000\n",
      "Search_car_year: 2015 \n",
      "Mærke/model på søgte bil:  Tesla Model S \n"
     ]
    }
   ],
   "source": [
    "import modules.nummerplade_scraper as np_scraper\n",
    "search_car = np_scraper.numberplate_scraper(numberplate, on_windows)\n",
    "\n",
    "search_car_km = search_car.get_car_km()\n",
    "search_car_make_model = search_car.get_car_make_model()\n",
    "search_car_year = search_car.get_car_model_year()\n",
    "\n",
    "\n",
    "print(\"Search_car_km: \" + search_car_km)\n",
    "print(\"Search_car_year: \" + search_car_year)\n",
    "print(\"Mærke/model på søgte bil: \", search_car_make_model)\n",
    "\n",
    "search_car.close_browser()"
   ]
  },
  {
   "cell_type": "markdown",
   "metadata": {},
   "source": [
    "### Scrape web data from Bilbasen.dk"
   ]
  },
  {
   "cell_type": "code",
   "execution_count": 4,
   "metadata": {},
   "outputs": [
    {
     "name": "stdout",
     "output_type": "stream",
     "text": [
      "Starting up...\n",
      "Got Browser\n",
      "Cookie Button Clicked\n",
      "Leasing Button Clicked\n",
      "Search Bar Entered\n",
      "Searching for: Tesla Model S \n",
      "Souping Site\n",
      "\n",
      "Cars found: 32\n",
      "{'name': 'Tesla Model S  Ludicrous Performance AWD 5d', 'km': 34000, 'price': '799900', 'year': 2019}\n",
      "{'name': 'Tesla Model S  P85D 5d', 'km': 58000, 'price': '420000', 'year': 2015}\n",
      "{'name': 'Tesla Model S  85 5d', 'km': 103000, 'price': '329900', 'year': 2014}\n",
      "{'name': 'Tesla Model S  75D 5d', 'km': 90000, 'price': '419000', 'year': 2016}\n",
      "{'name': 'Tesla Model S  P85 5d', 'km': 134000, 'price': '299900', 'year': 2014}\n",
      "{'name': 'Tesla Model S  P85 5d', 'km': 113000, 'price': '314900', 'year': 2014}\n",
      "{'name': 'Tesla Model S  75D 5d', 'km': 81000, 'price': '434000', 'year': 2016}\n",
      "{'name': 'Tesla Model S  90D 5d', 'km': 40000, 'price': '400000', 'year': 2016}\n",
      "{'name': 'Tesla Model S  85 5d', 'km': 141000, 'price': '299700', 'year': 2014}\n",
      "{'name': 'Tesla Model X  100D 6prs 5d', 'km': 28000, 'price': '839000', 'year': 2018}\n",
      "{'name': 'Tesla Model S  75D 5d', 'km': 36000, 'price': '589900', 'year': 2019}\n",
      "{'name': 'Tesla Model S  85D 5d', 'km': 79000, 'price': '404900', 'year': 2015}\n",
      "{'name': 'Tesla Model S  85 5d', 'km': 150000, 'price': '299800', 'year': 2014}\n",
      "{'name': 'Tesla Model S  Long Range AWD 5d', 'km': 31000, 'price': '699900', 'year': 2020}\n",
      "{'name': 'Tesla Model S  75D 5d', 'km': 75000, 'price': '470000', 'year': 2017}\n",
      "{'name': 'Tesla Model S  85 5d', 'km': 46000, 'price': '365000', 'year': 2015}\n",
      "{'name': 'Tesla Model S  P100D Ludicrous 5d', 'km': 75000, 'price': '684000', 'year': 2016}\n",
      "{'name': 'Tesla Model S  90D 7prs 5d', 'km': 72000, 'price': '445000', 'year': 2015}\n",
      "{'name': 'Tesla Model S  75D 5d', 'km': 120000, 'price': '409000', 'year': 2016}\n",
      "{'name': 'Tesla Model S  70 5d', 'km': 197000, 'price': '279995', 'year': 2015}\n",
      "{'name': 'Tesla Model S  85 5d', 'km': 146000, 'price': '299800', 'year': 2014}\n",
      "{'name': 'Tesla Model X  Long Range AWD 5d', 'km': 27000, 'price': '859000', 'year': 2020}\n",
      "{'name': 'Tesla Model S  P85 7prs 5d', 'km': 164000, 'price': '299000', 'year': 2014}\n",
      "{'name': 'Tesla Model S  100D 5d', 'km': 63000, 'price': '663000', 'year': 2018}\n",
      "{'name': 'Tesla Model S  85 5d', 'km': 183000, 'price': '310000', 'year': 2013}\n",
      "{'name': 'Tesla Model S  75 5d', 'km': 83000, 'price': '419000', 'year': 2016}\n",
      "{'name': 'Tesla Model S  85D 5d', 'km': 227000, 'price': '349000', 'year': 2015}\n",
      "{'name': 'Tesla Model X  75D 5d', 'km': 111000, 'price': '409900', 'year': 2019}\n",
      "{'name': 'Tesla Model S  70D 5d', 'km': 92000, 'price': '315000', 'year': 2015}\n",
      "{'name': 'Tesla Model S  70D 5d', 'km': 83000, 'price': '359900', 'year': 2016}\n",
      "{'name': 'Tesla Model 3  Long Range AWD 4d', 'km': 28000, 'price': '363455', 'year': 2019}\n",
      "{'name': 'Tesla Model S  P85D 5d', 'km': 112000, 'price': '415000', 'year': 2015}\n"
     ]
    }
   ],
   "source": [
    "import modules.bilbasen_scraper as bilbasen_scraper\n",
    "\n",
    "bilbasen = bilbasen_scraper.my_car(on_windows)\n",
    "bilbasen.click_cookie_button()\n",
    "bilbasen.click_leasing_button()\n",
    "bilbasen.search_in_search_bar(search_car_make_model)\n",
    "print(\"Searching for: \" + search_car_make_model)\n",
    "bilbasen.get_car_list()\n",
    "bilbasen.close_browser()\n",
    "make_me_dataframe = bilbasen.car_list\n"
   ]
  },
  {
   "cell_type": "markdown",
   "metadata": {},
   "source": [
    "### Machine learning "
   ]
  },
  {
   "cell_type": "code",
   "execution_count": 5,
   "metadata": {},
   "outputs": [
    {
     "data": {
      "text/html": [
       "<div>\n",
       "<style scoped>\n",
       "    .dataframe tbody tr th:only-of-type {\n",
       "        vertical-align: middle;\n",
       "    }\n",
       "\n",
       "    .dataframe tbody tr th {\n",
       "        vertical-align: top;\n",
       "    }\n",
       "\n",
       "    .dataframe thead th {\n",
       "        text-align: right;\n",
       "    }\n",
       "</style>\n",
       "<table border=\"1\" class=\"dataframe\">\n",
       "  <thead>\n",
       "    <tr style=\"text-align: right;\">\n",
       "      <th></th>\n",
       "      <th>name</th>\n",
       "      <th>km</th>\n",
       "      <th>price</th>\n",
       "      <th>year</th>\n",
       "    </tr>\n",
       "  </thead>\n",
       "  <tbody>\n",
       "    <tr>\n",
       "      <th>0</th>\n",
       "      <td>Tesla Model S  Ludicrous Performance AWD 5d</td>\n",
       "      <td>34000</td>\n",
       "      <td>799900</td>\n",
       "      <td>2019</td>\n",
       "    </tr>\n",
       "    <tr>\n",
       "      <th>1</th>\n",
       "      <td>Tesla Model S  P85D 5d</td>\n",
       "      <td>58000</td>\n",
       "      <td>420000</td>\n",
       "      <td>2015</td>\n",
       "    </tr>\n",
       "    <tr>\n",
       "      <th>2</th>\n",
       "      <td>Tesla Model S  85 5d</td>\n",
       "      <td>103000</td>\n",
       "      <td>329900</td>\n",
       "      <td>2014</td>\n",
       "    </tr>\n",
       "    <tr>\n",
       "      <th>3</th>\n",
       "      <td>Tesla Model S  75D 5d</td>\n",
       "      <td>90000</td>\n",
       "      <td>419000</td>\n",
       "      <td>2016</td>\n",
       "    </tr>\n",
       "    <tr>\n",
       "      <th>4</th>\n",
       "      <td>Tesla Model S  P85 5d</td>\n",
       "      <td>134000</td>\n",
       "      <td>299900</td>\n",
       "      <td>2014</td>\n",
       "    </tr>\n",
       "  </tbody>\n",
       "</table>\n",
       "</div>"
      ],
      "text/plain": [
       "                                          name      km   price  year\n",
       "0  Tesla Model S  Ludicrous Performance AWD 5d   34000  799900  2019\n",
       "1                       Tesla Model S  P85D 5d   58000  420000  2015\n",
       "2                         Tesla Model S  85 5d  103000  329900  2014\n",
       "3                        Tesla Model S  75D 5d   90000  419000  2016\n",
       "4                        Tesla Model S  P85 5d  134000  299900  2014"
      ]
     },
     "execution_count": 5,
     "metadata": {},
     "output_type": "execute_result"
    }
   ],
   "source": [
    "\n",
    "import modules.regression as regression\n",
    "import pandas as pd\n",
    "\n",
    "data = pd.DataFrame(make_me_dataframe) \n",
    "data.head()\n",
    "\n"
   ]
  },
  {
   "cell_type": "markdown",
   "metadata": {},
   "source": [
    "##### Create instance of the regression class"
   ]
  },
  {
   "cell_type": "code",
   "execution_count": 6,
   "metadata": {},
   "outputs": [],
   "source": [
    "find_car = regression.find_car_value(\n",
    "    data, search_car_km, search_car_year)"
   ]
  },
  {
   "cell_type": "markdown",
   "metadata": {},
   "source": [
    "#### Validate that we get data from dataframe"
   ]
  },
  {
   "cell_type": "code",
   "execution_count": 7,
   "metadata": {},
   "outputs": [
    {
     "data": {
      "text/html": [
       "<div>\n",
       "<style scoped>\n",
       "    .dataframe tbody tr th:only-of-type {\n",
       "        vertical-align: middle;\n",
       "    }\n",
       "\n",
       "    .dataframe tbody tr th {\n",
       "        vertical-align: top;\n",
       "    }\n",
       "\n",
       "    .dataframe thead th {\n",
       "        text-align: right;\n",
       "    }\n",
       "</style>\n",
       "<table border=\"1\" class=\"dataframe\">\n",
       "  <thead>\n",
       "    <tr style=\"text-align: right;\">\n",
       "      <th></th>\n",
       "      <th>name</th>\n",
       "      <th>km</th>\n",
       "      <th>price</th>\n",
       "      <th>year</th>\n",
       "    </tr>\n",
       "  </thead>\n",
       "  <tbody>\n",
       "    <tr>\n",
       "      <th>0</th>\n",
       "      <td>Tesla Model S  Ludicrous Performance AWD 5d</td>\n",
       "      <td>34000</td>\n",
       "      <td>799900</td>\n",
       "      <td>2019</td>\n",
       "    </tr>\n",
       "    <tr>\n",
       "      <th>1</th>\n",
       "      <td>Tesla Model S  P85D 5d</td>\n",
       "      <td>58000</td>\n",
       "      <td>420000</td>\n",
       "      <td>2015</td>\n",
       "    </tr>\n",
       "    <tr>\n",
       "      <th>2</th>\n",
       "      <td>Tesla Model S  85 5d</td>\n",
       "      <td>103000</td>\n",
       "      <td>329900</td>\n",
       "      <td>2014</td>\n",
       "    </tr>\n",
       "    <tr>\n",
       "      <th>3</th>\n",
       "      <td>Tesla Model S  75D 5d</td>\n",
       "      <td>90000</td>\n",
       "      <td>419000</td>\n",
       "      <td>2016</td>\n",
       "    </tr>\n",
       "    <tr>\n",
       "      <th>4</th>\n",
       "      <td>Tesla Model S  P85 5d</td>\n",
       "      <td>134000</td>\n",
       "      <td>299900</td>\n",
       "      <td>2014</td>\n",
       "    </tr>\n",
       "  </tbody>\n",
       "</table>\n",
       "</div>"
      ],
      "text/plain": [
       "                                          name      km   price  year\n",
       "0  Tesla Model S  Ludicrous Performance AWD 5d   34000  799900  2019\n",
       "1                       Tesla Model S  P85D 5d   58000  420000  2015\n",
       "2                         Tesla Model S  85 5d  103000  329900  2014\n",
       "3                        Tesla Model S  75D 5d   90000  419000  2016\n",
       "4                        Tesla Model S  P85 5d  134000  299900  2014"
      ]
     },
     "execution_count": 7,
     "metadata": {},
     "output_type": "execute_result"
    }
   ],
   "source": [
    "find_car.show_dataframe()"
   ]
  },
  {
   "cell_type": "markdown",
   "metadata": {},
   "source": [
    "#### Normalizing the data "
   ]
  },
  {
   "cell_type": "code",
   "execution_count": 8,
   "metadata": {},
   "outputs": [],
   "source": [
    "scaled_df = find_car.normalize_data()"
   ]
  },
  {
   "cell_type": "markdown",
   "metadata": {},
   "source": [
    "#### Data visualization with normalized data"
   ]
  },
  {
   "cell_type": "code",
   "execution_count": 66,
   "metadata": {
    "scrolled": true
   },
   "outputs": [
    {
     "data": {
      "text/plain": [
       "[<matplotlib.lines.Line2D at 0x7fa6d8bb8fa0>]"
      ]
     },
     "execution_count": 66,
     "metadata": {},
     "output_type": "execute_result"
    },
    {
     "data": {
      "image/png": "[encoded data removed]",
      "text/plain": [
       "<Figure size 432x288 with 1 Axes>"
      ]
     },
     "metadata": {
      "needs_background": "light"
     },
     "output_type": "display_data"
    }
   ],
   "source": [
    "from matplotlib import pyplot as plt\n",
    "import numpy as np\n",
    "\n",
    "x1 = scaled_df['km']\n",
    "y = scaled_df['price']\n",
    "\n",
    "plt.scatter(x1, y)\n",
    "plt.xlabel(\"km\")\n",
    "plt.ylabel(\"price\")\n",
    "\n",
    "# m = slope, b = intercept \n",
    "m, b = np.polyfit(x1, y, 1)\n",
    "plt.plot(x1, m*x1+ b)"
   ]
  },
  {
   "cell_type": "code",
   "execution_count": 58,
   "metadata": {},
   "outputs": [
    {
     "data": {
      "text/plain": [
       "[<matplotlib.lines.Line2D at 0x7fa6e9656550>]"
      ]
     },
     "execution_count": 58,
     "metadata": {},
     "output_type": "execute_result"
    },
    {
     "data": {
      "image/png": "[encoded data removed]",
      "text/plain": [
       "<Figure size 432x288 with 1 Axes>"
      ]
     },
     "metadata": {
      "needs_background": "light"
     },
     "output_type": "display_data"
    }
   ],
   "source": [
    "x2 = scaled_df['year']\n",
    "y = scaled_df['price']\n",
    "\n",
    "plt.scatter(x2, y)\n",
    "plt.xlabel(\"year\")\n",
    "plt.ylabel(\"price\")\n",
    "\n",
    "m, b = np.polyfit(x2, y, 1)\n",
    "plt.plot(x2, m*x2+b)"
   ]
  },
  {
   "cell_type": "markdown",
   "metadata": {},
   "source": [
    "#### Describing the data to get an idea of the values "
   ]
  },
  {
   "cell_type": "code",
   "execution_count": 11,
   "metadata": {},
   "outputs": [
    {
     "data": {
      "text/html": [
       "<div>\n",
       "<style scoped>\n",
       "    .dataframe tbody tr th:only-of-type {\n",
       "        vertical-align: middle;\n",
       "    }\n",
       "\n",
       "    .dataframe tbody tr th {\n",
       "        vertical-align: top;\n",
       "    }\n",
       "\n",
       "    .dataframe thead th {\n",
       "        text-align: right;\n",
       "    }\n",
       "</style>\n",
       "<table border=\"1\" class=\"dataframe\">\n",
       "  <thead>\n",
       "    <tr style=\"text-align: right;\">\n",
       "      <th></th>\n",
       "      <th>km</th>\n",
       "      <th>year</th>\n",
       "    </tr>\n",
       "  </thead>\n",
       "  <tbody>\n",
       "    <tr>\n",
       "      <th>count</th>\n",
       "      <td>32.00000</td>\n",
       "      <td>32.000000</td>\n",
       "    </tr>\n",
       "    <tr>\n",
       "      <th>mean</th>\n",
       "      <td>94437.50000</td>\n",
       "      <td>2016.000000</td>\n",
       "    </tr>\n",
       "    <tr>\n",
       "      <th>std</th>\n",
       "      <td>52660.16276</td>\n",
       "      <td>1.983805</td>\n",
       "    </tr>\n",
       "    <tr>\n",
       "      <th>min</th>\n",
       "      <td>27000.00000</td>\n",
       "      <td>2013.000000</td>\n",
       "    </tr>\n",
       "    <tr>\n",
       "      <th>25%</th>\n",
       "      <td>55000.00000</td>\n",
       "      <td>2014.750000</td>\n",
       "    </tr>\n",
       "    <tr>\n",
       "      <th>50%</th>\n",
       "      <td>83000.00000</td>\n",
       "      <td>2015.500000</td>\n",
       "    </tr>\n",
       "    <tr>\n",
       "      <th>75%</th>\n",
       "      <td>123500.00000</td>\n",
       "      <td>2017.250000</td>\n",
       "    </tr>\n",
       "    <tr>\n",
       "      <th>max</th>\n",
       "      <td>227000.00000</td>\n",
       "      <td>2020.000000</td>\n",
       "    </tr>\n",
       "  </tbody>\n",
       "</table>\n",
       "</div>"
      ],
      "text/plain": [
       "                 km         year\n",
       "count      32.00000    32.000000\n",
       "mean    94437.50000  2016.000000\n",
       "std     52660.16276     1.983805\n",
       "min     27000.00000  2013.000000\n",
       "25%     55000.00000  2014.750000\n",
       "50%     83000.00000  2015.500000\n",
       "75%    123500.00000  2017.250000\n",
       "max    227000.00000  2020.000000"
      ]
     },
     "execution_count": 11,
     "metadata": {},
     "output_type": "execute_result"
    }
   ],
   "source": [
    "find_car.describe_data()\n"
   ]
  },
  {
   "cell_type": "markdown",
   "metadata": {},
   "source": [
    "#### Trains the model using the data fetched "
   ]
  },
  {
   "cell_type": "code",
   "execution_count": 12,
   "metadata": {},
   "outputs": [
    {
     "data": {
      "text/plain": [
       "(        km  year\n",
       " 11   79000  2015\n",
       " 22  164000  2014\n",
       " 10   36000  2019\n",
       " 2   103000  2014\n",
       " 16   75000  2016\n",
       " 14   75000  2017\n",
       " 28   92000  2015,\n",
       " 11    404900\n",
       " 22    299000\n",
       " 10    589900\n",
       " 2     329900\n",
       " 16    684000\n",
       " 14    470000\n",
       " 28    315000\n",
       " Name: price, dtype: object)"
      ]
     },
     "execution_count": 12,
     "metadata": {},
     "output_type": "execute_result"
    }
   ],
   "source": [
    "find_car.train_model()\n"
   ]
  },
  {
   "cell_type": "markdown",
   "metadata": {},
   "source": [
    "#### Finding slope and interception | Used for data visualization"
   ]
  },
  {
   "cell_type": "code",
   "execution_count": 13,
   "metadata": {},
   "outputs": [],
   "source": [
    "coeff_df, intercept = find_car.show_coff_and_interception()\n"
   ]
  },
  {
   "cell_type": "markdown",
   "metadata": {},
   "source": [
    "Using the coeff and the interception given by the linear regression model to do the graph.\n",
    "Then we combine the two coefficents and plot the data."
   ]
  },
  {
   "cell_type": "code",
   "execution_count": 93,
   "metadata": {},
   "outputs": [
    {
     "data": {
      "image/png": "[encoded data removed]",
      "text/plain": [
       "<Figure size 432x288 with 1 Axes>"
      ]
     },
     "metadata": {
      "needs_background": "light"
     },
     "output_type": "display_data"
    }
   ],
   "source": [
    "x = find_car.X\n",
    "\n",
    "km_coeff = int(coeff_df.iloc[0])\n",
    "year_coeff = int(coeff_df.iloc[1])\n",
    "\n",
    "slope = (km_coeff) + (year_coeff)\n",
    "y = slope*x+intercept\n",
    "\n",
    "plt.plot(x, y, \"red\")\n",
    "plt.scatter(x,y, label=\"data points\")\n",
    "plt.title('Linear visalization')\n",
    "plt.xlabel('Price', color='#1C2833')\n",
    "plt.ylabel('KM and Year', color='#1C2833')\n",
    "plt.legend(loc='upper left')\n",
    "plt.grid()\n",
    "plt.show()"
   ]
  },
  {
   "cell_type": "markdown",
   "metadata": {},
   "source": [
    "#### Compare actual scraped values to the ones predicted by the model\n",
    "The following piece of code compares how accurate the code is based on the metrics.score() function"
   ]
  },
  {
   "cell_type": "code",
   "execution_count": 15,
   "metadata": {
    "scrolled": false
   },
   "outputs": [
    {
     "data": {
      "text/html": [
       "<div>\n",
       "<style scoped>\n",
       "    .dataframe tbody tr th:only-of-type {\n",
       "        vertical-align: middle;\n",
       "    }\n",
       "\n",
       "    .dataframe tbody tr th {\n",
       "        vertical-align: top;\n",
       "    }\n",
       "\n",
       "    .dataframe thead th {\n",
       "        text-align: right;\n",
       "    }\n",
       "</style>\n",
       "<table border=\"1\" class=\"dataframe\">\n",
       "  <thead>\n",
       "    <tr style=\"text-align: right;\">\n",
       "      <th></th>\n",
       "      <th>Actual</th>\n",
       "      <th>Predicted</th>\n",
       "    </tr>\n",
       "  </thead>\n",
       "  <tbody>\n",
       "    <tr>\n",
       "      <th>11</th>\n",
       "      <td>404900</td>\n",
       "      <td>402785.886492</td>\n",
       "    </tr>\n",
       "    <tr>\n",
       "      <th>22</th>\n",
       "      <td>299000</td>\n",
       "      <td>284722.801358</td>\n",
       "    </tr>\n",
       "    <tr>\n",
       "      <th>10</th>\n",
       "      <td>589900</td>\n",
       "      <td>647294.468054</td>\n",
       "    </tr>\n",
       "    <tr>\n",
       "      <th>2</th>\n",
       "      <td>329900</td>\n",
       "      <td>331498.455558</td>\n",
       "    </tr>\n",
       "    <tr>\n",
       "      <th>16</th>\n",
       "      <td>684000</td>\n",
       "      <td>458737.037360</td>\n",
       "    </tr>\n",
       "    <tr>\n",
       "      <th>14</th>\n",
       "      <td>470000</td>\n",
       "      <td>511620.932215</td>\n",
       "    </tr>\n",
       "    <tr>\n",
       "      <th>28</th>\n",
       "      <td>315000</td>\n",
       "      <td>392817.304449</td>\n",
       "    </tr>\n",
       "  </tbody>\n",
       "</table>\n",
       "</div>"
      ],
      "text/plain": [
       "    Actual      Predicted\n",
       "11  404900  402785.886492\n",
       "22  299000  284722.801358\n",
       "10  589900  647294.468054\n",
       "2   329900  331498.455558\n",
       "16  684000  458737.037360\n",
       "14  470000  511620.932215\n",
       "28  315000  392817.304449"
      ]
     },
     "execution_count": 15,
     "metadata": {},
     "output_type": "execute_result"
    }
   ],
   "source": [
    "find_car.prediction_vs_real()\n"
   ]
  },
  {
   "cell_type": "markdown",
   "metadata": {},
   "source": [
    "#### Accuracy of the algorithm"
   ]
  },
  {
   "cell_type": "code",
   "execution_count": 16,
   "metadata": {},
   "outputs": [
    {
     "name": "stdout",
     "output_type": "stream",
     "text": [
      "Model accuracy: 62.773220115422035 %\n"
     ]
    }
   ],
   "source": [
    "find_car.predict_data_accuracy()"
   ]
  },
  {
   "cell_type": "markdown",
   "metadata": {},
   "source": [
    "#### Shows the predicted value of the entered car"
   ]
  },
  {
   "cell_type": "code",
   "execution_count": 17,
   "metadata": {
    "scrolled": true
   },
   "outputs": [
    {
     "name": "stdout",
     "output_type": "stream",
     "text": [
      "Predicted price of the entered car:  [392817.30444914]\n"
     ]
    }
   ],
   "source": [
    "find_car.predict_car_value()"
   ]
  }
 ],
 "metadata": {
  "kernelspec": {
   "display_name": "Python 3",
   "language": "python",
   "name": "python3"
  },
  "language_info": {
   "codemirror_mode": {
    "name": "ipython",
    "version": 3
   },
   "file_extension": ".py",
   "mimetype": "text/x-python",
   "name": "python",
   "nbconvert_exporter": "python",
   "pygments_lexer": "ipython3",
   "version": "3.8.5"
  }
 },
 "nbformat": 4,
 "nbformat_minor": 4
}
