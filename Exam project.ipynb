{
 "cells": [
  {
   "cell_type": "markdown",
   "metadata": {},
   "source": [
    "## This is for the exam project\n"
   ]
  },
  {
   "cell_type": "code",
   "execution_count": 26,
   "metadata": {},
   "outputs": [],
   "source": [
    "##Imports\n",
    "from time import sleep\n",
    "from selenium import webdriver\n",
    "from selenium.webdriver.firefox.options import Options\n",
    "from bs4 import BeautifulSoup as soup\n",
    "import bs4\n",
    "import requests\n",
    "import re\n",
    "import sys"
   ]
  },
  {
   "cell_type": "markdown",
   "metadata": {},
   "source": [
    "### Numberplate to string without img handling"
   ]
  },
  {
   "cell_type": "code",
   "execution_count": 51,
   "metadata": {
    "scrolled": true
   },
   "outputs": [
    {
     "name": "stdout",
     "output_type": "stream",
     "text": [
      " \n",
      "\f",
      "\n"
     ]
    }
   ],
   "source": [
    "import cv2\n",
    "import pytesseract\n",
    "pytesseract.pytesseract.tesseract_cmd = r'/usr/bin/tesseract'\n",
    "#pytesseract.pytesseract.tesseract_cmd = r'/opt/homebrew/Cellar/tesseract/4.1.1/bin/tesseract'\n",
    "img = cv2.imread(\"./images/test3.jpg\")\n",
    "text = pytesseract.image_to_string(img)\n",
    "print(text)\n"
   ]
  },
  {
   "cell_type": "markdown",
   "metadata": {},
   "source": [
    "### Numberplate to string"
   ]
  },
  {
   "cell_type": "code",
   "execution_count": 61,
   "metadata": {
    "scrolled": true
   },
   "outputs": [
    {
     "name": "stdout",
     "output_type": "stream",
     "text": [
      "Nummerpladen er: \f",
      "\n"
     ]
    },
    {
     "data": {
      "image/png": "[encoded data removed]",
      "text/plain": [
       "<Figure size 432x288 with 1 Axes>"
      ]
     },
     "metadata": {
      "needs_background": "light"
     },
     "output_type": "display_data"
    }
   ],
   "source": [
    "import cv2\n",
    "import imutils\n",
    "import numpy as np\n",
    "from matplotlib import pyplot as plt\n",
    "import pytesseract\n",
    "#Windows\n",
    "pytesseract.pytesseract.tesseract_cmd = r'/usr/bin/tesseract'\n",
    "\n",
    "#M1\n",
    "#pytesseract.pytesseract.tesseract_cmd = r'/opt/homebrew/Cellar/tesseract/4.1.1/bin/tesseract'\n",
    "\n",
    "#Import image and resize it\n",
    "img = cv2.imread('./images/test3.jpg', cv2.IMREAD_COLOR)\n",
    "img = imutils.resize(img, width=700)\n",
    "\n",
    "#Gray scale \n",
    "gray = cv2.cvtColor(img, cv2.COLOR_BGR2GRAY)\n",
    "\n",
    "#Blur to reduce noise\n",
    "gray = cv2.bilateralFilter(gray, 13, 15, 15)\n",
    "\n",
    "#Edge detection\n",
    "edged = cv2.Canny(gray, 30, 200)\n",
    "\n",
    "contours = cv2.findContours(edged.copy(), cv2.RETR_TREE, cv2.CHAIN_APPROX_SIMPLE)\n",
    "contours = imutils.grab_contours(contours)\n",
    "contours = sorted(contours, key = cv2.contourArea, reverse = True)[:10]\n",
    "screenCnt = None\n",
    "\n",
    "#Find contours in the edged image\n",
    "(cnts, _) = cv2.findContours(edged.copy(), cv2.RETR_LIST, cv2.CHAIN_APPROX_SIMPLE)\n",
    "cnts=sorted(cnts, key = cv2.contourArea, reverse = True)[:30]\n",
    "\n",
    "NumberPlateCnt = None \n",
    "count = 0\n",
    "#Loop over contours\n",
    "for c in cnts:\n",
    "\t#Approximate the contour\n",
    "    peri = cv2.arcLength(c, True)\n",
    "    approx = cv2.approxPolyDP(c, 0.02 * peri, True)\n",
    "    #If the approximated contour has four points, then assume that screen is found\n",
    "    if len(approx) == 4:  \n",
    "        NumberPlateCnt = approx \n",
    "        break\n",
    "\n",
    "#Mask the part other than the numberplate\n",
    "mask = np.zeros(gray.shape,np.uint8)\n",
    "new_image = cv2.drawContours(mask,[NumberPlateCnt],0,255,-1)\n",
    "new_image = cv2.bitwise_and(img,img,mask=mask)\n",
    "\n",
    "#Crop the image \n",
    "(x, y) = np.where(mask == 255)\n",
    "(topx, topy) = (np.min(x), np.min(y))\n",
    "(bottomx, bottomy) = (np.max(x), np.max(y))\n",
    "Cropped = gray[topx:bottomx+1, topy:bottomy+1]\n",
    "\n",
    "#Read the number plate\n",
    "config = ('-l eng --oem 1 --psm 3')\n",
    "text = pytesseract.image_to_string(Cropped, config=config)\n",
    "print(\"Nummerpladen er:\",text)\n",
    "plt.imshow(new_image)\n",
    "\n",
    "cv2.waitKey(0)\n",
    "cv2.destroyAllWindows()"
   ]
  },
  {
   "cell_type": "markdown",
   "metadata": {},
   "source": [
    "### Entering numberplate on nummerplade.net to find model"
   ]
  },
  {
   "cell_type": "code",
   "execution_count": 28,
   "metadata": {
    "scrolled": true
   },
   "outputs": [
    {
     "name": "stdout",
     "output_type": "stream",
     "text": [
      "Starting up..\n",
      "Got Browser\n",
      "Search Entered\n",
      "\n",
      "Søgte bil:  Toyota Aygo\n"
     ]
    }
   ],
   "source": [
    "print(\"Starting up..\")\n",
    "profile = webdriver.FirefoxProfile()\n",
    "profile.set_preference(\"general.useragent.override\", \"Mozilla/5.0 (X11; Ubuntu; Linux x86_64; rv:81.0) Gecko/20100101 Firefox/81.0\")\n",
    "options = Options()\n",
    "options.headless = True\n",
    "\n",
    "#M1\n",
    "#browser = webdriver.Chrome(executable_path=\"/Users/frederikdahl/chromedriver/chromedriver\")\n",
    "\n",
    "#Windows\n",
    "browser = webdriver.Firefox(options=options)\n",
    "\n",
    "browser.get(\"https://www.nummerplade.net/\")\n",
    "\n",
    "print(\"Got Browser\")\n",
    "\n",
    "browser.implicitly_wait(3)\n",
    "\n",
    "#cookie_button = browser.find_element_by_css_selector('div.coi-banner__page-footer:nth-child(2) > button:nth-child(2)')\n",
    "#cookie_button.click()\n",
    "#print(\"Cookie Button Clicked..\")\n",
    "#sleep(3) \n",
    "\n",
    "search_field = browser.find_element_by_id('search_regnr')\n",
    "\n",
    "search_field.send_keys(text)\n",
    "\n",
    "button = browser.find_element_by_id('search_regnr_button')\n",
    "button.click()\n",
    "print(\"Search Entered\")\n",
    "sleep(3)\n",
    "\n",
    "print()\n",
    "\n",
    "page_source = browser.page_source\n",
    "page_soup = soup(page_source,'html.parser')\n",
    "res = page_soup.select_one(\"#maerke\").text +\" \"+ page_soup.select_one(\"#model\").text + \"\"\n",
    "\n",
    "print(\"Mærke/model på søgte bil: \", res)\n",
    "browser.quit()"
   ]
  },
  {
   "cell_type": "markdown",
   "metadata": {},
   "source": [
    "### Searching for model on bilbasen to get model,price,km, "
   ]
  },
  {
   "cell_type": "code",
   "execution_count": 45,
   "metadata": {},
   "outputs": [
    {
     "name": "stdout",
     "output_type": "stream",
     "text": [
      "Starting up...\n",
      "Got Browser\n",
      "Cookie Button Clicked\n",
      "Leasing Button Clicked\n",
      "Search Bar Entered\n",
      "Searching for: Toyota Aygo\n",
      "Souping Site\n",
      "\n",
      "Cars found: 32\n",
      "{'name': 'Toyota Aygo 1,0 VVT-i x 5d', 'km': 35000, 'price': '87900', 'year': 2018}\n",
      "{'name': 'Toyota Aygo 1,0 VVT-i x-wave Sky 5d', 'km': 81700, 'price': '72900', 'year': 2015}\n",
      "{'name': 'Toyota Aygo 1,0 VVT-i x 5d', 'km': 91000, 'price': '54900', 'year': 2015}\n",
      "{'name': 'Toyota Aygo 1,0 VVT-i T2 Air 5d', 'km': 141000, 'price': '39500', 'year': 2012}\n",
      "{'name': 'Toyota Aygo 1,0 VVT-i x-press 5d', 'km': 2000, 'price': '106900', 'year': 2020}\n",
      "{'name': 'Toyota Aygo 1,0 VVT-i x-press 5d', 'km': 0, 'price': '111990', 'year': 2020}\n",
      "{'name': 'Toyota Aygo 1,0 VVT-i x-press 5d', 'km': 57000, 'price': '64900', 'year': 2015}\n",
      "{'name': 'Toyota Aygo 1,0 VVT-i x-sky 5d', 'km': 69000, 'price': '74900', 'year': 2015}\n",
      "{'name': 'Toyota Aygo 1,0 VVT-i x-press 5d', 'km': 78000, 'price': '64900', 'year': 2016}\n",
      "{'name': 'Toyota Aygo 1,0 VVT-i x-plore x-shift 5d', 'km': 18000, 'price': '104900', 'year': 2018}\n",
      "{'name': 'Toyota Aygo 1,0 VVT-i T3 5d', 'km': 54000, 'price': '44900', 'year': 2012}\n",
      "{'name': 'Toyota Aygo 1,0 VVT-i x 5d', 'km': 4000, 'price': '94900', 'year': 2019}\n",
      "{'name': 'Toyota Aygo 1,0 VVT-i x-play 5d', 'km': 59000, 'price': '69900', 'year': 2017}\n",
      "{'name': 'Toyota Aygo 1,0 VVT-i x-plore 5d', 'km': 4000, 'price': '99900', 'year': 2019}\n",
      "{'name': 'Toyota Aygo 1,0 VVT-i x-clusiv 5d', 'km': 21000, 'price': '99900', 'year': 2019}\n",
      "{'name': 'Toyota Aygo 1,0 VVT-i x-black 5d', 'km': 27000, 'price': '79900', 'year': 2017}\n",
      "{'name': 'Toyota Aygo 1,0 VVT-i T2 Air 5d', 'km': 105000, 'price': '37900', 'year': 2012}\n",
      "{'name': 'Toyota Aygo 1,0 VVT-i x-sky 5d', 'km': 39000, 'price': '79900', 'year': 2015}\n",
      "{'name': 'Toyota Aygo 1,0 VVT-i x-pression 5d', 'km': 40000, 'price': '84900', 'year': 2019}\n",
      "{'name': 'Toyota Aygo 1,0 VVT-i T2 Air 5d', 'km': 127000, 'price': '49900', 'year': 2013}\n",
      "{'name': 'Toyota Aygo 1,0 VVT-i x-play 5d', 'km': 64000, 'price': '77900', 'year': 2015}\n",
      "{'name': 'Toyota Aygo 1,0 VVT-i x-wave Sky 5d', 'km': 156000, 'price': '54900', 'year': 2015}\n",
      "{'name': 'Toyota Aygo 1,0 VVT-i x-style 5d', 'km': 9000, 'price': '109895', 'year': 2019}\n",
      "{'name': 'Toyota Aygo 1,0 VVT-i x-pose 5d', 'km': 52000, 'price': '79980', 'year': 2017}\n",
      "{'name': 'Toyota Aygo 1,0 Plus 5d', 'km': 137000, 'price': '24900', 'year': 2006}\n",
      "{'name': 'Toyota Aygo 1,0 VVT-i T2 Air+ 5d', 'km': 38723, 'price': '54900', 'year': 2014}\n",
      "{'name': 'Toyota Aygo 1,0 VVT-i x-press 5d', 'km': 54000, 'price': '56900', 'year': 2014}\n",
      "{'name': 'Toyota Aygo 1,0 VVT-i x-change 5d', 'km': 98000, 'price': '59900', 'year': 2015}\n",
      "{'name': 'Toyota Aygo 1,0 VVT-i x-play 5d', 'km': 39000, 'price': '69900', 'year': 2016}\n",
      "{'name': 'Toyota Aygo 1,0 VVT-i x-black 5d', 'km': 67000, 'price': '77900', 'year': 2015}\n",
      "{'name': 'Toyota Aygo 1,0 VVT-i x-sky 5d', 'km': 65000, 'price': '72900', 'year': 2017}\n",
      "{'name': 'Toyota Aygo 1,0 Air+ 5d', 'km': 220000, 'price': '16900', 'year': 2011}\n"
     ]
    }
   ],
   "source": [
    "base_url = 'https://www.bilbasen.dk/'\n",
    "\n",
    "class my_car:\n",
    "    def __init__(self, url):\n",
    "        self.base_url = url\n",
    "        self.car_list = []\n",
    "        \n",
    "        print(\"Starting up...\")\n",
    "        \n",
    "        profile = webdriver.FirefoxProfile()\n",
    "        profile.set_preference(\"general.useragent.override\", \"Mozilla/5.0 (X11; Ubuntu; Linux x86_64; rv:81.0) Gecko/20100101 Firefox/81.0\")\n",
    "        options = Options()\n",
    "        options.headless = True\n",
    "        \n",
    "        #Windows\n",
    "        self.browser = webdriver.Firefox(options=options)\n",
    "        \n",
    "        #M1 \n",
    "        #self.browser  = webdriver.Chrome(executable_path=\"/Users/frederikdahl/chromedriver/chromedriver\")\n",
    "        \n",
    "        self.browser.get(self.base_url)\n",
    "        print(\"Got Browser\")\n",
    "        \n",
    "        self.browser.implicitly_wait(3)\n",
    "        \n",
    "    def click_cookie_button(self):\n",
    "        try:\n",
    "            cookie_button = self.browser.find_element_by_id('onetrust-accept-btn-handler')\n",
    "            try:\n",
    "                cookie_button.click()\n",
    "                print(\"Cookie Button Clicked\")\n",
    "                sleep(3)   \n",
    "            except Exception as err:\n",
    "                print('Error With Cookie Button:', err)\n",
    "        except Exception as err:\n",
    "            print(err)\n",
    "            \n",
    "    def click_leasing_button(self):\n",
    "        try:\n",
    "            leasing_button = self.browser.find_element_by_css_selector(\"label[data-track-action='leasing-toggle']\")\n",
    "            try:\n",
    "                leasing_button.click()\n",
    "                print(\"Leasing Button Clicked\")\n",
    "                sleep(3)   \n",
    "            except Exception as err:\n",
    "                print('Error With Leasing Button:', err)\n",
    "        except Exception as err:\n",
    "            print(err)\n",
    "        \n",
    "    def search_in_search_bar(self, search_text):\n",
    "        try:\n",
    "            search_field = self.browser.find_element_by_class_name('react-autosuggest__input')\n",
    "            search_field.send_keys(search_text)\n",
    "            search_field.submit()\n",
    "            print(\"Search Bar Entered\")\n",
    "            sleep(3)\n",
    "\n",
    "        except Exception as err:\n",
    "            print('Error with Search', err)\n",
    "\n",
    "    def get_car_list(self):\n",
    "        print(\"Souping Site\")\n",
    "        print()\n",
    "        page_source = self.browser.page_source\n",
    "        page_soup = soup(page_source,'html.parser')\n",
    "        car_list_plus = page_soup.findAll(\"div\",{\"class\":\"row listing listing-plus bb-listing-clickable\"})\n",
    "        car_list_discount = page_soup.findAll(\"div\",{\"class\":\"row listing listing-discount bb-listing-clickable\"})\n",
    "        full_list = car_list_plus + car_list_discount\n",
    "        print(\"Cars found: \" + str(len(full_list)))\n",
    "        for car in full_list:\n",
    "            name = car.find(\"a\",{\"class\":\"listing-heading darkLink\"}).contents[0]\n",
    "            km = int(car.findAll(\"div\",{\"class\":\"col-xs-2 listing-data\"})[1].contents[0].replace('.',''))\n",
    "            price = car.find(\"div\",{\"class\":\"col-xs-3 listing-price\"}).contents[0].replace(' kr.','').replace('.','')\n",
    "            year = int(car.findAll(\"div\",{\"class\":\"col-xs-2 listing-data\"})[2].contents[0])\n",
    "            car_info = {\"name\": name, \"km\": km, \"price\": price, \"year\": year}\n",
    "            self.car_list.append(car_info)\n",
    "            print(car_info) \n",
    "            \n",
    "    def close_browser(self):\n",
    "        self.browser.close()\n",
    "    \n",
    "bilbasen = my_car(base_url)\n",
    "bilbasen.click_cookie_button()\n",
    "bilbasen.click_leasing_button()\n",
    "bilbasen.search_in_search_bar(res)\n",
    "print(\"Searching for: \" + res)\n",
    "bilbasen.get_car_list()\n",
    "bilbasen.close_browser()\n",
    "make_me_dataframe = bilbasen.car_list"
   ]
  },
  {
   "cell_type": "code",
   "execution_count": 47,
   "metadata": {},
   "outputs": [
    {
     "data": {
      "text/html": [
       "<div>\n",
       "<style scoped>\n",
       "    .dataframe tbody tr th:only-of-type {\n",
       "        vertical-align: middle;\n",
       "    }\n",
       "\n",
       "    .dataframe tbody tr th {\n",
       "        vertical-align: top;\n",
       "    }\n",
       "\n",
       "    .dataframe thead th {\n",
       "        text-align: right;\n",
       "    }\n",
       "</style>\n",
       "<table border=\"1\" class=\"dataframe\">\n",
       "  <thead>\n",
       "    <tr style=\"text-align: right;\">\n",
       "      <th></th>\n",
       "      <th>name</th>\n",
       "      <th>km</th>\n",
       "      <th>price</th>\n",
       "      <th>year</th>\n",
       "    </tr>\n",
       "  </thead>\n",
       "  <tbody>\n",
       "    <tr>\n",
       "      <th>0</th>\n",
       "      <td>Toyota Aygo 1,0 VVT-i x 5d</td>\n",
       "      <td>35000</td>\n",
       "      <td>87900</td>\n",
       "      <td>2018</td>\n",
       "    </tr>\n",
       "    <tr>\n",
       "      <th>1</th>\n",
       "      <td>Toyota Aygo 1,0 VVT-i x-wave Sky 5d</td>\n",
       "      <td>81700</td>\n",
       "      <td>72900</td>\n",
       "      <td>2015</td>\n",
       "    </tr>\n",
       "    <tr>\n",
       "      <th>2</th>\n",
       "      <td>Toyota Aygo 1,0 VVT-i x 5d</td>\n",
       "      <td>91000</td>\n",
       "      <td>54900</td>\n",
       "      <td>2015</td>\n",
       "    </tr>\n",
       "    <tr>\n",
       "      <th>3</th>\n",
       "      <td>Toyota Aygo 1,0 VVT-i T2 Air 5d</td>\n",
       "      <td>141000</td>\n",
       "      <td>39500</td>\n",
       "      <td>2012</td>\n",
       "    </tr>\n",
       "    <tr>\n",
       "      <th>4</th>\n",
       "      <td>Toyota Aygo 1,0 VVT-i x-press 5d</td>\n",
       "      <td>2000</td>\n",
       "      <td>106900</td>\n",
       "      <td>2020</td>\n",
       "    </tr>\n",
       "  </tbody>\n",
       "</table>\n",
       "</div>"
      ],
      "text/plain": [
       "                                  name      km   price  year\n",
       "0           Toyota Aygo 1,0 VVT-i x 5d   35000   87900  2018\n",
       "1  Toyota Aygo 1,0 VVT-i x-wave Sky 5d   81700   72900  2015\n",
       "2           Toyota Aygo 1,0 VVT-i x 5d   91000   54900  2015\n",
       "3      Toyota Aygo 1,0 VVT-i T2 Air 5d  141000   39500  2012\n",
       "4     Toyota Aygo 1,0 VVT-i x-press 5d    2000  106900  2020"
      ]
     },
     "execution_count": 47,
     "metadata": {},
     "output_type": "execute_result"
    }
   ],
   "source": [
    "import pandas as pd\n",
    "\n",
    "# Import the data into a Pandas dataframe \n",
    "data = pd.DataFrame(make_me_dataframe)\n",
    "# Show the head of the dataframe \n",
    "data.head()"
   ]
  },
  {
   "cell_type": "code",
   "execution_count": 48,
   "metadata": {},
   "outputs": [
    {
     "data": {
      "text/html": [
       "<div>\n",
       "<style scoped>\n",
       "    .dataframe tbody tr th:only-of-type {\n",
       "        vertical-align: middle;\n",
       "    }\n",
       "\n",
       "    .dataframe tbody tr th {\n",
       "        vertical-align: top;\n",
       "    }\n",
       "\n",
       "    .dataframe thead th {\n",
       "        text-align: right;\n",
       "    }\n",
       "</style>\n",
       "<table border=\"1\" class=\"dataframe\">\n",
       "  <thead>\n",
       "    <tr style=\"text-align: right;\">\n",
       "      <th></th>\n",
       "      <th>km</th>\n",
       "      <th>year</th>\n",
       "    </tr>\n",
       "  </thead>\n",
       "  <tbody>\n",
       "    <tr>\n",
       "      <th>0</th>\n",
       "      <td>0.159091</td>\n",
       "      <td>0.857143</td>\n",
       "    </tr>\n",
       "    <tr>\n",
       "      <th>1</th>\n",
       "      <td>0.371364</td>\n",
       "      <td>0.642857</td>\n",
       "    </tr>\n",
       "    <tr>\n",
       "      <th>2</th>\n",
       "      <td>0.413636</td>\n",
       "      <td>0.642857</td>\n",
       "    </tr>\n",
       "    <tr>\n",
       "      <th>3</th>\n",
       "      <td>0.640909</td>\n",
       "      <td>0.428571</td>\n",
       "    </tr>\n",
       "    <tr>\n",
       "      <th>4</th>\n",
       "      <td>0.009091</td>\n",
       "      <td>1.000000</td>\n",
       "    </tr>\n",
       "  </tbody>\n",
       "</table>\n",
       "</div>"
      ],
      "text/plain": [
       "         km      year\n",
       "0  0.159091  0.857143\n",
       "1  0.371364  0.642857\n",
       "2  0.413636  0.642857\n",
       "3  0.640909  0.428571\n",
       "4  0.009091  1.000000"
      ]
     },
     "execution_count": 48,
     "metadata": {},
     "output_type": "execute_result"
    }
   ],
   "source": [
    "from sklearn import preprocessing\n",
    "import sklearn.linear_model\n",
    "\n",
    "\n",
    "#Remove outliers fra data (dataFrame)\n",
    "\n",
    "#Hint ???: df[column name'] < df['column name'].quantile(0.90)\n",
    "#outliers = gasoline[gasoline] < dataFrame['Fuel Information.Fuel Type'].quantile(0.90)\n",
    "\n",
    "## Remove outliers \n",
    "\n",
    "\n",
    "## \n",
    "\n",
    "#Only use 2 features : 'Fuel Information.Highway mpg' and 'Engine Information.Engine Statistics.Horsepower'\n",
    "\n",
    "features = data[['km', 'year']]\n",
    "\n",
    "\n",
    "#Normalize data (reduce values to be between 0 and 1)\n",
    "scaler = preprocessing.MinMaxScaler()\n",
    "names = features.columns\n",
    "d = scaler.fit_transform(features)\n",
    "scaled_df = pd.DataFrame(d, columns=names)\n",
    "scaled_df.head()\n",
    "\n"
   ]
  },
  {
   "cell_type": "code",
   "execution_count": 49,
   "metadata": {},
   "outputs": [
    {
     "name": "stdout",
     "output_type": "stream",
     "text": [
      "Coef:  [-0.72047019]\n",
      "The coef contain the coefficients for the prediction of each of the targets.\n",
      "When X = 1, Y will be 0.17707378383201833 according to our model \n"
     ]
    },
    {
     "data": {
      "text/plain": [
       "[<matplotlib.lines.Line2D at 0x7f9f1f3c8650>]"
      ]
     },
     "execution_count": 49,
     "metadata": {},
     "output_type": "execute_result"
    },
    {
     "data": {
      "image/png": "[encoded data removed]",
      "text/plain": [
       "<Figure size 432x288 with 1 Axes>"
      ]
     },
     "metadata": {
      "needs_background": "light"
     },
     "output_type": "display_data"
    }
   ],
   "source": [
    "# Perform linear regression where x = horsepower and y = mpg\n",
    "\n",
    "xs = scaled_df['km']\n",
    "ys = scaled_df['year']\n",
    "\n",
    "xs_reshape = np.array(xs).reshape(-1, 1)\n",
    "\n",
    "model = sklearn.linear_model.LinearRegression()\n",
    "model.fit(xs_reshape, ys)\n",
    "\n",
    "# What is the coefficient (slope) of your model? What does this number mean? \n",
    "print(\"Coef: \", model.coef_ , )\n",
    "print(\"The coef contain the coefficients for the prediction of each of the targets.\")\n",
    "\n",
    "# According to your model, what is y when x=1. \n",
    "predicted = model.predict(xs_reshape)\n",
    "xwheny1 = model.predict([[1]])\n",
    "print('When X = 1, Y will be {} according to our model '.format(xwheny1[0]))\n",
    "\n",
    "# Show the regression line on a scatterplot with the other datapoints.\n",
    "scaled_df.plot.scatter(x = 0, y = 1)\n",
    "\n",
    "m, b = np.polyfit(xs, ys, 1)\n",
    "plt.plot(xs, m*xs + b)\n",
    "\n",
    "\n"
   ]
  },
  {
   "cell_type": "code",
   "execution_count": 50,
   "metadata": {},
   "outputs": [
    {
     "ename": "ValueError",
     "evalue": "matmul: Input operand 1 has a mismatch in its core dimension 0, with gufunc signature (n?,k),(k,m?)->(n?,m?) (size 1 is different from 2)",
     "output_type": "error",
     "traceback": [
      "\u001b[0;31m---------------------------------------------------------------------------\u001b[0m",
      "\u001b[0;31mValueError\u001b[0m                                Traceback (most recent call last)",
      "\u001b[0;32m<ipython-input-50-f7b915a9e4bb>\u001b[0m in \u001b[0;36m<module>\u001b[0;34m\u001b[0m\n\u001b[1;32m      4\u001b[0m \u001b[0;31m# Model.predict()\u001b[0m\u001b[0;34m\u001b[0m\u001b[0;34m\u001b[0m\u001b[0;34m\u001b[0m\u001b[0m\n\u001b[1;32m      5\u001b[0m \u001b[0;34m\u001b[0m\u001b[0m\n\u001b[0;32m----> 6\u001b[0;31m \u001b[0mmodel\u001b[0m\u001b[0;34m.\u001b[0m\u001b[0mpredict\u001b[0m\u001b[0;34m(\u001b[0m\u001b[0;34m[\u001b[0m\u001b[0;34m[\u001b[0m\u001b[0;36m2012\u001b[0m\u001b[0;34m,\u001b[0m\u001b[0;36m100000\u001b[0m\u001b[0;34m]\u001b[0m\u001b[0;34m]\u001b[0m\u001b[0;34m)\u001b[0m\u001b[0;34m\u001b[0m\u001b[0;34m\u001b[0m\u001b[0m\n\u001b[0m\u001b[1;32m      7\u001b[0m \u001b[0;34m\u001b[0m\u001b[0m\n\u001b[1;32m      8\u001b[0m \u001b[0;34m\u001b[0m\u001b[0m\n",
      "\u001b[0;32m/opt/conda/lib/python3.7/site-packages/sklearn/linear_model/_base.py\u001b[0m in \u001b[0;36mpredict\u001b[0;34m(self, X)\u001b[0m\n\u001b[1;32m    223\u001b[0m             \u001b[0mReturns\u001b[0m \u001b[0mpredicted\u001b[0m \u001b[0mvalues\u001b[0m\u001b[0;34m.\u001b[0m\u001b[0;34m\u001b[0m\u001b[0;34m\u001b[0m\u001b[0m\n\u001b[1;32m    224\u001b[0m         \"\"\"\n\u001b[0;32m--> 225\u001b[0;31m         \u001b[0;32mreturn\u001b[0m \u001b[0mself\u001b[0m\u001b[0;34m.\u001b[0m\u001b[0m_decision_function\u001b[0m\u001b[0;34m(\u001b[0m\u001b[0mX\u001b[0m\u001b[0;34m)\u001b[0m\u001b[0;34m\u001b[0m\u001b[0;34m\u001b[0m\u001b[0m\n\u001b[0m\u001b[1;32m    226\u001b[0m \u001b[0;34m\u001b[0m\u001b[0m\n\u001b[1;32m    227\u001b[0m     \u001b[0m_preprocess_data\u001b[0m \u001b[0;34m=\u001b[0m \u001b[0mstaticmethod\u001b[0m\u001b[0;34m(\u001b[0m\u001b[0m_preprocess_data\u001b[0m\u001b[0;34m)\u001b[0m\u001b[0;34m\u001b[0m\u001b[0;34m\u001b[0m\u001b[0m\n",
      "\u001b[0;32m/opt/conda/lib/python3.7/site-packages/sklearn/linear_model/_base.py\u001b[0m in \u001b[0;36m_decision_function\u001b[0;34m(self, X)\u001b[0m\n\u001b[1;32m    207\u001b[0m         \u001b[0mX\u001b[0m \u001b[0;34m=\u001b[0m \u001b[0mcheck_array\u001b[0m\u001b[0;34m(\u001b[0m\u001b[0mX\u001b[0m\u001b[0;34m,\u001b[0m \u001b[0maccept_sparse\u001b[0m\u001b[0;34m=\u001b[0m\u001b[0;34m[\u001b[0m\u001b[0;34m'csr'\u001b[0m\u001b[0;34m,\u001b[0m \u001b[0;34m'csc'\u001b[0m\u001b[0;34m,\u001b[0m \u001b[0;34m'coo'\u001b[0m\u001b[0;34m]\u001b[0m\u001b[0;34m)\u001b[0m\u001b[0;34m\u001b[0m\u001b[0;34m\u001b[0m\u001b[0m\n\u001b[1;32m    208\u001b[0m         return safe_sparse_dot(X, self.coef_.T,\n\u001b[0;32m--> 209\u001b[0;31m                                dense_output=True) + self.intercept_\n\u001b[0m\u001b[1;32m    210\u001b[0m \u001b[0;34m\u001b[0m\u001b[0m\n\u001b[1;32m    211\u001b[0m     \u001b[0;32mdef\u001b[0m \u001b[0mpredict\u001b[0m\u001b[0;34m(\u001b[0m\u001b[0mself\u001b[0m\u001b[0;34m,\u001b[0m \u001b[0mX\u001b[0m\u001b[0;34m)\u001b[0m\u001b[0;34m:\u001b[0m\u001b[0;34m\u001b[0m\u001b[0;34m\u001b[0m\u001b[0m\n",
      "\u001b[0;32m/opt/conda/lib/python3.7/site-packages/sklearn/utils/extmath.py\u001b[0m in \u001b[0;36msafe_sparse_dot\u001b[0;34m(a, b, dense_output)\u001b[0m\n\u001b[1;32m    149\u001b[0m             \u001b[0mret\u001b[0m \u001b[0;34m=\u001b[0m \u001b[0mnp\u001b[0m\u001b[0;34m.\u001b[0m\u001b[0mdot\u001b[0m\u001b[0;34m(\u001b[0m\u001b[0ma\u001b[0m\u001b[0;34m,\u001b[0m \u001b[0mb\u001b[0m\u001b[0;34m)\u001b[0m\u001b[0;34m\u001b[0m\u001b[0;34m\u001b[0m\u001b[0m\n\u001b[1;32m    150\u001b[0m     \u001b[0;32melse\u001b[0m\u001b[0;34m:\u001b[0m\u001b[0;34m\u001b[0m\u001b[0;34m\u001b[0m\u001b[0m\n\u001b[0;32m--> 151\u001b[0;31m         \u001b[0mret\u001b[0m \u001b[0;34m=\u001b[0m \u001b[0ma\u001b[0m \u001b[0;34m@\u001b[0m \u001b[0mb\u001b[0m\u001b[0;34m\u001b[0m\u001b[0;34m\u001b[0m\u001b[0m\n\u001b[0m\u001b[1;32m    152\u001b[0m \u001b[0;34m\u001b[0m\u001b[0m\n\u001b[1;32m    153\u001b[0m     if (sparse.issparse(a) and sparse.issparse(b)\n",
      "\u001b[0;31mValueError\u001b[0m: matmul: Input operand 1 has a mismatch in its core dimension 0, with gufunc signature (n?,k),(k,m?)->(n?,m?) (size 1 is different from 2)"
     ]
    }
   ],
   "source": [
    "# Denomalisere data og få en værdi ud \n",
    "\n",
    "# Funktionalitet til at få pris ud fra modellen \n",
    "# Model.predict() \n",
    "\n",
    "model.predict([[2012,100000]])\n",
    "\n",
    "\n",
    "\n",
    "#unscaled = scaler.inverse_transform(scaled_df)\n",
    "#print(unscaled)"
   ]
  }
 ],
 "metadata": {
  "kernelspec": {
   "display_name": "Python 3",
   "language": "python",
   "name": "python3"
  },
  "language_info": {
   "codemirror_mode": {
    "name": "ipython",
    "version": 3
   },
   "file_extension": ".py",
   "mimetype": "text/x-python",
   "name": "python",
   "nbconvert_exporter": "python",
   "pygments_lexer": "ipython3",
   "version": "3.7.6"
  }
 },
 "nbformat": 4,
 "nbformat_minor": 4
}
