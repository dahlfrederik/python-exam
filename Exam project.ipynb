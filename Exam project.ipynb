{
 "cells": [
  {
   "cell_type": "markdown",
   "metadata": {},
   "source": [
    "## This is for the exam project\n"
   ]
  },
  {
   "cell_type": "code",
   "execution_count": 15,
   "metadata": {},
   "outputs": [],
   "source": [
    "##Imports\n",
    "from time import sleep\n",
    "from selenium import webdriver\n",
    "from selenium.webdriver.firefox.options import Options\n",
    "from bs4 import BeautifulSoup as soup\n",
    "import bs4\n",
    "import requests\n",
    "import re\n",
    "import sys\n",
    "import numpy as np"
   ]
  },
  {
   "cell_type": "markdown",
   "metadata": {},
   "source": [
    "### Numberplate to string without img handling"
   ]
  },
  {
   "cell_type": "code",
   "execution_count": 2,
   "metadata": {
    "scrolled": true
   },
   "outputs": [
    {
     "name": "stdout",
     "output_type": "stream",
     "text": [
      "BW 80 777\n",
      "\n",
      " \n",
      "\f",
      "\n"
     ]
    }
   ],
   "source": [
    "import cv2\n",
    "import pytesseract\n",
    "#pytesseract.pytesseract.tesseract_cmd = r'/usr/bin/tesseract'\n",
    "pytesseract.pytesseract.tesseract_cmd = r'/opt/homebrew/Cellar/tesseract/4.1.1/bin/tesseract'\n",
    "img = cv2.imread(\"./images/numberplate3.png\")\n",
    "text = pytesseract.image_to_string(img)\n",
    "print(text)\n"
   ]
  },
  {
   "cell_type": "markdown",
   "metadata": {},
   "source": [
    "### Numberplate to string"
   ]
  },
  {
   "cell_type": "code",
   "execution_count": 29,
   "metadata": {
    "scrolled": false
   },
   "outputs": [
    {
     "name": "stdout",
     "output_type": "stream",
     "text": [
      "Nummerpladen er: CM58 541\n",
      "\f",
      "\n"
     ]
    },
    {
     "data": {
      "image/png": "[encoded data removed]",
      "text/plain": [
       "<Figure size 432x288 with 1 Axes>"
      ]
     },
     "metadata": {
      "needs_background": "light"
     },
     "output_type": "display_data"
    }
   ],
   "source": [
    "import cv2\n",
    "import imutils\n",
    "import numpy as np\n",
    "from matplotlib import pyplot as plt\n",
    "import pytesseract\n",
    "\n",
    "#Windows\n",
    "pytesseract.pytesseract.tesseract_cmd = r'/usr/bin/tesseract'\n",
    "\n",
    "#M1\n",
    "#ytesseract.pytesseract.tesseract_cmd = r'/opt/homebrew/Cellar/tesseract/4.1.1/bin/tesseract'\n",
    "\n",
    "#Import image and resize it\n",
    "img = cv2.imread('./images/aygo2.png', cv2.IMREAD_COLOR)\n",
    "img = imutils.resize(img, width=610)\n",
    "\n",
    "#Gray scale \n",
    "gray = cv2.cvtColor(img, cv2.COLOR_BGR2GRAY)\n",
    "\n",
    "#Blur to reduce noise\n",
    "gray = cv2.bilateralFilter(gray, 13, 15, 15)\n",
    "\n",
    "#Edge detection\n",
    "edged = cv2.Canny(gray, 30, 200)\n",
    "\n",
    "contours = cv2.findContours(edged.copy(), cv2.RETR_TREE, cv2.CHAIN_APPROX_SIMPLE)\n",
    "contours = imutils.grab_contours(contours)\n",
    "contours = sorted(contours, key = cv2.contourArea, reverse = True)[:10]\n",
    "screenCnt = None\n",
    "\n",
    "#Find contours in the edged image\n",
    "(cnts, _) = cv2.findContours(edged.copy(), cv2.RETR_LIST, cv2.CHAIN_APPROX_SIMPLE)\n",
    "cnts=sorted(cnts, key = cv2.contourArea, reverse = True)[:30]\n",
    "\n",
    "NumberPlateCnt = None \n",
    "count = 0\n",
    "#Loop over contours\n",
    "for c in cnts:\n",
    "\t#Approximate the contour\n",
    "    peri = cv2.arcLength(c, True)\n",
    "    approx = cv2.approxPolyDP(c, 0.02 * peri, True)\n",
    "    #If the approximated contour has four points, then assume that screen is found\n",
    "    if len(approx) == 4:  \n",
    "        NumberPlateCnt = approx \n",
    "        break\n",
    "\n",
    "#Mask the part other than the numberplate\n",
    "mask = np.zeros(gray.shape,np.uint8)\n",
    "new_image = cv2.drawContours(mask,[NumberPlateCnt],0,255,-1)\n",
    "new_image = cv2.bitwise_and(img,img,mask=mask)\n",
    "\n",
    "#Crop the image \n",
    "(x, y) = np.where(mask == 255)\n",
    "(topx, topy) = (np.min(x), np.min(y))\n",
    "(bottomx, bottomy) = (np.max(x), np.max(y))\n",
    "Cropped = gray[topx:bottomx+1, topy:bottomy+1]\n",
    "\n",
    "#Read the number plate\n",
    "config = ('-l eng --oem 1 --psm 3')\n",
    "text = pytesseract.image_to_string(Cropped, config=config)\n",
    "print(\"Nummerpladen er:\",text)\n",
    "plt.imshow(new_image)\n",
    "\n",
    "cv2.waitKey(0)\n",
    "cv2.destroyAllWindows() "
   ]
  },
  {
   "cell_type": "markdown",
   "metadata": {},
   "source": [
    "### Entering numberplate on nummerplade.net to find model"
   ]
  },
  {
   "cell_type": "code",
   "execution_count": 3,
   "metadata": {
    "scrolled": true
   },
   "outputs": [
    {
     "name": "stdout",
     "output_type": "stream",
     "text": [
      "Starting up..\n",
      "Got Browser\n",
      "Search Entered\n",
      "\n",
      "Preregex: KM tæller ved seneste syn: 93.000 \n",
      "Search_car_km: 93000\n",
      "Search_car_year: 2015 \n",
      "Mærke/model på søgte bil:  Toyota Aygo \n"
     ]
    }
   ],
   "source": [
    "print(\"Starting up..\")\n",
    "profile = webdriver.FirefoxProfile()\n",
    "profile.set_preference(\"general.useragent.override\", \"Mozilla/5.0 (X11; Ubuntu; Linux x86_64; rv:81.0) Gecko/20100101 Firefox/81.0\")\n",
    "options = Options()\n",
    "options.headless = True\n",
    "\n",
    "#M1\n",
    "#browser = webdriver.Chrome(executable_path=\"/Users/frederikdahl/chromedriver/chromedriver\")\n",
    "\n",
    "#Windows\n",
    "browser = webdriver.Firefox(options=options)\n",
    "\n",
    "browser.get(\"https://www.nummerplade.net/\")\n",
    "\n",
    "print(\"Got Browser\")\n",
    "\n",
    "browser.implicitly_wait(3)\n",
    "\n",
    "#cookie_button = browser.find_element_by_css_selector('div.coi-banner__page-footer:nth-child(2) > button:nth-child(2)')\n",
    "#cookie_button.click()\n",
    "#print(\"Cookie Button Clicked..\")\n",
    "#sleep(3) \n",
    "\n",
    "search_field = browser.find_element_by_id('search_regnr')\n",
    "\n",
    "search_field.send_keys(text)\n",
    "#search_field.send_keys(\"CM 58 541\")\n",
    "\n",
    "button = browser.find_element_by_id('search_regnr_button')\n",
    "button.click()\n",
    "print(\"Search Entered\")\n",
    "sleep(3)\n",
    "\n",
    "print()\n",
    "\n",
    "page_source = browser.page_source\n",
    "page_soup = soup(page_source,'html.parser')\n",
    "res = page_soup.select_one(\"#maerke\").text +\" \"+ page_soup.select_one(\"#model\").text + \" \"\n",
    "\n",
    "page_source = browser.page_source\n",
    "page_soup = soup(page_source,'html.parser')\n",
    "search_car_year = page_soup.select_one(\"#model_aar\").text +\" \" \n",
    "search_car_km = page_soup.select_one(\"#box-overblik-data-overblik_kmcheck > div > small\").text + \" \"\n",
    "print(\"Preregex: \" + search_car_km)\n",
    "\n",
    "filter_search_km = re.sub(\"[^0-9]+\", \"\",search_car_km)\n",
    "search_car_km = filter_search_km\n",
    "\n",
    "\n",
    "print(\"Search_car_km: \" + search_car_km)\n",
    "print(\"Search_car_year: \" + search_car_year)\n",
    "print(\"Mærke/model på søgte bil: \", res)\n",
    "browser.quit()"
   ]
  },
  {
   "cell_type": "markdown",
   "metadata": {},
   "source": [
    "### Searching for model on bilbasen to get model,price,km, "
   ]
  },
  {
   "cell_type": "code",
   "execution_count": 4,
   "metadata": {},
   "outputs": [
    {
     "name": "stdout",
     "output_type": "stream",
     "text": [
      "Starting up...\n",
      "Got Browser\n",
      "Cookie Button Clicked\n",
      "Leasing Button Clicked\n",
      "Search Bar Entered\n",
      "Searching for: Toyota Aygo \n",
      "Souping Site\n",
      "\n",
      "Cars found: 32\n",
      "{'name': 'Toyota Aygo 1,0 VVT-i T2 Air Connect 5d', 'km': 104000, 'price': '46900', 'year': 2014}\n",
      "{'name': 'Toyota Aygo 1,0  5d', 'km': 205000, 'price': '26400', 'year': 2010}\n",
      "{'name': 'Toyota Aygo 1,0 VVT-i T1 5d', 'km': 138000, 'price': '39900', 'year': 2012}\n",
      "{'name': 'Toyota Aygo 1,0 VVT-i x-play Touch 5d', 'km': 57000, 'price': '59990', 'year': 2015}\n",
      "{'name': 'Toyota Aygo 1,0 VVT-i x-play Touch 5d', 'km': 113000, 'price': '64900', 'year': 2015}\n",
      "{'name': 'Toyota Aygo 1,0 VVT-i Black&White 5d', 'km': 179000, 'price': '35000', 'year': 2014}\n",
      "{'name': 'Toyota Aygo 1,0 VVT-i x 5d', 'km': 35000, 'price': '87900', 'year': 2018}\n",
      "{'name': 'Toyota Aygo 1,0 VVT-i x-wave Sky 5d', 'km': 81700, 'price': '72900', 'year': 2015}\n",
      "{'name': 'Toyota Aygo 1,0 VVT-i x 5d', 'km': 91000, 'price': '54900', 'year': 2015}\n",
      "{'name': 'Toyota Aygo 1,0 VVT-i T2 Air 5d', 'km': 141000, 'price': '39500', 'year': 2012}\n",
      "{'name': 'Toyota Aygo 1,0 VVT-i x-press 5d', 'km': 2000, 'price': '106900', 'year': 2020}\n",
      "{'name': 'Toyota Aygo 1,0 VVT-i x-press 5d', 'km': 0, 'price': '111990', 'year': 2020}\n",
      "{'name': 'Toyota Aygo 1,0 VVT-i x-press 5d', 'km': 57000, 'price': '64900', 'year': 2015}\n",
      "{'name': 'Toyota Aygo 1,0 VVT-i x-sky 5d', 'km': 69000, 'price': '74900', 'year': 2015}\n",
      "{'name': 'Toyota Aygo 1,0 VVT-i x-press 5d', 'km': 78000, 'price': '64900', 'year': 2016}\n",
      "{'name': 'Toyota Aygo 1,0 VVT-i x-plore x-shift 5d', 'km': 18000, 'price': '104900', 'year': 2018}\n",
      "{'name': 'Toyota Aygo 1,0 VVT-i T3 5d', 'km': 54000, 'price': '44900', 'year': 2012}\n",
      "{'name': 'Toyota Aygo 1,0 VVT-i x 5d', 'km': 4000, 'price': '94900', 'year': 2019}\n",
      "{'name': 'Toyota Aygo 1,0 VVT-i x-play 5d', 'km': 59000, 'price': '69900', 'year': 2017}\n",
      "{'name': 'Toyota Aygo 1,0 VVT-i x-plore 5d', 'km': 4000, 'price': '99900', 'year': 2019}\n",
      "{'name': 'Toyota Aygo 1,0 VVT-i x-clusiv 5d', 'km': 21000, 'price': '99900', 'year': 2019}\n",
      "{'name': 'Toyota Aygo 1,0 VVT-i x-black 5d', 'km': 27000, 'price': '79900', 'year': 2017}\n",
      "{'name': 'Toyota Aygo 1,0 VVT-i T2 Air 5d', 'km': 105000, 'price': '37900', 'year': 2012}\n",
      "{'name': 'Toyota Aygo 1,0 VVT-i x-sky 5d', 'km': 39000, 'price': '79900', 'year': 2015}\n",
      "{'name': 'Toyota Aygo 1,0 VVT-i T2 Air 5d', 'km': 127000, 'price': '49900', 'year': 2013}\n",
      "{'name': 'Toyota Aygo 1,0 VVT-i x-play 5d', 'km': 64000, 'price': '77900', 'year': 2015}\n",
      "{'name': 'Toyota Aygo 1,0 VVT-i x-wave Sky 5d', 'km': 156000, 'price': '54900', 'year': 2015}\n",
      "{'name': 'Toyota Aygo 1,0 VVT-i x-style 5d', 'km': 9000, 'price': '109895', 'year': 2019}\n",
      "{'name': 'Toyota Aygo 1,0 VVT-i x-pose 5d', 'km': 52000, 'price': '79980', 'year': 2017}\n",
      "{'name': 'Toyota Aygo 1,0 Plus 5d', 'km': 137000, 'price': '24900', 'year': 2006}\n",
      "{'name': 'Toyota Aygo 1,0 VVT-i T2 Air+ 5d', 'km': 38723, 'price': '54900', 'year': 2014}\n",
      "{'name': 'Toyota Aygo 1,0 VVT-i x-press 5d', 'km': 54000, 'price': '56900', 'year': 2014}\n"
     ]
    }
   ],
   "source": [
    "base_url = 'https://www.bilbasen.dk/'\n",
    "\n",
    "class my_car:\n",
    "    def __init__(self, url):\n",
    "        self.base_url = url\n",
    "        self.car_list = []\n",
    "        \n",
    "        print(\"Starting up...\")\n",
    "        \n",
    "        profile = webdriver.FirefoxProfile()\n",
    "        profile.set_preference(\"general.useragent.override\", \"Mozilla/5.0 (X11; Ubuntu; Linux x86_64; rv:81.0) Gecko/20100101 Firefox/81.0\")\n",
    "        options = Options()\n",
    "        options.headless = True\n",
    "        \n",
    "        #Windows\n",
    "        self.browser = webdriver.Firefox(options=options)\n",
    "        \n",
    "        #M1 \n",
    "        #self.browser  = webdriver.Chrome(executable_path=\"/Users/frederikdahl/chromedriver/chromedriver\")\n",
    "        \n",
    "        self.browser.get(self.base_url)\n",
    "        print(\"Got Browser\")\n",
    "        \n",
    "        self.browser.implicitly_wait(3)\n",
    "        \n",
    "    def click_cookie_button(self):\n",
    "        try:\n",
    "            cookie_button = self.browser.find_element_by_id('onetrust-accept-btn-handler')\n",
    "            try:\n",
    "                cookie_button.click()\n",
    "                print(\"Cookie Button Clicked\")\n",
    "                sleep(3)   \n",
    "            except Exception as err:\n",
    "                print('Error With Cookie Button:', err)\n",
    "        except Exception as err:\n",
    "            print(err)\n",
    "            \n",
    "    def click_leasing_button(self):\n",
    "        try:\n",
    "            leasing_button = self.browser.find_element_by_css_selector(\"label[data-track-action='leasing-toggle']\")\n",
    "            try:\n",
    "                leasing_button.click()\n",
    "                print(\"Leasing Button Clicked\")\n",
    "                sleep(3)   \n",
    "            except Exception as err:\n",
    "                print('Error With Leasing Button:', err)\n",
    "        except Exception as err:\n",
    "            print(err)\n",
    "        \n",
    "    def search_in_search_bar(self, search_text):\n",
    "        try:\n",
    "            search_field = self.browser.find_element_by_class_name('react-autosuggest__input')\n",
    "            search_field.send_keys(search_text)\n",
    "            search_field.submit()\n",
    "            print(\"Search Bar Entered\")\n",
    "            sleep(3)\n",
    "\n",
    "        except Exception as err:\n",
    "            print('Error with Search', err)\n",
    "\n",
    "    def get_car_list(self):\n",
    "        print(\"Souping Site\")\n",
    "        print()\n",
    "        page_source = self.browser.page_source\n",
    "        page_soup = soup(page_source,'html.parser')\n",
    "        car_list_plus = page_soup.findAll(\"div\",{\"class\":\"row listing listing-plus bb-listing-clickable\"})\n",
    "        car_list_discount = page_soup.findAll(\"div\",{\"class\":\"row listing listing-discount bb-listing-clickable\"})\n",
    "        full_list = car_list_plus + car_list_discount\n",
    "        print(\"Cars found: \" + str(len(full_list)))\n",
    "        for car in full_list:\n",
    "            name = car.find(\"a\",{\"class\":\"listing-heading darkLink\"}).contents[0]\n",
    "            km = int(car.findAll(\"div\",{\"class\":\"col-xs-2 listing-data\"})[1].contents[0].replace('.',''))\n",
    "            price = car.find(\"div\",{\"class\":\"col-xs-3 listing-price\"}).contents[0].replace(' kr.','').replace('.','')\n",
    "            year = int(car.findAll(\"div\",{\"class\":\"col-xs-2 listing-data\"})[2].contents[0])\n",
    "            car_info = {\"name\": name, \"km\": km, \"price\": price, \"year\": year}\n",
    "            self.car_list.append(car_info)\n",
    "            print(car_info) \n",
    "            \n",
    "    def close_browser(self):\n",
    "        self.browser.close()\n",
    "    \n",
    "bilbasen = my_car(base_url)\n",
    "bilbasen.click_cookie_button()\n",
    "bilbasen.click_leasing_button()\n",
    "bilbasen.search_in_search_bar(res)\n",
    "print(\"Searching for: \" + res)\n",
    "bilbasen.get_car_list()\n",
    "bilbasen.close_browser()\n",
    "make_me_dataframe = bilbasen.car_list"
   ]
  },
  {
   "cell_type": "code",
   "execution_count": 5,
   "metadata": {
    "scrolled": true
   },
   "outputs": [
    {
     "data": {
      "text/html": [
       "<div>\n",
       "<style scoped>\n",
       "    .dataframe tbody tr th:only-of-type {\n",
       "        vertical-align: middle;\n",
       "    }\n",
       "\n",
       "    .dataframe tbody tr th {\n",
       "        vertical-align: top;\n",
       "    }\n",
       "\n",
       "    .dataframe thead th {\n",
       "        text-align: right;\n",
       "    }\n",
       "</style>\n",
       "<table border=\"1\" class=\"dataframe\">\n",
       "  <thead>\n",
       "    <tr style=\"text-align: right;\">\n",
       "      <th></th>\n",
       "      <th>name</th>\n",
       "      <th>km</th>\n",
       "      <th>price</th>\n",
       "      <th>year</th>\n",
       "    </tr>\n",
       "  </thead>\n",
       "  <tbody>\n",
       "    <tr>\n",
       "      <th>0</th>\n",
       "      <td>Toyota Aygo 1,0 VVT-i T2 Air Connect 5d</td>\n",
       "      <td>104000</td>\n",
       "      <td>46900</td>\n",
       "      <td>2014</td>\n",
       "    </tr>\n",
       "    <tr>\n",
       "      <th>1</th>\n",
       "      <td>Toyota Aygo 1,0  5d</td>\n",
       "      <td>205000</td>\n",
       "      <td>26400</td>\n",
       "      <td>2010</td>\n",
       "    </tr>\n",
       "    <tr>\n",
       "      <th>2</th>\n",
       "      <td>Toyota Aygo 1,0 VVT-i T1 5d</td>\n",
       "      <td>138000</td>\n",
       "      <td>39900</td>\n",
       "      <td>2012</td>\n",
       "    </tr>\n",
       "    <tr>\n",
       "      <th>3</th>\n",
       "      <td>Toyota Aygo 1,0 VVT-i x-play Touch 5d</td>\n",
       "      <td>57000</td>\n",
       "      <td>59990</td>\n",
       "      <td>2015</td>\n",
       "    </tr>\n",
       "    <tr>\n",
       "      <th>4</th>\n",
       "      <td>Toyota Aygo 1,0 VVT-i x-play Touch 5d</td>\n",
       "      <td>113000</td>\n",
       "      <td>64900</td>\n",
       "      <td>2015</td>\n",
       "    </tr>\n",
       "  </tbody>\n",
       "</table>\n",
       "</div>"
      ],
      "text/plain": [
       "                                      name      km  price  year\n",
       "0  Toyota Aygo 1,0 VVT-i T2 Air Connect 5d  104000  46900  2014\n",
       "1                      Toyota Aygo 1,0  5d  205000  26400  2010\n",
       "2              Toyota Aygo 1,0 VVT-i T1 5d  138000  39900  2012\n",
       "3    Toyota Aygo 1,0 VVT-i x-play Touch 5d   57000  59990  2015\n",
       "4    Toyota Aygo 1,0 VVT-i x-play Touch 5d  113000  64900  2015"
      ]
     },
     "execution_count": 5,
     "metadata": {},
     "output_type": "execute_result"
    }
   ],
   "source": [
    "import pandas as pd\n",
    "\n",
    "# Import the data into a Pandas dataframe \n",
    "data = pd.DataFrame(make_me_dataframe)\n",
    "# Show the head of the dataframe \n",
    "data.head()"
   ]
  },
  {
   "cell_type": "code",
   "execution_count": 6,
   "metadata": {},
   "outputs": [
    {
     "data": {
      "text/html": [
       "<div>\n",
       "<style scoped>\n",
       "    .dataframe tbody tr th:only-of-type {\n",
       "        vertical-align: middle;\n",
       "    }\n",
       "\n",
       "    .dataframe tbody tr th {\n",
       "        vertical-align: top;\n",
       "    }\n",
       "\n",
       "    .dataframe thead th {\n",
       "        text-align: right;\n",
       "    }\n",
       "</style>\n",
       "<table border=\"1\" class=\"dataframe\">\n",
       "  <thead>\n",
       "    <tr style=\"text-align: right;\">\n",
       "      <th></th>\n",
       "      <th>km</th>\n",
       "      <th>year</th>\n",
       "      <th>price</th>\n",
       "    </tr>\n",
       "  </thead>\n",
       "  <tbody>\n",
       "    <tr>\n",
       "      <th>0</th>\n",
       "      <td>0.507317</td>\n",
       "      <td>0.571429</td>\n",
       "      <td>0.252612</td>\n",
       "    </tr>\n",
       "    <tr>\n",
       "      <th>1</th>\n",
       "      <td>1.000000</td>\n",
       "      <td>0.285714</td>\n",
       "      <td>0.017224</td>\n",
       "    </tr>\n",
       "    <tr>\n",
       "      <th>2</th>\n",
       "      <td>0.673171</td>\n",
       "      <td>0.428571</td>\n",
       "      <td>0.172236</td>\n",
       "    </tr>\n",
       "    <tr>\n",
       "      <th>3</th>\n",
       "      <td>0.278049</td>\n",
       "      <td>0.642857</td>\n",
       "      <td>0.402917</td>\n",
       "    </tr>\n",
       "    <tr>\n",
       "      <th>4</th>\n",
       "      <td>0.551220</td>\n",
       "      <td>0.642857</td>\n",
       "      <td>0.459295</td>\n",
       "    </tr>\n",
       "  </tbody>\n",
       "</table>\n",
       "</div>"
      ],
      "text/plain": [
       "         km      year     price\n",
       "0  0.507317  0.571429  0.252612\n",
       "1  1.000000  0.285714  0.017224\n",
       "2  0.673171  0.428571  0.172236\n",
       "3  0.278049  0.642857  0.402917\n",
       "4  0.551220  0.642857  0.459295"
      ]
     },
     "execution_count": 6,
     "metadata": {},
     "output_type": "execute_result"
    }
   ],
   "source": [
    "from sklearn import preprocessing\n",
    "import sklearn.linear_model\n",
    "\n",
    "\n",
    "#Remove outliers fra data (dataFrame)\n",
    "\n",
    "#Hint ???: df[column name'] < df['column name'].quantile(0.90)\n",
    "#outliers = gasoline[gasoline] < dataFrame['Fuel Information.Fuel Type'].quantile(0.90)\n",
    "\n",
    "## Remove outliers \n",
    "\n",
    "\n",
    "## \n",
    "\n",
    "#Only use 2 features : 'Fuel Information.Highway mpg' and 'Engine Information.Engine Statistics.Horsepower'\n",
    "\n",
    "features = data[['km', 'year', 'price']]\n",
    "\n",
    "\n",
    "#Normalize data (reduce values to be between 0 and 1)\n",
    "scaler = preprocessing.MinMaxScaler()\n",
    "names = features.columns\n",
    "d = scaler.fit_transform(features)\n",
    "scaled_df = pd.DataFrame(d, columns=names)\n",
    "scaled_df.head()\n",
    "\n"
   ]
  },
  {
   "cell_type": "code",
   "execution_count": 7,
   "metadata": {},
   "outputs": [
    {
     "data": {
      "text/html": [
       "<div>\n",
       "<style scoped>\n",
       "    .dataframe tbody tr th:only-of-type {\n",
       "        vertical-align: middle;\n",
       "    }\n",
       "\n",
       "    .dataframe tbody tr th {\n",
       "        vertical-align: top;\n",
       "    }\n",
       "\n",
       "    .dataframe thead th {\n",
       "        text-align: right;\n",
       "    }\n",
       "</style>\n",
       "<table border=\"1\" class=\"dataframe\">\n",
       "  <thead>\n",
       "    <tr style=\"text-align: right;\">\n",
       "      <th></th>\n",
       "      <th>km</th>\n",
       "      <th>year</th>\n",
       "    </tr>\n",
       "  </thead>\n",
       "  <tbody>\n",
       "    <tr>\n",
       "      <th>count</th>\n",
       "      <td>32.000000</td>\n",
       "      <td>32.000000</td>\n",
       "    </tr>\n",
       "    <tr>\n",
       "      <th>mean</th>\n",
       "      <td>72481.968750</td>\n",
       "      <td>2015.218750</td>\n",
       "    </tr>\n",
       "    <tr>\n",
       "      <th>std</th>\n",
       "      <td>54768.431961</td>\n",
       "      <td>3.076806</td>\n",
       "    </tr>\n",
       "    <tr>\n",
       "      <th>min</th>\n",
       "      <td>0.000000</td>\n",
       "      <td>2006.000000</td>\n",
       "    </tr>\n",
       "    <tr>\n",
       "      <th>25%</th>\n",
       "      <td>33000.000000</td>\n",
       "      <td>2014.000000</td>\n",
       "    </tr>\n",
       "    <tr>\n",
       "      <th>50%</th>\n",
       "      <td>58000.000000</td>\n",
       "      <td>2015.000000</td>\n",
       "    </tr>\n",
       "    <tr>\n",
       "      <th>75%</th>\n",
       "      <td>107000.000000</td>\n",
       "      <td>2017.250000</td>\n",
       "    </tr>\n",
       "    <tr>\n",
       "      <th>max</th>\n",
       "      <td>205000.000000</td>\n",
       "      <td>2020.000000</td>\n",
       "    </tr>\n",
       "  </tbody>\n",
       "</table>\n",
       "</div>"
      ],
      "text/plain": [
       "                  km         year\n",
       "count      32.000000    32.000000\n",
       "mean    72481.968750  2015.218750\n",
       "std     54768.431961     3.076806\n",
       "min         0.000000  2006.000000\n",
       "25%     33000.000000  2014.000000\n",
       "50%     58000.000000  2015.000000\n",
       "75%    107000.000000  2017.250000\n",
       "max    205000.000000  2020.000000"
      ]
     },
     "execution_count": 7,
     "metadata": {},
     "output_type": "execute_result"
    }
   ],
   "source": [
    "# Describing the data \n",
    "data.describe()"
   ]
  },
  {
   "cell_type": "code",
   "execution_count": 8,
   "metadata": {},
   "outputs": [],
   "source": [
    "# Setting X (km and year) and Y (price)\n",
    "\n",
    "X = data[['km', 'year']]\n",
    "y = data['price']\n",
    "\n",
    "\n",
    "# Dividing data into training and test sets \n",
    "from sklearn.model_selection import train_test_split\n",
    "X_train, X_test, y_train, y_test = train_test_split(X, y, test_size=0.2, random_state=0)"
   ]
  },
  {
   "cell_type": "code",
   "execution_count": 9,
   "metadata": {},
   "outputs": [
    {
     "data": {
      "text/plain": [
       "LinearRegression(copy_X=True, fit_intercept=True, n_jobs=None, normalize=False)"
      ]
     },
     "execution_count": 9,
     "metadata": {},
     "output_type": "execute_result"
    }
   ],
   "source": [
    "# Training the model\n",
    "from sklearn.linear_model import LinearRegression\n",
    "regressor = LinearRegression()\n",
    "regressor.fit(X_train, y_train)"
   ]
  },
  {
   "cell_type": "code",
   "execution_count": 10,
   "metadata": {},
   "outputs": [
    {
     "data": {
      "text/html": [
       "<div>\n",
       "<style scoped>\n",
       "    .dataframe tbody tr th:only-of-type {\n",
       "        vertical-align: middle;\n",
       "    }\n",
       "\n",
       "    .dataframe tbody tr th {\n",
       "        vertical-align: top;\n",
       "    }\n",
       "\n",
       "    .dataframe thead th {\n",
       "        text-align: right;\n",
       "    }\n",
       "</style>\n",
       "<table border=\"1\" class=\"dataframe\">\n",
       "  <thead>\n",
       "    <tr style=\"text-align: right;\">\n",
       "      <th></th>\n",
       "      <th>Coefficient</th>\n",
       "    </tr>\n",
       "  </thead>\n",
       "  <tbody>\n",
       "    <tr>\n",
       "      <th>km</th>\n",
       "      <td>-0.191035</td>\n",
       "    </tr>\n",
       "    <tr>\n",
       "      <th>year</th>\n",
       "      <td>4431.606272</td>\n",
       "    </tr>\n",
       "  </tbody>\n",
       "</table>\n",
       "</div>"
      ],
      "text/plain": [
       "      Coefficient\n",
       "km      -0.191035\n",
       "year  4431.606272"
      ]
     },
     "execution_count": 10,
     "metadata": {},
     "output_type": "execute_result"
    }
   ],
   "source": [
    "# Showing coefficient\n",
    "\n",
    "coeff_df = pd.DataFrame(regressor.coef_, X.columns, columns=['Coefficient'])\n",
    "coeff_df"
   ]
  },
  {
   "cell_type": "code",
   "execution_count": 11,
   "metadata": {},
   "outputs": [
    {
     "data": {
      "text/plain": [
       "-8848301.589181408"
      ]
     },
     "execution_count": 11,
     "metadata": {},
     "output_type": "execute_result"
    }
   ],
   "source": [
    "# Showing interception with y\n",
    "\n",
    "intercept = regressor.intercept_\n",
    "intercept"
   ]
  },
  {
   "cell_type": "code",
   "execution_count": 12,
   "metadata": {},
   "outputs": [
    {
     "data": {
      "text/html": [
       "<div>\n",
       "<style scoped>\n",
       "    .dataframe tbody tr th:only-of-type {\n",
       "        vertical-align: middle;\n",
       "    }\n",
       "\n",
       "    .dataframe tbody tr th {\n",
       "        vertical-align: top;\n",
       "    }\n",
       "\n",
       "    .dataframe thead th {\n",
       "        text-align: right;\n",
       "    }\n",
       "</style>\n",
       "<table border=\"1\" class=\"dataframe\">\n",
       "  <thead>\n",
       "    <tr style=\"text-align: right;\">\n",
       "      <th></th>\n",
       "      <th>Actual</th>\n",
       "      <th>Predicted</th>\n",
       "    </tr>\n",
       "  </thead>\n",
       "  <tbody>\n",
       "    <tr>\n",
       "      <th>11</th>\n",
       "      <td>111990</td>\n",
       "      <td>103543.080878</td>\n",
       "    </tr>\n",
       "    <tr>\n",
       "      <th>22</th>\n",
       "      <td>37900</td>\n",
       "      <td>48031.605748</td>\n",
       "    </tr>\n",
       "    <tr>\n",
       "      <th>10</th>\n",
       "      <td>106900</td>\n",
       "      <td>103161.011831</td>\n",
       "    </tr>\n",
       "    <tr>\n",
       "      <th>2</th>\n",
       "      <td>39900</td>\n",
       "      <td>41727.466478</td>\n",
       "    </tr>\n",
       "    <tr>\n",
       "      <th>16</th>\n",
       "      <td>44900</td>\n",
       "      <td>57774.366439</td>\n",
       "    </tr>\n",
       "    <tr>\n",
       "      <th>14</th>\n",
       "      <td>64900</td>\n",
       "      <td>70915.962968</td>\n",
       "    </tr>\n",
       "    <tr>\n",
       "      <th>28</th>\n",
       "      <td>79980</td>\n",
       "      <td>80314.466847</td>\n",
       "    </tr>\n",
       "  </tbody>\n",
       "</table>\n",
       "</div>"
      ],
      "text/plain": [
       "    Actual      Predicted\n",
       "11  111990  103543.080878\n",
       "22   37900   48031.605748\n",
       "10  106900  103161.011831\n",
       "2    39900   41727.466478\n",
       "16   44900   57774.366439\n",
       "14   64900   70915.962968\n",
       "28   79980   80314.466847"
      ]
     },
     "execution_count": 12,
     "metadata": {},
     "output_type": "execute_result"
    }
   ],
   "source": [
    "# Predicting the results  \n",
    "y_pred = regressor.predict(X_test) \n",
    "\n",
    "df = pd.DataFrame({'Actual': y_test, 'Predicted': y_pred})\n",
    "df"
   ]
  },
  {
   "cell_type": "code",
   "execution_count": null,
   "metadata": {},
   "outputs": [],
   "source": [
    "\"\"\"\"import matplotlib.pyplot as plt\n",
    "X_pred = [2010,2011,2012,2013,2014,2015,2016]\n",
    "\n",
    "plt.style.use('default')\n",
    "plt.style.use('ggplot')\n",
    "\n",
    "fig, ax = plt.subplots(figsize=(7, 3.5))\n",
    "\n",
    "ax.plot(X_pred, y_pred, color='k', label='Regression model')\n",
    "ax.scatter(X, y, edgecolor='k', facecolor='grey', alpha=0.7, label='Sample data')\n",
    "ax.set_ylabel('Price', fontsize=14)\n",
    "ax.set_xlabel('KM and production year', fontsize=14)\n",
    "ax.legend(facecolor='white', fontsize=11)\n",
    "ax.text(0.55, 0.15, '$y = %.2f x_1 - %.2f $' % (regressor.coef_[0], abs(regressor.intercept_)), fontsize=17, transform=ax.transAxes)\n",
    "\n",
    "fig.tight_layout()\"\"\"\""
   ]
  },
  {
   "cell_type": "code",
   "execution_count": 13,
   "metadata": {},
   "outputs": [
    {
     "name": "stdout",
     "output_type": "stream",
     "text": [
      "[63618.8388453]\n"
     ]
    }
   ],
   "source": [
    "# Predicting result based on car values \n",
    "\n",
    "#Find values from the car we're searching for\n",
    "\n",
    "#search_car_km => Needs to be casted to an integer \n",
    "#search_car_year => Needs to be casted to an integer \n",
    "\n",
    "predicted_car_value = regressor.predict([[int(search_car_km),int(search_car_year)]]) \n",
    "print(predicted_car_value)"
   ]
  },
  {
   "cell_type": "code",
   "execution_count": 16,
   "metadata": {},
   "outputs": [
    {
     "name": "stdout",
     "output_type": "stream",
     "text": [
      "Mean Absolute Error: 6195.682252993009\n",
      "Mean Squared Error: 56196076.2361125\n",
      "Root Mean Squared Error: 7496.4042204321195\n"
     ]
    }
   ],
   "source": [
    "# Data analysis of what and how accurate the data was \n",
    "\n",
    "# Vi skal kunne forklare de her tal, de er gode. Men øøøh :) \n",
    "# Se bunden af artiklen: https://stackabuse.com/linear-regression-in-python-with-scikit-learn/\n",
    "\n",
    "from sklearn import metrics\n",
    "print('Mean Absolute Error:', metrics.mean_absolute_error(y_test, y_pred))\n",
    "print('Mean Squared Error:', metrics.mean_squared_error(y_test, y_pred))\n",
    "print('Root Mean Squared Error:', np.sqrt(metrics.mean_squared_error(y_test, y_pred)))"
   ]
  }
 ],
 "metadata": {
  "kernelspec": {
   "display_name": "Python 3",
   "language": "python",
   "name": "python3"
  },
  "language_info": {
   "codemirror_mode": {
    "name": "ipython",
    "version": 3
   },
   "file_extension": ".py",
   "mimetype": "text/x-python",
   "name": "python",
   "nbconvert_exporter": "python",
   "pygments_lexer": "ipython3",
   "version": "3.7.6"
  }
 },
 "nbformat": 4,
 "nbformat_minor": 4
}
